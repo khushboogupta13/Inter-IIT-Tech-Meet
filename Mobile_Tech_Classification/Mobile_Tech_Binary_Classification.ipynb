{
  "nbformat": 4,
  "nbformat_minor": 0,
  "metadata": {
    "colab": {
      "name": "Mobile_Tech_Binary_Classification.ipynb",
      "provenance": []
    },
    "kernelspec": {
      "name": "python3",
      "display_name": "Python 3"
    }
  },
  "cells": [
    {
      "cell_type": "code",
      "metadata": {
        "id": "EAMIwEK0DD2g"
      },
      "source": [
        "import pandas as pd\n",
        "import numpy as np\n",
        "import matplotlib.pyplot as plt"
      ],
      "execution_count": null,
      "outputs": []
    },
    {
      "cell_type": "code",
      "metadata": {
        "id": "cTxNSfFfR3-g"
      },
      "source": [
        "#data_tweets = pd.read_excel(\"/content/dev_data_tweet.xlsx\")\n",
        "\n",
        "data_tweets = pd.read_excel(\"/dev_data_tweet.xlsx\")"
      ],
      "execution_count": null,
      "outputs": []
    },
    {
      "cell_type": "code",
      "metadata": {
        "colab": {
          "base_uri": "https://localhost:8080/",
          "height": 419
        },
        "id": "dGpm0c84R9kA",
        "outputId": "69c471e2-f490-44aa-b4f4-e367b470e25e"
      },
      "source": [
        "data_tweets"
      ],
      "execution_count": null,
      "outputs": [
        {
          "output_type": "execute_result",
          "data": {
            "text/html": [
              "<div>\n",
              "<style scoped>\n",
              "    .dataframe tbody tr th:only-of-type {\n",
              "        vertical-align: middle;\n",
              "    }\n",
              "\n",
              "    .dataframe tbody tr th {\n",
              "        vertical-align: top;\n",
              "    }\n",
              "\n",
              "    .dataframe thead th {\n",
              "        text-align: right;\n",
              "    }\n",
              "</style>\n",
              "<table border=\"1\" class=\"dataframe\">\n",
              "  <thead>\n",
              "    <tr style=\"text-align: right;\">\n",
              "      <th></th>\n",
              "      <th>Tweet_ID</th>\n",
              "      <th>Tweet</th>\n",
              "      <th>Mobile_Tech_Tag</th>\n",
              "    </tr>\n",
              "  </thead>\n",
              "  <tbody>\n",
              "    <tr>\n",
              "      <th>0</th>\n",
              "      <td>tweet_0001</td>\n",
              "      <td>You'll 💜 my #PitchWars book if you like: 🦋 hat...</td>\n",
              "      <td>0</td>\n",
              "    </tr>\n",
              "    <tr>\n",
              "      <th>1</th>\n",
              "      <td>tweet_0002</td>\n",
              "      <td>RT @SkySportsNews: 🚨 Breaking: #WBA have reach...</td>\n",
              "      <td>0</td>\n",
              "    </tr>\n",
              "    <tr>\n",
              "      <th>2</th>\n",
              "      <td>tweet_0003</td>\n",
              "      <td>RT @stealyoman_cuso: really says a lot about s...</td>\n",
              "      <td>0</td>\n",
              "    </tr>\n",
              "    <tr>\n",
              "      <th>3</th>\n",
              "      <td>tweet_0004</td>\n",
              "      <td>RT @PGtzsche1: HPV vaccines increased serious ...</td>\n",
              "      <td>0</td>\n",
              "    </tr>\n",
              "    <tr>\n",
              "      <th>4</th>\n",
              "      <td>tweet_0005</td>\n",
              "      <td>Ramaphosa says if you are positive you must se...</td>\n",
              "      <td>0</td>\n",
              "    </tr>\n",
              "    <tr>\n",
              "      <th>...</th>\n",
              "      <td>...</td>\n",
              "      <td>...</td>\n",
              "      <td>...</td>\n",
              "    </tr>\n",
              "    <tr>\n",
              "      <th>3995</th>\n",
              "      <td>tweet_3996</td>\n",
              "      <td>RT @ZeeNews: चीनी मोबाइल कंपनी रियलमी ने अपना ...</td>\n",
              "      <td>1</td>\n",
              "    </tr>\n",
              "    <tr>\n",
              "      <th>3996</th>\n",
              "      <td>tweet_3997</td>\n",
              "      <td>RT @ZeeNews: चीनी मोबाइल कंपनी रियलमी ने अपना ...</td>\n",
              "      <td>1</td>\n",
              "    </tr>\n",
              "    <tr>\n",
              "      <th>3997</th>\n",
              "      <td>tweet_3998</td>\n",
              "      <td>चीनी मोबाइल कंपनी रियलमी ने अपना Realme V15 5G...</td>\n",
              "      <td>1</td>\n",
              "    </tr>\n",
              "    <tr>\n",
              "      <th>3998</th>\n",
              "      <td>tweet_3999</td>\n",
              "      <td>QT @AnjaliSingh_IN: Aapne phone hi galat choos...</td>\n",
              "      <td>1</td>\n",
              "    </tr>\n",
              "    <tr>\n",
              "      <th>3999</th>\n",
              "      <td>tweet_4000</td>\n",
              "      <td>QT @ManojSaru: पर bhaib5g इंडिया में कब आयेगा।...</td>\n",
              "      <td>1</td>\n",
              "    </tr>\n",
              "  </tbody>\n",
              "</table>\n",
              "<p>4000 rows × 3 columns</p>\n",
              "</div>"
            ],
            "text/plain": [
              "        Tweet_ID  ... Mobile_Tech_Tag\n",
              "0     tweet_0001  ...               0\n",
              "1     tweet_0002  ...               0\n",
              "2     tweet_0003  ...               0\n",
              "3     tweet_0004  ...               0\n",
              "4     tweet_0005  ...               0\n",
              "...          ...  ...             ...\n",
              "3995  tweet_3996  ...               1\n",
              "3996  tweet_3997  ...               1\n",
              "3997  tweet_3998  ...               1\n",
              "3998  tweet_3999  ...               1\n",
              "3999  tweet_4000  ...               1\n",
              "\n",
              "[4000 rows x 3 columns]"
            ]
          },
          "metadata": {
            "tags": []
          },
          "execution_count": 4
        }
      ]
    },
    {
      "cell_type": "code",
      "metadata": {
        "id": "rsz4famYh1xL"
      },
      "source": [
        "data_no_duplicates = data_tweets.drop_duplicates(subset = \"Tweet\")"
      ],
      "execution_count": null,
      "outputs": []
    },
    {
      "cell_type": "code",
      "metadata": {
        "id": "FE7Vd3UPTDrw"
      },
      "source": [
        "tweet_ids = list(data_no_duplicates['Tweet_ID'])\n",
        "tweet_texts = list(data_no_duplicates['Tweet'])\n",
        "tweet_tags = list(data_no_duplicates['Mobile_Tech_Tag'])"
      ],
      "execution_count": null,
      "outputs": []
    },
    {
      "cell_type": "code",
      "metadata": {
        "id": "OCUYnVeSiHU8"
      },
      "source": [
        "non_mobile_tech = [i for i in range(len(tweet_tags)) if tweet_tags[i] == 0]"
      ],
      "execution_count": null,
      "outputs": []
    },
    {
      "cell_type": "code",
      "metadata": {
        "colab": {
          "base_uri": "https://localhost:8080/"
        },
        "id": "58pHxLUhj4fH",
        "outputId": "2dcda790-2e78-4927-e01f-da9a26f96792"
      },
      "source": [
        "len(non_mobile_tech)"
      ],
      "execution_count": null,
      "outputs": [
        {
          "output_type": "execute_result",
          "data": {
            "text/plain": [
              "1831"
            ]
          },
          "metadata": {
            "tags": []
          },
          "execution_count": 10
        }
      ]
    },
    {
      "cell_type": "code",
      "metadata": {
        "colab": {
          "base_uri": "https://localhost:8080/"
        },
        "id": "KPIi5rvpj5Rw",
        "outputId": "7e209af8-fcee-433c-d6cd-e85126d7b5a7"
      },
      "source": [
        "2400 - 1831"
      ],
      "execution_count": null,
      "outputs": [
        {
          "output_type": "execute_result",
          "data": {
            "text/plain": [
              "569"
            ]
          },
          "metadata": {
            "tags": []
          },
          "execution_count": 11
        }
      ]
    },
    {
      "cell_type": "code",
      "metadata": {
        "id": "bYnPHeOKn3-t"
      },
      "source": [
        "import random"
      ],
      "execution_count": null,
      "outputs": []
    },
    {
      "cell_type": "code",
      "metadata": {
        "id": "g2DI51bAommm"
      },
      "source": [
        "non_mobile_tech_undersampled = random.sample(non_mobile_tech, 569)"
      ],
      "execution_count": null,
      "outputs": []
    },
    {
      "cell_type": "code",
      "metadata": {
        "id": "HzREETTGowNq"
      },
      "source": [
        "ids = [tweet_ids[i] for i in non_mobile_tech_undersampled]\n",
        "texts = [tweet_texts[i] for i in non_mobile_tech_undersampled]\n",
        "flags = [tweet_tags[i] for i in non_mobile_tech_undersampled]"
      ],
      "execution_count": null,
      "outputs": []
    },
    {
      "cell_type": "code",
      "metadata": {
        "id": "bRCm1KLIqOpi"
      },
      "source": [
        "mobile_tech = [i for i in range(len(tweet_tags)) if tweet_tags[i] == 1]"
      ],
      "execution_count": null,
      "outputs": []
    },
    {
      "cell_type": "code",
      "metadata": {
        "id": "AgMGSExgqfHJ"
      },
      "source": [
        "ids += [tweet_ids[i] for i in mobile_tech]\n",
        "texts += [tweet_texts[i] for i in mobile_tech]\n",
        "flags += [tweet_tags[i] for i in mobile_tech]"
      ],
      "execution_count": null,
      "outputs": []
    },
    {
      "cell_type": "code",
      "metadata": {
        "colab": {
          "base_uri": "https://localhost:8080/"
        },
        "id": "226RJlIQqtnw",
        "outputId": "7855e751-7e77-43e6-e4a8-8ce861f423d1"
      },
      "source": [
        "len(ids), len(texts), len(flags)"
      ],
      "execution_count": null,
      "outputs": [
        {
          "output_type": "execute_result",
          "data": {
            "text/plain": [
              "(1138, 1138, 1138)"
            ]
          },
          "metadata": {
            "tags": []
          },
          "execution_count": 17
        }
      ]
    },
    {
      "cell_type": "code",
      "metadata": {
        "colab": {
          "base_uri": "https://localhost:8080/"
        },
        "id": "CZBaCiry_oLv",
        "outputId": "48c1633f-d6ee-4be7-f5b1-3ff201c04473"
      },
      "source": [
        "pip install google_trans_new"
      ],
      "execution_count": null,
      "outputs": [
        {
          "output_type": "stream",
          "text": [
            "Requirement already satisfied: google_trans_new in /usr/local/lib/python3.7/dist-packages (1.1.9)\n"
          ],
          "name": "stdout"
        }
      ]
    },
    {
      "cell_type": "code",
      "metadata": {
        "id": "5UzovlJ8_lvs"
      },
      "source": [
        "from google_trans_new import google_translator\n",
        "\n",
        "translator = google_translator()\n",
        "\n",
        "def is_ascii(s):\n",
        "    return all(ord(c) < 128 for c in s)\n",
        "\n",
        "def trans(t):\n",
        "  return translator.translate(t,lang_tgt='en') \n",
        "\n",
        "texts = [trans(i) for i in texts]"
      ],
      "execution_count": null,
      "outputs": []
    },
    {
      "cell_type": "code",
      "metadata": {
        "id": "mBwMQ9dqqzGf"
      },
      "source": [
        "data = {\"Tweet_ID\": ids, \"Tweet\": texts, \"Mobile_Tech_Tag\": flags}\n",
        "new_df = pd.DataFrame(data)"
      ],
      "execution_count": null,
      "outputs": []
    },
    {
      "cell_type": "code",
      "metadata": {
        "colab": {
          "base_uri": "https://localhost:8080/",
          "height": 419
        },
        "id": "ad6zljhNrrUy",
        "outputId": "0fa1b4e3-4b41-4e96-9e63-ee8a412f97a5"
      },
      "source": [
        "new_df"
      ],
      "execution_count": null,
      "outputs": [
        {
          "output_type": "execute_result",
          "data": {
            "text/html": [
              "<div>\n",
              "<style scoped>\n",
              "    .dataframe tbody tr th:only-of-type {\n",
              "        vertical-align: middle;\n",
              "    }\n",
              "\n",
              "    .dataframe tbody tr th {\n",
              "        vertical-align: top;\n",
              "    }\n",
              "\n",
              "    .dataframe thead th {\n",
              "        text-align: right;\n",
              "    }\n",
              "</style>\n",
              "<table border=\"1\" class=\"dataframe\">\n",
              "  <thead>\n",
              "    <tr style=\"text-align: right;\">\n",
              "      <th></th>\n",
              "      <th>Tweet_ID</th>\n",
              "      <th>Tweet</th>\n",
              "      <th>Mobile_Tech_Tag</th>\n",
              "    </tr>\n",
              "  </thead>\n",
              "  <tbody>\n",
              "    <tr>\n",
              "      <th>0</th>\n",
              "      <td>tweet_1400</td>\n",
              "      <td>RT @CommishJRod: No internet? Jammed phone lin...</td>\n",
              "      <td>0</td>\n",
              "    </tr>\n",
              "    <tr>\n",
              "      <th>1</th>\n",
              "      <td>tweet_0440</td>\n",
              "      <td>RT @jennyjenli: So mainstream media is trying ...</td>\n",
              "      <td>0</td>\n",
              "    </tr>\n",
              "    <tr>\n",
              "      <th>2</th>\n",
              "      <td>tweet_1461</td>\n",
              "      <td>@pjs0210 @TransStonk @cvillejohn18 @ewarren th...</td>\n",
              "      <td>0</td>\n",
              "    </tr>\n",
              "    <tr>\n",
              "      <th>3</th>\n",
              "      <td>tweet_0413</td>\n",
              "      <td>QT @AlArabiya_Eng: God, you said fire and brim...</td>\n",
              "      <td>0</td>\n",
              "    </tr>\n",
              "    <tr>\n",
              "      <th>4</th>\n",
              "      <td>tweet_0652</td>\n",
              "      <td>RT @gatesfoundation: In honor of #WorldNTDDay,...</td>\n",
              "      <td>0</td>\n",
              "    </tr>\n",
              "    <tr>\n",
              "      <th>...</th>\n",
              "      <td>...</td>\n",
              "      <td>...</td>\n",
              "      <td>...</td>\n",
              "    </tr>\n",
              "    <tr>\n",
              "      <th>1133</th>\n",
              "      <td>tweet_3992</td>\n",
              "      <td>#Realme has launched a Dhansu Phone # Realmev1...</td>\n",
              "      <td>1</td>\n",
              "    </tr>\n",
              "    <tr>\n",
              "      <th>1134</th>\n",
              "      <td>tweet_3993</td>\n",
              "      <td>Xiaomi Mi 10i launched in India, it is the che...</td>\n",
              "      <td>1</td>\n",
              "    </tr>\n",
              "    <tr>\n",
              "      <th>1135</th>\n",
              "      <td>tweet_3998</td>\n",
              "      <td>Chinese mobile company Realmi has launched its...</td>\n",
              "      <td>1</td>\n",
              "    </tr>\n",
              "    <tr>\n",
              "      <th>1136</th>\n",
              "      <td>tweet_3999</td>\n",
              "      <td>QT @anjalisingh_in: Aapne Phone Hi Galat Choos...</td>\n",
              "      <td>1</td>\n",
              "    </tr>\n",
              "    <tr>\n",
              "      <th>1137</th>\n",
              "      <td>tweet_4000</td>\n",
              "      <td>Qt @Manojsaru: When will you bhaib5g Come to I...</td>\n",
              "      <td>1</td>\n",
              "    </tr>\n",
              "  </tbody>\n",
              "</table>\n",
              "<p>1138 rows × 3 columns</p>\n",
              "</div>"
            ],
            "text/plain": [
              "        Tweet_ID  ... Mobile_Tech_Tag\n",
              "0     tweet_1400  ...               0\n",
              "1     tweet_0440  ...               0\n",
              "2     tweet_1461  ...               0\n",
              "3     tweet_0413  ...               0\n",
              "4     tweet_0652  ...               0\n",
              "...          ...  ...             ...\n",
              "1133  tweet_3992  ...               1\n",
              "1134  tweet_3993  ...               1\n",
              "1135  tweet_3998  ...               1\n",
              "1136  tweet_3999  ...               1\n",
              "1137  tweet_4000  ...               1\n",
              "\n",
              "[1138 rows x 3 columns]"
            ]
          },
          "metadata": {
            "tags": []
          },
          "execution_count": 192
        }
      ]
    },
    {
      "cell_type": "code",
      "metadata": {
        "id": "bTadsQ2Wrsnb"
      },
      "source": [
        "words = []\n",
        "for i in texts:\n",
        "  t = list(i.split())\n",
        "  words += t"
      ],
      "execution_count": null,
      "outputs": []
    },
    {
      "cell_type": "code",
      "metadata": {
        "colab": {
          "base_uri": "https://localhost:8080/"
        },
        "id": "W4bZTpOmxUpl",
        "outputId": "f163ec5d-70cc-41b4-b500-0f0af8d8e74a"
      },
      "source": [
        "import re\n",
        "import nltk\n",
        "nltk.download('stopwords')\n",
        "\n",
        "def is_not_ascii(s):\n",
        "    return all(ord(c) > 128 for c in s)\n",
        "\n",
        "def clean(text):\n",
        "  text = re.sub(r\"\\d\",\"\",text)\n",
        "  if ('@' in text) or (\"http\" in text):\n",
        "    return ''\n",
        "  if text.strip() in stopwords.words('english'):\n",
        "    return '' \n",
        "  if is_not_ascii(text):\n",
        "    return ''\n",
        "  text = re.sub(r'[^\\w\\s]','',text)\n",
        "  return text"
      ],
      "execution_count": null,
      "outputs": [
        {
          "output_type": "stream",
          "text": [
            "[nltk_data] Downloading package stopwords to /root/nltk_data...\n",
            "[nltk_data]   Unzipping corpora/stopwords.zip.\n"
          ],
          "name": "stdout"
        }
      ]
    },
    {
      "cell_type": "code",
      "metadata": {
        "id": "q4LZSGHVwhZ9"
      },
      "source": [
        "words = set(words)"
      ],
      "execution_count": null,
      "outputs": []
    },
    {
      "cell_type": "code",
      "metadata": {
        "id": "_DSXyEEAwlcL"
      },
      "source": [
        "words = [clean(w) for w in words if len(clean(w)) > 0]"
      ],
      "execution_count": null,
      "outputs": []
    },
    {
      "cell_type": "code",
      "metadata": {
        "colab": {
          "base_uri": "https://localhost:8080/"
        },
        "id": "Jiq7pVGvwnp_",
        "outputId": "7f643afa-45c8-44bc-fea8-f0345601e617"
      },
      "source": [
        "len(words)"
      ],
      "execution_count": null,
      "outputs": [
        {
          "output_type": "execute_result",
          "data": {
            "text/plain": [
              "9696"
            ]
          },
          "metadata": {
            "tags": []
          },
          "execution_count": 248
        }
      ]
    },
    {
      "cell_type": "code",
      "metadata": {
        "colab": {
          "base_uri": "https://localhost:8080/"
        },
        "id": "8iXx-q7RwpEj",
        "outputId": "1265e57d-41a9-4375-81f3-fc0b15d7187d"
      },
      "source": [
        "words"
      ],
      "execution_count": null,
      "outputs": [
        {
          "output_type": "execute_result",
          "data": {
            "text/plain": [
              "['market',\n",
              " 'contest',\n",
              " 'gadgets',\n",
              " 'TCoKKVGQDTTQA',\n",
              " 'depression',\n",
              " 'jama',\n",
              " 'Micromaxisback',\n",
              " 'subsidies',\n",
              " 'Bought',\n",
              " 'now',\n",
              " 'Idiot',\n",
              " 'Wi',\n",
              " 'called',\n",
              " 'Prevent',\n",
              " 'often',\n",
              " 'telling',\n",
              " 'confirmed',\n",
              " 'iPhone',\n",
              " 'G',\n",
              " 'Kahe',\n",
              " 'Horn',\n",
              " 'NIO',\n",
              " 'Micromaxinnote',\n",
              " 'Kripa',\n",
              " 'printer',\n",
              " 'Sport',\n",
              " 'Call',\n",
              " 'EP',\n",
              " 'acquired',\n",
              " 'Go',\n",
              " 'took',\n",
              " 'arabicemirates',\n",
              " 'Covid',\n",
              " 'PPF',\n",
              " 'restrict',\n",
              " 'Only',\n",
              " 'xiaomis',\n",
              " 'Haiek',\n",
              " 'nearly',\n",
              " 'dost',\n",
              " 'Gaurav',\n",
              " 'Playing',\n",
              " 'affordability',\n",
              " 'echidna',\n",
              " 'fantastic',\n",
              " 'farmers',\n",
              " 'effective',\n",
              " 'a',\n",
              " 'FamilyMeeting',\n",
              " 'WAIVING',\n",
              " 'Waters',\n",
              " 'X',\n",
              " 'expecting',\n",
              " 'streaming',\n",
              " 'meant',\n",
              " 'aramdari',\n",
              " 'them',\n",
              " 'specification',\n",
              " 'khatam',\n",
              " 'Safety',\n",
              " 'questions',\n",
              " 'lot',\n",
              " 'LGA',\n",
              " 'backup',\n",
              " 'years',\n",
              " 'sakta',\n",
              " 'variants',\n",
              " 'For',\n",
              " 'PC',\n",
              " 'paisa',\n",
              " 'deal',\n",
              " 'Eagles',\n",
              " 'Suryasahu',\n",
              " 'welcomes',\n",
              " 'LANAN',\n",
              " 'Pay',\n",
              " 'Core',\n",
              " 'play',\n",
              " 'bolunga',\n",
              " 'Though',\n",
              " 'Clark',\n",
              " 'chizo',\n",
              " 'unchanged',\n",
              " 'first',\n",
              " 'ITNI',\n",
              " 'merchant',\n",
              " 'everyday',\n",
              " 'Covid',\n",
              " 'history',\n",
              " 'Hashgraph',\n",
              " 'normal',\n",
              " 'proposed',\n",
              " 'Rufilo',\n",
              " 'Do',\n",
              " 'Sachai',\n",
              " 'Nazar',\n",
              " 'crowd',\n",
              " 'Doubts',\n",
              " 'could',\n",
              " 'Hating',\n",
              " 'cities',\n",
              " 'USME',\n",
              " 'sights',\n",
              " 'triangles',\n",
              " 'Pichle',\n",
              " 'output',\n",
              " 'duty',\n",
              " 'Reno',\n",
              " 'Npa',\n",
              " 'losers',\n",
              " 'Camera',\n",
              " 'amid',\n",
              " 'Twitter',\n",
              " 'Thanks',\n",
              " 'Krta',\n",
              " 'developmentally',\n",
              " 'forth',\n",
              " 'ANWODPHONES',\n",
              " 'Padta',\n",
              " 'DoctorThis',\n",
              " 'comes',\n",
              " 'gadget',\n",
              " 'value',\n",
              " 'visa',\n",
              " 'dedcution',\n",
              " 'employers',\n",
              " 'EndTheNeglect',\n",
              " 'quad',\n",
              " 'Again',\n",
              " 'markets',\n",
              " 'Verizon',\n",
              " 'position',\n",
              " 'symbolizes',\n",
              " 'Gshriajput_l',\n",
              " 'Muzaffarpur',\n",
              " 'padhle',\n",
              " 'starts',\n",
              " 'Alag',\n",
              " 'God',\n",
              " 'anything',\n",
              " 'Cameras',\n",
              " 'stroke',\n",
              " 'Karna',\n",
              " 'laptop',\n",
              " 'were',\n",
              " 'lose',\n",
              " 'summer',\n",
              " 'usme',\n",
              " 'Jindagibhar',\n",
              " 'political',\n",
              " 'kingfisher',\n",
              " 'January',\n",
              " 'Chrgb',\n",
              " 'Problem',\n",
              " 'PriceFixers',\n",
              " 'propertyrecords',\n",
              " 'absolute',\n",
              " 'Shame',\n",
              " 'Pak',\n",
              " 'Cards',\n",
              " 'Tatti',\n",
              " 'cheaper',\n",
              " 'Monday',\n",
              " 'Traitor',\n",
              " 'PAR',\n",
              " 'Delivery',\n",
              " 'facts',\n",
              " 'embassies',\n",
              " 'ships',\n",
              " 'Fark',\n",
              " 'Wtf',\n",
              " 'c',\n",
              " 'Baath',\n",
              " 'Huge',\n",
              " 'extended',\n",
              " 'messages',\n",
              " 'Dual',\n",
              " 'NBFC',\n",
              " 'Ministry',\n",
              " 'fake',\n",
              " 'Tag',\n",
              " 'TrendingNow',\n",
              " 'Sea',\n",
              " 'deal',\n",
              " 'answering',\n",
              " 'support',\n",
              " 'physical',\n",
              " 'Buy',\n",
              " 'lynching',\n",
              " 'Black',\n",
              " 'krni',\n",
              " 'residents',\n",
              " 'clean',\n",
              " 'House',\n",
              " 'Rupay',\n",
              " 'Hai',\n",
              " 'Woof',\n",
              " 'Price',\n",
              " 'photograph',\n",
              " 'specs',\n",
              " 'galaxyzflipg',\n",
              " 'Big',\n",
              " 'Without',\n",
              " 'BAAP',\n",
              " 'feet',\n",
              " 'many',\n",
              " 'Took',\n",
              " 'Care',\n",
              " 'MaitlandNiles',\n",
              " 'business',\n",
              " 'it',\n",
              " 'Media',\n",
              " 'Ho',\n",
              " 'respiratory',\n",
              " 'acer',\n",
              " 'poco',\n",
              " 'Urban',\n",
              " 'generation',\n",
              " 'word',\n",
              " 'dramatically',\n",
              " 'poses',\n",
              " 'Sir',\n",
              " 'package',\n",
              " 'Jara',\n",
              " 'installs',\n",
              " 'crowded',\n",
              " 'rupee',\n",
              " 'watching',\n",
              " 'trouble',\n",
              " 'SBKI',\n",
              " 'requirements',\n",
              " 'make',\n",
              " 'lezen',\n",
              " 'Milane',\n",
              " 'smartphones',\n",
              " 'xiaomimi',\n",
              " 'Juves',\n",
              " 'Issuers',\n",
              " 'Fee',\n",
              " 'education',\n",
              " 'old',\n",
              " 'security',\n",
              " 'catching',\n",
              " 'cloudpov',\n",
              " 'Prakasham',\n",
              " 'LIKELIKE',\n",
              " 'Wireless',\n",
              " 'richarlison',\n",
              " 'realism',\n",
              " 'ValentinesDay',\n",
              " 'mi',\n",
              " 'Sigh',\n",
              " 'ExpelGreene',\n",
              " 'union',\n",
              " 'OPPOEncoX',\n",
              " 'Gamers',\n",
              " 'introduced',\n",
              " 'heart',\n",
              " 'Generation',\n",
              " 'aaj',\n",
              " 'Mudra',\n",
              " 'might',\n",
              " 'already',\n",
              " 'putting',\n",
              " 'bars',\n",
              " 'Monalava',\n",
              " 'Gregory',\n",
              " 'Dega',\n",
              " 'empty',\n",
              " 'Lagti',\n",
              " 'markets',\n",
              " 'Sumitgu',\n",
              " 'Want',\n",
              " 'killing',\n",
              " 'arms',\n",
              " 'Adults',\n",
              " 'BidenHarris',\n",
              " 'unsafe',\n",
              " 'Camcorders',\n",
              " 'Aug',\n",
              " 'upcoming',\n",
              " 'Tha',\n",
              " 'inch',\n",
              " 'overflowing',\n",
              " 'Stock',\n",
              " 'standard',\n",
              " 'earnings',\n",
              " 'Edge',\n",
              " 'manners',\n",
              " 'overly',\n",
              " 'HI',\n",
              " 'bidakinaarbanamaltiparpajanidhilimiteda',\n",
              " 'period',\n",
              " 'near',\n",
              " 'Day',\n",
              " 'internet',\n",
              " 'update',\n",
              " 'became',\n",
              " 'COVID',\n",
              " 'inside',\n",
              " 'here',\n",
              " 'étanche',\n",
              " 'prepare',\n",
              " 'Series',\n",
              " 'Input',\n",
              " 'immunology',\n",
              " 'MLS',\n",
              " 'coronavirus',\n",
              " 'Indian',\n",
              " 'Before',\n",
              " 'covered',\n",
              " 'WeDidntStartTheFire',\n",
              " 'gathering',\n",
              " 'kyaplease',\n",
              " 'iqoo',\n",
              " 'Itel',\n",
              " 'F',\n",
              " 'prioritising',\n",
              " 'Shes',\n",
              " 'Mene',\n",
              " 'ST',\n",
              " 'theyre',\n",
              " 'opporenopro',\n",
              " 'Karti',\n",
              " 'highly',\n",
              " 'idk',\n",
              " 'companies',\n",
              " 'pink',\n",
              " 'Risk',\n",
              " 'jail',\n",
              " 'talk',\n",
              " 'DEPOSITORS',\n",
              " 'aik',\n",
              " 'Depositors',\n",
              " 'Car',\n",
              " 'niche',\n",
              " 'motorola',\n",
              " 'shockingly',\n",
              " 'Borderless',\n",
              " 'Camcorders',\n",
              " 'X',\n",
              " 'l',\n",
              " 'Calhoun',\n",
              " 'Naseerudin',\n",
              " 'Specifications',\n",
              " 'Ghar',\n",
              " 'projects',\n",
              " 'Wajah',\n",
              " 'sticking',\n",
              " 'Brand',\n",
              " 'versus',\n",
              " 'GB',\n",
              " 'finds',\n",
              " 'wpreexisting',\n",
              " 'Dhone',\n",
              " 'stores',\n",
              " 'Singh',\n",
              " 'GB',\n",
              " 'RQUEST',\n",
              " 'Insaan',\n",
              " 'Pitch',\n",
              " 'MiPrice',\n",
              " 'JiasMartPhone',\n",
              " 'gpphotostudio',\n",
              " 'Deivi',\n",
              " 'YA',\n",
              " 'Santa',\n",
              " 'backwards',\n",
              " 'usa',\n",
              " 'MSO',\n",
              " 'videos',\n",
              " 'anyway',\n",
              " 'Upar',\n",
              " 'Lena',\n",
              " 'Aane',\n",
              " 'series',\n",
              " 'accompanying',\n",
              " 'punchhole',\n",
              " 'Apne',\n",
              " 'Affordable',\n",
              " 'village',\n",
              " 'medication',\n",
              " 'DeadlineDay',\n",
              " 'liye',\n",
              " 'Selfies',\n",
              " 'Big',\n",
              " 'Rebel',\n",
              " 'bhikhari',\n",
              " 'cold',\n",
              " 'forgot',\n",
              " 'momentous',\n",
              " 'Safer',\n",
              " 'delays',\n",
              " 'setup',\n",
              " 'CloudComputing',\n",
              " 'Mei',\n",
              " 'wapis',\n",
              " 'Corporation',\n",
              " 'Helpful',\n",
              " 'Raj',\n",
              " 'Various',\n",
              " 'letter',\n",
              " 'toshi',\n",
              " 'furious',\n",
              " 'anyone',\n",
              " 'Karvana',\n",
              " 'Shkodran',\n",
              " 'strokes',\n",
              " 'developed',\n",
              " 'Rs',\n",
              " 's',\n",
              " 'bhitak',\n",
              " 'Bravery',\n",
              " 'YoY',\n",
              " 'media',\n",
              " 'attacking',\n",
              " 'DL',\n",
              " 'Raha',\n",
              " 'HHS',\n",
              " 'painstakingly',\n",
              " 'happybirthdaysachin',\n",
              " 'Clam',\n",
              " 'Mangne',\n",
              " 'operation',\n",
              " 'Chhut',\n",
              " 'Thik',\n",
              " 'HMD',\n",
              " 'gave',\n",
              " 'smartphone',\n",
              " 'foods',\n",
              " 'Another',\n",
              " 'Available',\n",
              " 'lets',\n",
              " 'Airtel_Prance',\n",
              " 'Jajanshakti',\n",
              " 'snapdragon',\n",
              " 'TAB',\n",
              " 'Death',\n",
              " 'Aik',\n",
              " 'RS',\n",
              " 'backshark',\n",
              " 'SriLanka',\n",
              " 'goals',\n",
              " 'love',\n",
              " 'Hai',\n",
              " 'Z',\n",
              " 'follow',\n",
              " 'Uthaaya',\n",
              " 'mini',\n",
              " 'places',\n",
              " 'Sealed',\n",
              " 'Sari',\n",
              " 'DESH',\n",
              " 'entrepreneurs',\n",
              " 'phones',\n",
              " 'holding',\n",
              " 'sliding',\n",
              " 'Write',\n",
              " 'Atleast',\n",
              " 'wrote',\n",
              " 'signatu',\n",
              " 'ie',\n",
              " 'Lyay',\n",
              " 'YE',\n",
              " 'United',\n",
              " 'Samsung',\n",
              " 'Keychain',\n",
              " 'Class',\n",
              " 'Unknown',\n",
              " 'need',\n",
              " 'Stay',\n",
              " 'NPA',\n",
              " 'wafc',\n",
              " 'Pocket',\n",
              " 'redminotepro',\n",
              " 'Tendulkar',\n",
              " 'Valentines',\n",
              " 'Qualcomm',\n",
              " 'seekersrefugeesin',\n",
              " 'mine',\n",
              " 'GOP',\n",
              " 'rate',\n",
              " 'produce',\n",
              " 'Krishna',\n",
              " 'ever',\n",
              " 'MPS',\n",
              " 'ashokgehlot',\n",
              " 'Nirmalasitaraman',\n",
              " 'punchhole',\n",
              " 'special',\n",
              " 'RamuDoctor',\n",
              " 'significant',\n",
              " 'priced',\n",
              " 'yesterday',\n",
              " 'User',\n",
              " 'bidkin',\n",
              " 'willin',\n",
              " 'shaft',\n",
              " 'dena',\n",
              " 'phonEring',\n",
              " 'did',\n",
              " 'January',\n",
              " 'youve',\n",
              " 'MI',\n",
              " 'Magar',\n",
              " 'poker',\n",
              " 'brought',\n",
              " 'Bajah',\n",
              " 'patriotism',\n",
              " 'suggest',\n",
              " 'While',\n",
              " 'vaccination',\n",
              " 'Andolan',\n",
              " 'Related',\n",
              " 'Exam',\n",
              " 'Declare',\n",
              " 'assassination',\n",
              " 'Ranvijay',\n",
              " 'Setting',\n",
              " 'Mesut',\n",
              " 'living',\n",
              " 'KI',\n",
              " 'farmers',\n",
              " 'nonBRCA',\n",
              " 'Agar',\n",
              " 'attack',\n",
              " 'france',\n",
              " 'acutely',\n",
              " 'SSD',\n",
              " 'zagging',\n",
              " 'Neerav',\n",
              " 'Fees',\n",
              " 'A',\n",
              " 'th',\n",
              " 'BAJA',\n",
              " 'Mobiles',\n",
              " 'KARTA',\n",
              " 'Sandeep',\n",
              " 'li',\n",
              " 'cup',\n",
              " 'Twitter',\n",
              " 'definitely',\n",
              " 'agar',\n",
              " 'but',\n",
              " 'galaxys',\n",
              " 'Watford',\n",
              " 'Non',\n",
              " 'twins',\n",
              " 'Leke',\n",
              " 'emotionally',\n",
              " 'Zinda',\n",
              " 'stand',\n",
              " 'government',\n",
              " 'bill',\n",
              " 'doctors',\n",
              " 'overrated',\n",
              " 'Gearbest',\n",
              " 'plenty',\n",
              " 'landscape',\n",
              " 'pricefeatures',\n",
              " 'ji',\n",
              " 'light',\n",
              " 'mah',\n",
              " 'things',\n",
              " 'wrapped',\n",
              " 'anything',\n",
              " 'ROG',\n",
              " 'Sonia',\n",
              " 'campaign',\n",
              " 'YG',\n",
              " 'ttps',\n",
              " 'WorldNTDDay',\n",
              " 'K',\n",
              " 'Politics',\n",
              " 'hardware',\n",
              " 'ventilators',\n",
              " 'audits',\n",
              " 'job',\n",
              " 'G',\n",
              " 'BuIsness',\n",
              " 'BeirutBlast',\n",
              " 'Engineering',\n",
              " 'Samsung',\n",
              " 'wallet',\n",
              " 'Shukufuku',\n",
              " 'typec',\n",
              " 'Rakhna',\n",
              " 'costly',\n",
              " 'RPFs',\n",
              " 'facebook',\n",
              " 'Association',\n",
              " 'Surely',\n",
              " 'Denge',\n",
              " 'loan',\n",
              " 'NOW',\n",
              " 'reward',\n",
              " 'Nahin',\n",
              " 'Japan',\n",
              " 'Pappu',\n",
              " 'POCOMPRO',\n",
              " 'R',\n",
              " 'MAI',\n",
              " 'Kai',\n",
              " 'children',\n",
              " 'walking',\n",
              " 'Soultion',\n",
              " 'Mystic',\n",
              " 'Man',\n",
              " 'trendsetting',\n",
              " 'blackindata',\n",
              " 'playing',\n",
              " 'sensor',\n",
              " 'focusing',\n",
              " 'which',\n",
              " 'HNDBSc',\n",
              " 'Budget',\n",
              " 'era',\n",
              " 'Jaata',\n",
              " 'phones',\n",
              " 'baap',\n",
              " 'shut',\n",
              " 'module',\n",
              " 'Drinking',\n",
              " 'Through',\n",
              " 'PDA',\n",
              " 'aggregation',\n",
              " 'brchoudhary',\n",
              " 'B',\n",
              " 'Last',\n",
              " 'baki',\n",
              " 'market',\n",
              " 'Therefore',\n",
              " 'Health',\n",
              " 'day',\n",
              " 'granted',\n",
              " 'socalled',\n",
              " 'Gauri',\n",
              " 'player',\n",
              " 'Mehta',\n",
              " 'vaccinated',\n",
              " 'garnished',\n",
              " 'ARE',\n",
              " 'advertising',\n",
              " 'Rupes',\n",
              " 'level',\n",
              " 'leaders',\n",
              " 'third',\n",
              " 'dear',\n",
              " 'Mortgage',\n",
              " 'lga',\n",
              " 'baant',\n",
              " 'Farming',\n",
              " 'Diya',\n",
              " 'Fixed',\n",
              " 'Ramaphosa',\n",
              " 'unsubstantiated',\n",
              " 'never',\n",
              " 'Auto',\n",
              " 'Body',\n",
              " 'Wali',\n",
              " 'lockdown',\n",
              " 'SAJISH',\n",
              " 'SAVETHEM',\n",
              " 'SIM',\n",
              " 'CRISPRSocial',\n",
              " 'dress',\n",
              " 'Liverpool',\n",
              " 'play',\n",
              " 'Im',\n",
              " 'problem',\n",
              " 'Khol',\n",
              " 'equities',\n",
              " 'got',\n",
              " 'Geographic',\n",
              " 'Industry',\n",
              " 'GB',\n",
              " 'Except',\n",
              " 'did',\n",
              " 'Act',\n",
              " 'bankruptcy',\n",
              " 'hospitality',\n",
              " 'Gordon',\n",
              " 'Microphone',\n",
              " 'impacts',\n",
              " 'probably',\n",
              " 'sorted',\n",
              " 'sakti',\n",
              " 'dependent',\n",
              " 'GALAT',\n",
              " 'ASeries',\n",
              " 'dream',\n",
              " 'Windows',\n",
              " 'event',\n",
              " 'SamsungGalaxyS',\n",
              " 'talk',\n",
              " 'debt',\n",
              " 'dickens',\n",
              " 'Minister',\n",
              " 'Framework',\n",
              " 'Kare',\n",
              " 'Dehra',\n",
              " 'trading',\n",
              " 'AllStar',\n",
              " 'Others',\n",
              " 'longer',\n",
              " 'Heaven',\n",
              " 'defunding',\n",
              " 'continue',\n",
              " 'team',\n",
              " 'n',\n",
              " 'Customers',\n",
              " 'everything',\n",
              " 'the',\n",
              " 'needed',\n",
              " 'was',\n",
              " 'isnt',\n",
              " 'Entrepreneurs',\n",
              " 'Human',\n",
              " 'GST',\n",
              " 'Reason',\n",
              " 'Per',\n",
              " 'position',\n",
              " 'Pair',\n",
              " 'nbfc',\n",
              " 'Aagar',\n",
              " 'showing',\n",
              " 'landmarks',\n",
              " 'CEO',\n",
              " 'unable',\n",
              " 'brimstone',\n",
              " 'Bring',\n",
              " 'job',\n",
              " 'customers',\n",
              " 'university',\n",
              " 'Letehumebhi',\n",
              " 'Kyunki',\n",
              " 'Amount',\n",
              " 'OFF',\n",
              " 'lag',\n",
              " 'crude',\n",
              " 'optimism',\n",
              " 'return',\n",
              " 'Apples',\n",
              " 'land',\n",
              " 'draft',\n",
              " 'CHOKSI',\n",
              " 'Jesus',\n",
              " 'sahib',\n",
              " 'Ghori',\n",
              " 'politician',\n",
              " 'Flying',\n",
              " 'shareyourwork',\n",
              " 'TFT',\n",
              " 'mak',\n",
              " 'kralo',\n",
              " 'Ys',\n",
              " 'MP',\n",
              " 'Gas',\n",
              " 'VP',\n",
              " 'Defense',\n",
              " 'Sumit',\n",
              " 'Camer',\n",
              " 'regulators',\n",
              " 'headed',\n",
              " 'BBC',\n",
              " 'An',\n",
              " 'log',\n",
              " 'Theyre',\n",
              " 'Tell',\n",
              " 'fun',\n",
              " 'Udas',\n",
              " 'Engineering',\n",
              " 'Tech',\n",
              " 'HOSPITAL',\n",
              " 'Par',\n",
              " 'settled',\n",
              " 'began',\n",
              " 'khone',\n",
              " 'New',\n",
              " 'Thakary',\n",
              " 'overloads',\n",
              " 'Choose',\n",
              " 'phones',\n",
              " 'Technologies',\n",
              " 'page',\n",
              " 'XisTheFuture',\n",
              " 'Thank',\n",
              " 'gaming',\n",
              " 'Read',\n",
              " 'ClimateAction',\n",
              " 'aj',\n",
              " 'Sunai',\n",
              " 'Spontaneous',\n",
              " 'website',\n",
              " 'VoteForLeaseholders',\n",
              " 'theres',\n",
              " 'biz',\n",
              " 'XProPlus',\n",
              " 'app',\n",
              " 'In',\n",
              " 'Nikal',\n",
              " 'masks',\n",
              " 'other',\n",
              " 'young',\n",
              " 'mi',\n",
              " 'Calls',\n",
              " 'processor',\n",
              " 'items',\n",
              " 'CyberSecurity',\n",
              " 'Taiwan',\n",
              " 'Posting',\n",
              " 'K',\n",
              " 'G',\n",
              " 'Update',\n",
              " 'negotiating',\n",
              " 'minimized',\n",
              " 'Rakkam',\n",
              " 'cost',\n",
              " 'pretending',\n",
              " 'Announced',\n",
              " 'JiosmartPhone',\n",
              " 'without',\n",
              " 'Devishankar',\n",
              " 'kra',\n",
              " 'US',\n",
              " 'Halting',\n",
              " 'No',\n",
              " 'tonight',\n",
              " 'Taal',\n",
              " 'cent',\n",
              " 'whether',\n",
              " 'Brighton',\n",
              " 'apparent',\n",
              " 'disrupted',\n",
              " 'sharing',\n",
              " 'processors',\n",
              " 'psb',\n",
              " 'kal',\n",
              " 'k',\n",
              " 'Zhu_bear',\n",
              " 'buri',\n",
              " 'neutral',\n",
              " 'ive',\n",
              " 'Web',\n",
              " 'PMJJBY',\n",
              " 'Padega',\n",
              " 'lenses',\n",
              " 'Bta',\n",
              " 'risk',\n",
              " 'officers',\n",
              " 'Nat',\n",
              " 'MAPhD',\n",
              " 'When',\n",
              " 'power',\n",
              " 'quarter',\n",
              " 'Rwc',\n",
              " 'WFH',\n",
              " 'GREAT',\n",
              " 'Kejeriwal',\n",
              " 'honor',\n",
              " 'Young',\n",
              " 'sounds',\n",
              " 'Closebank',\n",
              " 'Waiver',\n",
              " 'Delhi',\n",
              " 'politics',\n",
              " 'behind',\n",
              " 'pero',\n",
              " 'watts',\n",
              " 'hain',\n",
              " 'JasLy',\n",
              " 'Aberdeen',\n",
              " 'DualSIM',\n",
              " 'SamsungExynos',\n",
              " 'argues',\n",
              " 'IndialaunchXiaomiMiiitis',\n",
              " 'horrible',\n",
              " 'changes',\n",
              " 'mil',\n",
              " 'nicely',\n",
              " 'new',\n",
              " 'Indians',\n",
              " 'imma',\n",
              " 'Blendedfinance',\n",
              " 'Baaki',\n",
              " 'driving',\n",
              " 'Joshua',\n",
              " 'LOVE',\n",
              " 'Angle',\n",
              " 'BANDS',\n",
              " 'base',\n",
              " 'kinds',\n",
              " 'Puchhata',\n",
              " 'Bana',\n",
              " 'clubs',\n",
              " 'Dheere',\n",
              " 'Samsungs',\n",
              " 'provide',\n",
              " 'ESI',\n",
              " 'BEEN',\n",
              " 'pass',\n",
              " 'digging',\n",
              " 'BCpoli',\n",
              " 'chhin',\n",
              " 'Audio',\n",
              " 'iceberg',\n",
              " 'Iwo',\n",
              " 'BIGGEST',\n",
              " 'Ker',\n",
              " 'thereby',\n",
              " 'son',\n",
              " 'incorrectly',\n",
              " 'denigrates',\n",
              " 'Waiting',\n",
              " 'Confirmed',\n",
              " 'V',\n",
              " 'Security',\n",
              " 'bad',\n",
              " 'Ghar',\n",
              " 'Selfie',\n",
              " 'RealMex',\n",
              " 'Cheaper',\n",
              " 'internet',\n",
              " 'RT',\n",
              " 'Care',\n",
              " 'Chale',\n",
              " 'ego',\n",
              " 'Safe',\n",
              " 'Andar',\n",
              " 'Shuru',\n",
              " 'system',\n",
              " 'forgiven',\n",
              " 'Modi',\n",
              " 'Ch',\n",
              " 'bringing',\n",
              " 'Ghanti',\n",
              " 'Kashmir',\n",
              " 'Extend_itr__',\n",
              " 'Vendors',\n",
              " 'accept',\n",
              " 'Fluid',\n",
              " 'kerta',\n",
              " 'aap',\n",
              " 'one',\n",
              " 'Tech',\n",
              " 'UAN',\n",
              " 'Watch',\n",
              " 'practuces',\n",
              " 'AI',\n",
              " 'Barcelona',\n",
              " 'Tip',\n",
              " 'intact',\n",
              " 'Trumpism',\n",
              " 'visited',\n",
              " 'Charge',\n",
              " 'NewsUpdate',\n",
              " 'preorder',\n",
              " 'PM',\n",
              " 'Black',\n",
              " 'Kabak',\n",
              " 'Phones',\n",
              " 'FD',\n",
              " 'large',\n",
              " 'unhe',\n",
              " 'accidents',\n",
              " 'generation',\n",
              " 'Africa',\n",
              " 'issue',\n",
              " 'herd',\n",
              " 'abolishing',\n",
              " 'briefings',\n",
              " 'One',\n",
              " 'bitcoin',\n",
              " 'calls',\n",
              " 'Nahh',\n",
              " 'Can',\n",
              " 'Oregon',\n",
              " 'Saved',\n",
              " 'justice',\n",
              " 'AR',\n",
              " 'HTTPSTCODIURKNBHS',\n",
              " 'shares',\n",
              " 'persons',\n",
              " 'tens',\n",
              " 'upgraded',\n",
              " 'dump',\n",
              " 'USKE',\n",
              " 'mery',\n",
              " 'sae',\n",
              " 'Updates',\n",
              " 'Netherlands',\n",
              " 'FHD',\n",
              " 'bjpindia',\n",
              " 'Ladkon',\n",
              " 'Sandhu',\n",
              " 'ours',\n",
              " 'office',\n",
              " 'Affected',\n",
              " 'Ni',\n",
              " 'bombed',\n",
              " ...]"
            ]
          },
          "metadata": {
            "tags": []
          },
          "execution_count": 249
        }
      ]
    },
    {
      "cell_type": "code",
      "metadata": {
        "id": "Dd__9zABzUhD"
      },
      "source": [
        "def clean_text(text):\n",
        "  t = text.split()\n",
        "  t = [i.lower() for i in t if i in words and i.lower() != \"qt\" and i.lower() != \"rt\"]\n",
        "  return \" \".join(t)"
      ],
      "execution_count": null,
      "outputs": []
    },
    {
      "cell_type": "code",
      "metadata": {
        "id": "V8RuzPsSDpGy"
      },
      "source": [
        "temp = list(new_df['Tweet'])\n",
        "temp = [clean_text(i) for i in temp]\n",
        "data = {\"Tweet_ID\": ids, \"Tweet\": temp, \"Mobile_Tech_Tag\": flags}\n",
        "new_df = pd.DataFrame(data)"
      ],
      "execution_count": null,
      "outputs": []
    },
    {
      "cell_type": "code",
      "metadata": {
        "colab": {
          "base_uri": "https://localhost:8080/",
          "height": 419
        },
        "id": "VseR8rsAD7mJ",
        "outputId": "be6d48ab-124a-49d8-c10e-4b0e28c042a4"
      },
      "source": [
        "new_df"
      ],
      "execution_count": null,
      "outputs": [
        {
          "output_type": "execute_result",
          "data": {
            "text/html": [
              "<div>\n",
              "<style scoped>\n",
              "    .dataframe tbody tr th:only-of-type {\n",
              "        vertical-align: middle;\n",
              "    }\n",
              "\n",
              "    .dataframe tbody tr th {\n",
              "        vertical-align: top;\n",
              "    }\n",
              "\n",
              "    .dataframe thead th {\n",
              "        text-align: right;\n",
              "    }\n",
              "</style>\n",
              "<table border=\"1\" class=\"dataframe\">\n",
              "  <thead>\n",
              "    <tr style=\"text-align: right;\">\n",
              "      <th></th>\n",
              "      <th>Tweet_ID</th>\n",
              "      <th>Tweet</th>\n",
              "      <th>Mobile_Tech_Tag</th>\n",
              "    </tr>\n",
              "  </thead>\n",
              "  <tbody>\n",
              "    <tr>\n",
              "      <th>0</th>\n",
              "      <td>tweet_1400</td>\n",
              "      <td>phone going westside get signed committed prot...</td>\n",
              "      <td>0</td>\n",
              "    </tr>\n",
              "    <tr>\n",
              "      <th>1</th>\n",
              "      <td>tweet_0440</td>\n",
              "      <td>mainstream media trying convince ppl buy claim...</td>\n",
              "      <td>0</td>\n",
              "    </tr>\n",
              "    <tr>\n",
              "      <th>2</th>\n",
              "      <td>tweet_1461</td>\n",
              "      <td>except new generation student loan debt crushi...</td>\n",
              "      <td>0</td>\n",
              "    </tr>\n",
              "    <tr>\n",
              "      <th>3</th>\n",
              "      <td>tweet_0413</td>\n",
              "      <td>said fire brimstone outbreak virus fatality ra...</td>\n",
              "      <td>0</td>\n",
              "    </tr>\n",
              "    <tr>\n",
              "      <th>4</th>\n",
              "      <td>tweet_0652</td>\n",
              "      <td>honor along buildings landmarks around illumin...</td>\n",
              "      <td>0</td>\n",
              "    </tr>\n",
              "    <tr>\n",
              "      <th>...</th>\n",
              "      <td>...</td>\n",
              "      <td>...</td>\n",
              "      <td>...</td>\n",
              "    </tr>\n",
              "    <tr>\n",
              "      <th>1133</th>\n",
              "      <td>tweet_3992</td>\n",
              "      <td>launched phone phone launched mediatek fast ch...</td>\n",
              "      <td>1</td>\n",
              "    </tr>\n",
              "    <tr>\n",
              "      <th>1134</th>\n",
              "      <td>tweet_3993</td>\n",
              "      <td>xiaomi mi launched cheapest phone business</td>\n",
              "      <td>1</td>\n",
              "    </tr>\n",
              "    <tr>\n",
              "      <th>1135</th>\n",
              "      <td>tweet_3998</td>\n",
              "      <td>mobile company launched realme smartphone</td>\n",
              "      <td>1</td>\n",
              "    </tr>\n",
              "    <tr>\n",
              "      <th>1136</th>\n",
              "      <td>tweet_3999</td>\n",
              "      <td>phone hi choose kr liya wo phone layak hai hi ...</td>\n",
              "      <td>1</td>\n",
              "    </tr>\n",
              "    <tr>\n",
              "      <th>1137</th>\n",
              "      <td>tweet_4000</td>\n",
              "      <td>come mein aapko smartphones ko unique video te...</td>\n",
              "      <td>1</td>\n",
              "    </tr>\n",
              "  </tbody>\n",
              "</table>\n",
              "<p>1138 rows × 3 columns</p>\n",
              "</div>"
            ],
            "text/plain": [
              "        Tweet_ID  ... Mobile_Tech_Tag\n",
              "0     tweet_1400  ...               0\n",
              "1     tweet_0440  ...               0\n",
              "2     tweet_1461  ...               0\n",
              "3     tweet_0413  ...               0\n",
              "4     tweet_0652  ...               0\n",
              "...          ...  ...             ...\n",
              "1133  tweet_3992  ...               1\n",
              "1134  tweet_3993  ...               1\n",
              "1135  tweet_3998  ...               1\n",
              "1136  tweet_3999  ...               1\n",
              "1137  tweet_4000  ...               1\n",
              "\n",
              "[1138 rows x 3 columns]"
            ]
          },
          "metadata": {
            "tags": []
          },
          "execution_count": 252
        }
      ]
    },
    {
      "cell_type": "code",
      "metadata": {
        "colab": {
          "base_uri": "https://localhost:8080/"
        },
        "id": "bmo74rpCD-Gi",
        "outputId": "1cc9c760-d2dc-4ad3-b83e-f874187dd222"
      },
      "source": [
        "nltk.download('punkt')\n",
        "from nltk.stem.porter import PorterStemmer\n",
        "stemmer = PorterStemmer()\n",
        "def tokenize(sentence):\n",
        "  return nltk.word_tokenize(sentence)\n",
        "def stem(word):\n",
        "  return stemmer.stem(word.lower())  "
      ],
      "execution_count": null,
      "outputs": [
        {
          "output_type": "stream",
          "text": [
            "[nltk_data] Downloading package punkt to /root/nltk_data...\n",
            "[nltk_data]   Package punkt is already up-to-date!\n"
          ],
          "name": "stdout"
        }
      ]
    },
    {
      "cell_type": "code",
      "metadata": {
        "id": "SAfuWVOpFKyf"
      },
      "source": [
        "def bag_of_words(tokenized_sentence, words):\n",
        "    sentence_words = [stem(word) for word in tokenized_sentence]\n",
        "    bag = np.zeros(len(words), dtype=np.float32)\n",
        "    for idx, w in enumerate(words):\n",
        "        if w in sentence_words: \n",
        "            bag[idx] = 1\n",
        "\n",
        "    return bag"
      ],
      "execution_count": null,
      "outputs": []
    },
    {
      "cell_type": "code",
      "metadata": {
        "id": "KAMEAGcnHj8K"
      },
      "source": [
        "tweets = list(new_df['Tweet'])\n",
        "tweets = [tokenize(i) for i in tweets]\n",
        "X_train = [bag_of_words(i, words) for i in tweets]"
      ],
      "execution_count": null,
      "outputs": []
    },
    {
      "cell_type": "code",
      "metadata": {
        "id": "ORtVIif-KL44"
      },
      "source": [
        "Y_train = list(new_df['Mobile_Tech_Tag'])"
      ],
      "execution_count": null,
      "outputs": []
    },
    {
      "cell_type": "code",
      "metadata": {
        "id": "YGTQNCt1KYdL"
      },
      "source": [
        "X_train = np.array(X_train)\n",
        "Y_train = np.array(Y_train)"
      ],
      "execution_count": null,
      "outputs": []
    },
    {
      "cell_type": "code",
      "metadata": {
        "colab": {
          "base_uri": "https://localhost:8080/"
        },
        "id": "5Jxp-PvhLBtw",
        "outputId": "0d34b0bd-cc74-45d1-944a-aca9a5b9a123"
      },
      "source": [
        "num_epochs = 1000\n",
        "batch_size = 8\n",
        "learning_rate = 0.001\n",
        "input_size = len(X_train[0])\n",
        "hidden_size = 16\n",
        "output_size = 2\n",
        "print(input_size, output_size)"
      ],
      "execution_count": null,
      "outputs": [
        {
          "output_type": "stream",
          "text": [
            "9696 2\n"
          ],
          "name": "stdout"
        }
      ]
    },
    {
      "cell_type": "code",
      "metadata": {
        "id": "r_EVr2vJLOzo"
      },
      "source": [
        "import torch\n",
        "import torch.nn as nn\n",
        "from torch.utils.data import Dataset, DataLoader"
      ],
      "execution_count": null,
      "outputs": []
    },
    {
      "cell_type": "code",
      "metadata": {
        "id": "lto_RcNTLWaq"
      },
      "source": [
        "class ChatDataset(Dataset):\n",
        "\n",
        "    def __init__(self):\n",
        "        self.n_samples = len(X_train)\n",
        "        self.x_data = X_train\n",
        "        self.y_data = Y_train\n",
        "\n",
        "    def __getitem__(self, index):\n",
        "        return self.x_data[index], self.y_data[index]\n",
        "\n",
        "    def __len__(self):\n",
        "        return self.n_samples"
      ],
      "execution_count": null,
      "outputs": []
    },
    {
      "cell_type": "code",
      "metadata": {
        "id": "i469Q_yiLgrC"
      },
      "source": [
        "dataset = ChatDataset()\n",
        "train_loader = DataLoader(dataset=dataset,\n",
        "                          batch_size=batch_size,\n",
        "                          shuffle=True,\n",
        "                          num_workers=0)"
      ],
      "execution_count": null,
      "outputs": []
    },
    {
      "cell_type": "code",
      "metadata": {
        "id": "xnmh5jiRLkaV"
      },
      "source": [
        "device = torch.device('cuda' if torch.cuda.is_available() else 'cpu')"
      ],
      "execution_count": null,
      "outputs": []
    },
    {
      "cell_type": "code",
      "metadata": {
        "id": "JZnPFdH2LpDm"
      },
      "source": [
        "class NeuralNet(nn.Module):\n",
        "    def __init__(self, input_size, hidden_size, num_classes):\n",
        "        super(NeuralNet, self).__init__()\n",
        "        self.l1 = nn.Linear(input_size, hidden_size) \n",
        "        self.l2 = nn.Linear(hidden_size, hidden_size) \n",
        "        self.l3 = nn.Linear(hidden_size, num_classes)\n",
        "        self.relu = nn.ReLU()\n",
        "    \n",
        "    def forward(self, x):\n",
        "        out = self.l1(x)\n",
        "        out = self.relu(out)\n",
        "        out = self.l2(out)\n",
        "        out = self.relu(out)\n",
        "        out = self.l3(out)\n",
        "        # no activation and no softmax at the end\n",
        "        return out"
      ],
      "execution_count": null,
      "outputs": []
    },
    {
      "cell_type": "code",
      "metadata": {
        "id": "z7Z3bvllL1_F"
      },
      "source": [
        "model = NeuralNet(input_size, hidden_size, output_size).to(device)\n",
        "\n",
        "# Loss and optimizer\n",
        "criterion = nn.CrossEntropyLoss()\n",
        "optimizer = torch.optim.Adam(model.parameters(), lr=learning_rate)"
      ],
      "execution_count": null,
      "outputs": []
    },
    {
      "cell_type": "code",
      "metadata": {
        "colab": {
          "base_uri": "https://localhost:8080/"
        },
        "id": "cshwibQmMAu5",
        "outputId": "2b40350e-3eb8-4400-96bd-b4b3534c2494"
      },
      "source": [
        "for epoch in range(num_epochs):\n",
        "    for (w, labels) in train_loader:\n",
        "        w = w.to(device)\n",
        "        labels = labels.to(dtype=torch.long).to(device)\n",
        "        \n",
        "        # Forward pass\n",
        "        outputs = model(w)\n",
        "        # if y would be one-hot, we must apply\n",
        "        # labels = torch.max(labels, 1)[1]\n",
        "        loss = criterion(outputs, labels)\n",
        "        \n",
        "        # Backward and optimize\n",
        "        optimizer.zero_grad()\n",
        "        loss.backward()\n",
        "        optimizer.step()\n",
        "        \n",
        "    if (epoch+1) % 100 == 0:\n",
        "        print (f'Epoch [{epoch+1}/{num_epochs}], Loss: {loss.item():.4f}')"
      ],
      "execution_count": null,
      "outputs": [
        {
          "output_type": "stream",
          "text": [
            "Epoch [100/1000], Loss: 0.0000\n",
            "Epoch [200/1000], Loss: 0.0000\n",
            "Epoch [300/1000], Loss: 0.0000\n",
            "Epoch [400/1000], Loss: 0.0000\n",
            "Epoch [500/1000], Loss: 0.0000\n",
            "Epoch [600/1000], Loss: 0.0000\n",
            "Epoch [700/1000], Loss: 0.0000\n",
            "Epoch [800/1000], Loss: 0.0000\n",
            "Epoch [900/1000], Loss: 0.0000\n",
            "Epoch [1000/1000], Loss: 0.0000\n"
          ],
          "name": "stdout"
        }
      ]
    },
    {
      "cell_type": "code",
      "metadata": {
        "id": "J30EduHvMF56"
      },
      "source": [
        "data = {\n",
        "\"model_state\": model.state_dict(),\n",
        "\"input_size\": input_size,\n",
        "\"hidden_size\": hidden_size,\n",
        "\"output_size\": output_size,\n",
        "\"all_words\": words,\n",
        "\"tags\": [0, 1]\n",
        "}"
      ],
      "execution_count": null,
      "outputs": []
    },
    {
      "cell_type": "code",
      "metadata": {
        "id": "fav0T6lBOl_a"
      },
      "source": [
        "FILE = \"data.pth\"\n",
        "torch.save(data, FILE)"
      ],
      "execution_count": null,
      "outputs": []
    },
    {
      "cell_type": "code",
      "metadata": {
        "id": "9ng07u0cOq-h"
      },
      "source": [
        "sentence = \"RT @AbhinavKhare_07: Same with shahberi Greater Noida West @GICHSGFIN and many more gave illegal property loan and now flat owners are suffering due to identified properties as illegal and unauthorised by @OfficialGNIDA @RBI @NhbIndia @MoHUA_India @myogioffice @Uppolice @UPRERAofficial @ZeeNews ; दुध देने वाली गाय तो बिल्डर है। बिल्डरो के साथ सारे सिस्टम का पैसा लगा है। न्यायधीशो, अधिकारियो, नेताओ व बड़े लोगो का पैसा लगा है। बैंको व एजेन्सीज़ के साथ मिल कर सब लुट रहे है। 4% मध्यम वर्ग के बंधवा मजदूरों तुमतो बस लुटते रहो। तुम्हारी कोंन सुनेगा। https://t.co/1W98sZK2NB\"\n",
        "sentence = trans(sentence)\n",
        "sentence = clean_text(sentence)\n",
        "sentence = tokenize(sentence)\n",
        "X = bag_of_words(sentence, words)\n",
        "X = torch.from_numpy(X).to(device)"
      ],
      "execution_count": null,
      "outputs": []
    },
    {
      "cell_type": "code",
      "metadata": {
        "id": "4QkO5_XwPTaC"
      },
      "source": [
        "output = model(X)"
      ],
      "execution_count": null,
      "outputs": []
    },
    {
      "cell_type": "code",
      "metadata": {
        "colab": {
          "base_uri": "https://localhost:8080/"
        },
        "id": "CZMC6YBDPbdo",
        "outputId": "a40d9771-5c7a-4847-e1e4-2b3b9f4a6bb3"
      },
      "source": [
        "output"
      ],
      "execution_count": null,
      "outputs": [
        {
          "output_type": "execute_result",
          "data": {
            "text/plain": [
              "tensor([ 27.6893, -48.0551], grad_fn=<AddBackward0>)"
            ]
          },
          "metadata": {
            "tags": []
          },
          "execution_count": 306
        }
      ]
    },
    {
      "cell_type": "code",
      "metadata": {
        "id": "0W_5s8o9US0R"
      },
      "source": [
        "_, predicted = torch.max(output, dim=0)"
      ],
      "execution_count": null,
      "outputs": []
    },
    {
      "cell_type": "code",
      "metadata": {
        "colab": {
          "base_uri": "https://localhost:8080/"
        },
        "id": "M8NsZWiaUqpl",
        "outputId": "21e23639-ece9-417c-a439-21267913cafc"
      },
      "source": [
        "predicted.item()"
      ],
      "execution_count": null,
      "outputs": [
        {
          "output_type": "execute_result",
          "data": {
            "text/plain": [
              "0"
            ]
          },
          "metadata": {
            "tags": []
          },
          "execution_count": 308
        }
      ]
    },
    {
      "cell_type": "code",
      "metadata": {
        "id": "cBQGtSZ-V302"
      },
      "source": [
        ""
      ],
      "execution_count": null,
      "outputs": []
    }
  ]
}