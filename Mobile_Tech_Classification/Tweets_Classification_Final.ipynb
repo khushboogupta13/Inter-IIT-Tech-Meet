{
  "nbformat": 4,
  "nbformat_minor": 0,
  "metadata": {
    "colab": {
      "name": "Tweets_Classification.ipynb",
      "provenance": []
    },
    "kernelspec": {
      "name": "python3",
      "display_name": "Python 3"
    },
    "language_info": {
      "name": "python"
    }
  },
  "cells": [
    {
      "cell_type": "markdown",
      "metadata": {
        "id": "E9rUljyUDDQ6"
      },
      "source": [
        "###Preprocessing the Data"
      ]
    },
    {
      "cell_type": "code",
      "metadata": {
        "id": "6ouNhwAiBne2"
      },
      "source": [
        "import pandas as pd\n",
        "import numpy as np\n",
        "import matplotlib.pyplot as plt"
      ],
      "execution_count": 1,
      "outputs": []
    },
    {
      "cell_type": "code",
      "metadata": {
        "colab": {
          "base_uri": "https://localhost:8080/"
        },
        "id": "2n5cNREaDGdj",
        "outputId": "fc568b80-f747-4d94-e45f-c3ef57615829"
      },
      "source": [
        "!git clone https://github.com/khushboogupta13/Inter-IIT-Tech-Meet.git"
      ],
      "execution_count": 2,
      "outputs": [
        {
          "output_type": "stream",
          "text": [
            "Cloning into 'Inter-IIT-Tech-Meet'...\n",
            "remote: Enumerating objects: 45, done.\u001b[K\n",
            "remote: Counting objects: 100% (45/45), done.\u001b[K\n",
            "remote: Compressing objects: 100% (37/37), done.\u001b[K\n",
            "remote: Total 45 (delta 7), reused 32 (delta 3), pack-reused 0\u001b[K\n",
            "Unpacking objects: 100% (45/45), done.\n"
          ],
          "name": "stdout"
        }
      ]
    },
    {
      "cell_type": "markdown",
      "metadata": {
        "id": "GrgM7jEkDKG-"
      },
      "source": [
        "#####Reading the data of tweets and articles into a dataframe"
      ]
    },
    {
      "cell_type": "code",
      "metadata": {
        "id": "_03zyxx-DICO"
      },
      "source": [
        "data_tweets = pd.read_excel(\"/content/Inter-IIT-Tech-Meet/datasets/IIT tech meet 2021_BRIDGEi2i_NLP/Development Data/dev_data_tweet.xlsx\")"
      ],
      "execution_count": 3,
      "outputs": []
    },
    {
      "cell_type": "code",
      "metadata": {
        "id": "Tc5t2H2NDMG7"
      },
      "source": [
        "data_tweets = data_tweets.drop_duplicates(subset = 'Tweet')"
      ],
      "execution_count": 4,
      "outputs": []
    },
    {
      "cell_type": "code",
      "metadata": {
        "id": "vYYmkmpfDNkK"
      },
      "source": [
        "non_mobile_tech_df = data_tweets.loc[data_tweets['Mobile_Tech_Tag'] == 0]"
      ],
      "execution_count": 5,
      "outputs": []
    },
    {
      "cell_type": "code",
      "metadata": {
        "colab": {
          "base_uri": "https://localhost:8080/",
          "height": 419
        },
        "id": "sdCacnU2DOzn",
        "outputId": "3a91d65b-2704-4bfc-f69e-420ec44b8eb5"
      },
      "source": [
        "non_mobile_tech_df"
      ],
      "execution_count": 6,
      "outputs": [
        {
          "output_type": "execute_result",
          "data": {
            "text/html": [
              "<div>\n",
              "<style scoped>\n",
              "    .dataframe tbody tr th:only-of-type {\n",
              "        vertical-align: middle;\n",
              "    }\n",
              "\n",
              "    .dataframe tbody tr th {\n",
              "        vertical-align: top;\n",
              "    }\n",
              "\n",
              "    .dataframe thead th {\n",
              "        text-align: right;\n",
              "    }\n",
              "</style>\n",
              "<table border=\"1\" class=\"dataframe\">\n",
              "  <thead>\n",
              "    <tr style=\"text-align: right;\">\n",
              "      <th></th>\n",
              "      <th>Tweet_ID</th>\n",
              "      <th>Tweet</th>\n",
              "      <th>Mobile_Tech_Tag</th>\n",
              "    </tr>\n",
              "  </thead>\n",
              "  <tbody>\n",
              "    <tr>\n",
              "      <th>0</th>\n",
              "      <td>tweet_0001</td>\n",
              "      <td>You'll 💜 my #PitchWars book if you like: 🦋 hat...</td>\n",
              "      <td>0</td>\n",
              "    </tr>\n",
              "    <tr>\n",
              "      <th>1</th>\n",
              "      <td>tweet_0002</td>\n",
              "      <td>RT @SkySportsNews: 🚨 Breaking: #WBA have reach...</td>\n",
              "      <td>0</td>\n",
              "    </tr>\n",
              "    <tr>\n",
              "      <th>2</th>\n",
              "      <td>tweet_0003</td>\n",
              "      <td>RT @stealyoman_cuso: really says a lot about s...</td>\n",
              "      <td>0</td>\n",
              "    </tr>\n",
              "    <tr>\n",
              "      <th>3</th>\n",
              "      <td>tweet_0004</td>\n",
              "      <td>RT @PGtzsche1: HPV vaccines increased serious ...</td>\n",
              "      <td>0</td>\n",
              "    </tr>\n",
              "    <tr>\n",
              "      <th>4</th>\n",
              "      <td>tweet_0005</td>\n",
              "      <td>Ramaphosa says if you are positive you must se...</td>\n",
              "      <td>0</td>\n",
              "    </tr>\n",
              "    <tr>\n",
              "      <th>...</th>\n",
              "      <td>...</td>\n",
              "      <td>...</td>\n",
              "      <td>...</td>\n",
              "    </tr>\n",
              "    <tr>\n",
              "      <th>2989</th>\n",
              "      <td>tweet_2990</td>\n",
              "      <td>@sahildwivedi857 @idesibanda @TheLallantop Pai...</td>\n",
              "      <td>0</td>\n",
              "    </tr>\n",
              "    <tr>\n",
              "      <th>2990</th>\n",
              "      <td>tweet_2991</td>\n",
              "      <td>@sumitgu73524312 @Bajaj_Finance Kya hi bol rah...</td>\n",
              "      <td>0</td>\n",
              "    </tr>\n",
              "    <tr>\n",
              "      <th>2992</th>\n",
              "      <td>tweet_2993</td>\n",
              "      <td>@CryptooAdy Ady bhi m thoda thoda kar lata hu ...</td>\n",
              "      <td>0</td>\n",
              "    </tr>\n",
              "    <tr>\n",
              "      <th>2995</th>\n",
              "      <td>tweet_2996</td>\n",
              "      <td>RT @TV9Bharatvarsh: होम लोन बांटने में #SBI ने...</td>\n",
              "      <td>0</td>\n",
              "    </tr>\n",
              "    <tr>\n",
              "      <th>2996</th>\n",
              "      <td>tweet_2997</td>\n",
              "      <td>@S14Biggboss Aaj ki taza khabar 50 lakh ki tro...</td>\n",
              "      <td>0</td>\n",
              "    </tr>\n",
              "  </tbody>\n",
              "</table>\n",
              "<p>1831 rows × 3 columns</p>\n",
              "</div>"
            ],
            "text/plain": [
              "        Tweet_ID  ... Mobile_Tech_Tag\n",
              "0     tweet_0001  ...               0\n",
              "1     tweet_0002  ...               0\n",
              "2     tweet_0003  ...               0\n",
              "3     tweet_0004  ...               0\n",
              "4     tweet_0005  ...               0\n",
              "...          ...  ...             ...\n",
              "2989  tweet_2990  ...               0\n",
              "2990  tweet_2991  ...               0\n",
              "2992  tweet_2993  ...               0\n",
              "2995  tweet_2996  ...               0\n",
              "2996  tweet_2997  ...               0\n",
              "\n",
              "[1831 rows x 3 columns]"
            ]
          },
          "metadata": {
            "tags": []
          },
          "execution_count": 6
        }
      ]
    },
    {
      "cell_type": "code",
      "metadata": {
        "id": "ByMScilCDQbW"
      },
      "source": [
        "mobile_tech_df = data_tweets.loc[data_tweets['Mobile_Tech_Tag'] == 1]"
      ],
      "execution_count": 7,
      "outputs": []
    },
    {
      "cell_type": "code",
      "metadata": {
        "colab": {
          "base_uri": "https://localhost:8080/",
          "height": 419
        },
        "id": "pVR5X53zDR49",
        "outputId": "fcab578a-a62c-4abd-a0b6-62fde03be7aa"
      },
      "source": [
        "mobile_tech_df"
      ],
      "execution_count": 8,
      "outputs": [
        {
          "output_type": "execute_result",
          "data": {
            "text/html": [
              "<div>\n",
              "<style scoped>\n",
              "    .dataframe tbody tr th:only-of-type {\n",
              "        vertical-align: middle;\n",
              "    }\n",
              "\n",
              "    .dataframe tbody tr th {\n",
              "        vertical-align: top;\n",
              "    }\n",
              "\n",
              "    .dataframe thead th {\n",
              "        text-align: right;\n",
              "    }\n",
              "</style>\n",
              "<table border=\"1\" class=\"dataframe\">\n",
              "  <thead>\n",
              "    <tr style=\"text-align: right;\">\n",
              "      <th></th>\n",
              "      <th>Tweet_ID</th>\n",
              "      <th>Tweet</th>\n",
              "      <th>Mobile_Tech_Tag</th>\n",
              "    </tr>\n",
              "  </thead>\n",
              "  <tbody>\n",
              "    <tr>\n",
              "      <th>3000</th>\n",
              "      <td>tweet_3001</td>\n",
              "      <td>#Samsung is now making another addition into i...</td>\n",
              "      <td>1</td>\n",
              "    </tr>\n",
              "    <tr>\n",
              "      <th>3001</th>\n",
              "      <td>tweet_3002</td>\n",
              "      <td>QT @AwamiWeb: Want my hands on #GalaxyS21 🥺 ; ...</td>\n",
              "      <td>1</td>\n",
              "    </tr>\n",
              "    <tr>\n",
              "      <th>3002</th>\n",
              "      <td>tweet_3003</td>\n",
              "      <td>QT @AwamiWeb: This is a next level camera 🤩 #G...</td>\n",
              "      <td>1</td>\n",
              "    </tr>\n",
              "    <tr>\n",
              "      <th>3003</th>\n",
              "      <td>tweet_3004</td>\n",
              "      <td>Trick to get Google Home Mini at 499 Only With...</td>\n",
              "      <td>1</td>\n",
              "    </tr>\n",
              "    <tr>\n",
              "      <th>3004</th>\n",
              "      <td>tweet_3005</td>\n",
              "      <td>QT @MadhavSheth1: We are the pioneers of 64MP ...</td>\n",
              "      <td>1</td>\n",
              "    </tr>\n",
              "    <tr>\n",
              "      <th>...</th>\n",
              "      <td>...</td>\n",
              "      <td>...</td>\n",
              "      <td>...</td>\n",
              "    </tr>\n",
              "    <tr>\n",
              "      <th>3991</th>\n",
              "      <td>tweet_3992</td>\n",
              "      <td>#Realme ने 5G सेगमेंट में एक धांसू फोन #Realme...</td>\n",
              "      <td>1</td>\n",
              "    </tr>\n",
              "    <tr>\n",
              "      <th>3992</th>\n",
              "      <td>tweet_3993</td>\n",
              "      <td>भारत में लॉन्च हुआ Xiaomi Mi 10i, यह है 2021 क...</td>\n",
              "      <td>1</td>\n",
              "    </tr>\n",
              "    <tr>\n",
              "      <th>3997</th>\n",
              "      <td>tweet_3998</td>\n",
              "      <td>चीनी मोबाइल कंपनी रियलमी ने अपना Realme V15 5G...</td>\n",
              "      <td>1</td>\n",
              "    </tr>\n",
              "    <tr>\n",
              "      <th>3998</th>\n",
              "      <td>tweet_3999</td>\n",
              "      <td>QT @AnjaliSingh_IN: Aapne phone hi galat choos...</td>\n",
              "      <td>1</td>\n",
              "    </tr>\n",
              "    <tr>\n",
              "      <th>3999</th>\n",
              "      <td>tweet_4000</td>\n",
              "      <td>QT @ManojSaru: पर bhaib5g इंडिया में कब आयेगा।...</td>\n",
              "      <td>1</td>\n",
              "    </tr>\n",
              "  </tbody>\n",
              "</table>\n",
              "<p>569 rows × 3 columns</p>\n",
              "</div>"
            ],
            "text/plain": [
              "        Tweet_ID  ... Mobile_Tech_Tag\n",
              "3000  tweet_3001  ...               1\n",
              "3001  tweet_3002  ...               1\n",
              "3002  tweet_3003  ...               1\n",
              "3003  tweet_3004  ...               1\n",
              "3004  tweet_3005  ...               1\n",
              "...          ...  ...             ...\n",
              "3991  tweet_3992  ...               1\n",
              "3992  tweet_3993  ...               1\n",
              "3997  tweet_3998  ...               1\n",
              "3998  tweet_3999  ...               1\n",
              "3999  tweet_4000  ...               1\n",
              "\n",
              "[569 rows x 3 columns]"
            ]
          },
          "metadata": {
            "tags": []
          },
          "execution_count": 8
        }
      ]
    },
    {
      "cell_type": "markdown",
      "metadata": {
        "id": "gQBOnLBbDUsZ"
      },
      "source": [
        "#####Do Undersampling as the data is balanced"
      ]
    },
    {
      "cell_type": "code",
      "metadata": {
        "id": "NBrXtIvaDTRY"
      },
      "source": [
        "import random\n",
        "\n",
        "tweet_ids = list(non_mobile_tech_df['Tweet_ID'])\n",
        "tweet_ids_undersampled = random.sample(tweet_ids, 569)\n",
        "non_mobile_tech_undersampled_df = non_mobile_tech_df[non_mobile_tech_df['Tweet_ID'].isin(tweet_ids_undersampled)]"
      ],
      "execution_count": 9,
      "outputs": []
    },
    {
      "cell_type": "code",
      "metadata": {
        "id": "piJCkLvlDWpJ"
      },
      "source": [
        "new_df = pd.concat([non_mobile_tech_undersampled_df, mobile_tech_df])"
      ],
      "execution_count": 10,
      "outputs": []
    },
    {
      "cell_type": "markdown",
      "metadata": {
        "id": "upXD_xszDZQR"
      },
      "source": [
        "#####Translating all the tweets irrespective of the language"
      ]
    },
    {
      "cell_type": "code",
      "metadata": {
        "colab": {
          "base_uri": "https://localhost:8080/"
        },
        "id": "8yBw9lYwDX2G",
        "outputId": "7e00af61-a817-401d-a99e-b553b9938d41"
      },
      "source": [
        "pip install google_trans_new"
      ],
      "execution_count": 11,
      "outputs": [
        {
          "output_type": "stream",
          "text": [
            "Collecting google_trans_new\n",
            "  Downloading https://files.pythonhosted.org/packages/f9/7b/9f136106dc5824dc98185c97991d3cd9b53e70a197154dd49f7b899128f6/google_trans_new-1.1.9-py3-none-any.whl\n",
            "Installing collected packages: google-trans-new\n",
            "Successfully installed google-trans-new-1.1.9\n"
          ],
          "name": "stdout"
        }
      ]
    },
    {
      "cell_type": "code",
      "metadata": {
        "id": "naMFufgvDbB2"
      },
      "source": [
        "from google_trans_new import google_translator\n",
        "\n",
        "translator = google_translator()\n",
        "\n",
        "def trans(t):\n",
        "  return translator.translate(t,lang_tgt='en') "
      ],
      "execution_count": 12,
      "outputs": []
    },
    {
      "cell_type": "code",
      "metadata": {
        "id": "zoMH7nLsDc2c"
      },
      "source": [
        "original_tweets = list(new_df['Tweet'])\n",
        "translated_tweets = [trans(text) for text in original_tweets]\n",
        "new_df['Tweet'] = new_df['Tweet'].replace(original_tweets, translated_tweets)"
      ],
      "execution_count": 13,
      "outputs": []
    },
    {
      "cell_type": "code",
      "metadata": {
        "colab": {
          "base_uri": "https://localhost:8080/",
          "height": 419
        },
        "id": "cmfTJYkVDepU",
        "outputId": "ddda8f28-74ac-41da-e8dc-1dbcb86e4c17"
      },
      "source": [
        "new_df"
      ],
      "execution_count": 14,
      "outputs": [
        {
          "output_type": "execute_result",
          "data": {
            "text/html": [
              "<div>\n",
              "<style scoped>\n",
              "    .dataframe tbody tr th:only-of-type {\n",
              "        vertical-align: middle;\n",
              "    }\n",
              "\n",
              "    .dataframe tbody tr th {\n",
              "        vertical-align: top;\n",
              "    }\n",
              "\n",
              "    .dataframe thead th {\n",
              "        text-align: right;\n",
              "    }\n",
              "</style>\n",
              "<table border=\"1\" class=\"dataframe\">\n",
              "  <thead>\n",
              "    <tr style=\"text-align: right;\">\n",
              "      <th></th>\n",
              "      <th>Tweet_ID</th>\n",
              "      <th>Tweet</th>\n",
              "      <th>Mobile_Tech_Tag</th>\n",
              "    </tr>\n",
              "  </thead>\n",
              "  <tbody>\n",
              "    <tr>\n",
              "      <th>0</th>\n",
              "      <td>tweet_0001</td>\n",
              "      <td>You'll 💜 my #PitchWars book if you like: 🦋 hat...</td>\n",
              "      <td>0</td>\n",
              "    </tr>\n",
              "    <tr>\n",
              "      <th>4</th>\n",
              "      <td>tweet_0005</td>\n",
              "      <td>Ramaphosa says if you are positive you must se...</td>\n",
              "      <td>0</td>\n",
              "    </tr>\n",
              "    <tr>\n",
              "      <th>5</th>\n",
              "      <td>tweet_0006</td>\n",
              "      <td>@KarlBrophy 200,000 is a lot of the people tha...</td>\n",
              "      <td>0</td>\n",
              "    </tr>\n",
              "    <tr>\n",
              "      <th>7</th>\n",
              "      <td>tweet_0008</td>\n",
              "      <td>@EdwardthembaSa 😂 I don't think hz taking that...</td>\n",
              "      <td>0</td>\n",
              "    </tr>\n",
              "    <tr>\n",
              "      <th>8</th>\n",
              "      <td>tweet_0009</td>\n",
              "      <td>QT @ElevationToday: Kini gbogbo eleyi bayi? E ...</td>\n",
              "      <td>0</td>\n",
              "    </tr>\n",
              "    <tr>\n",
              "      <th>...</th>\n",
              "      <td>...</td>\n",
              "      <td>...</td>\n",
              "      <td>...</td>\n",
              "    </tr>\n",
              "    <tr>\n",
              "      <th>3991</th>\n",
              "      <td>tweet_3992</td>\n",
              "      <td>#Realme has launched a Dhansu Phone # Realmev1...</td>\n",
              "      <td>1</td>\n",
              "    </tr>\n",
              "    <tr>\n",
              "      <th>3992</th>\n",
              "      <td>tweet_3993</td>\n",
              "      <td>Xiaomi Mi 10i launched in India, it is the che...</td>\n",
              "      <td>1</td>\n",
              "    </tr>\n",
              "    <tr>\n",
              "      <th>3997</th>\n",
              "      <td>tweet_3998</td>\n",
              "      <td>Chinese mobile company Realmi has launched its...</td>\n",
              "      <td>1</td>\n",
              "    </tr>\n",
              "    <tr>\n",
              "      <th>3998</th>\n",
              "      <td>tweet_3999</td>\n",
              "      <td>Qt @anjalisingh_in: aapne phone hi galat choos...</td>\n",
              "      <td>1</td>\n",
              "    </tr>\n",
              "    <tr>\n",
              "      <th>3999</th>\n",
              "      <td>tweet_4000</td>\n",
              "      <td>Qt @Manojsaru: When will Bhaib5g come to India...</td>\n",
              "      <td>1</td>\n",
              "    </tr>\n",
              "  </tbody>\n",
              "</table>\n",
              "<p>1138 rows × 3 columns</p>\n",
              "</div>"
            ],
            "text/plain": [
              "        Tweet_ID  ... Mobile_Tech_Tag\n",
              "0     tweet_0001  ...               0\n",
              "4     tweet_0005  ...               0\n",
              "5     tweet_0006  ...               0\n",
              "7     tweet_0008  ...               0\n",
              "8     tweet_0009  ...               0\n",
              "...          ...  ...             ...\n",
              "3991  tweet_3992  ...               1\n",
              "3992  tweet_3993  ...               1\n",
              "3997  tweet_3998  ...               1\n",
              "3998  tweet_3999  ...               1\n",
              "3999  tweet_4000  ...               1\n",
              "\n",
              "[1138 rows x 3 columns]"
            ]
          },
          "metadata": {
            "tags": []
          },
          "execution_count": 14
        }
      ]
    },
    {
      "cell_type": "markdown",
      "metadata": {
        "id": "BEjkafDjDv-p"
      },
      "source": [
        "#####Create a list of all the words"
      ]
    },
    {
      "cell_type": "code",
      "metadata": {
        "id": "hhgKJDJuDuE3"
      },
      "source": [
        "all_words = []\n",
        "texts = list(new_df['Tweet'])\n",
        "for i in texts:\n",
        "  t = list(i.split())\n",
        "  all_words += t"
      ],
      "execution_count": 15,
      "outputs": []
    },
    {
      "cell_type": "code",
      "metadata": {
        "id": "Eo4YjjG1D1bF"
      },
      "source": [
        "all_words = set(all_words)"
      ],
      "execution_count": 16,
      "outputs": []
    },
    {
      "cell_type": "markdown",
      "metadata": {
        "id": "IQhv_hu9D4mx"
      },
      "source": [
        "#####Filter words"
      ]
    },
    {
      "cell_type": "code",
      "metadata": {
        "colab": {
          "base_uri": "https://localhost:8080/"
        },
        "id": "bDTXEKqmD3Hw",
        "outputId": "15d89ad0-c189-4dbb-e062-e17dddee34b1"
      },
      "source": [
        "import re\n",
        "import nltk\n",
        "nltk.download('stopwords')\n",
        "from nltk.corpus import stopwords"
      ],
      "execution_count": 17,
      "outputs": [
        {
          "output_type": "stream",
          "text": [
            "[nltk_data] Downloading package stopwords to /root/nltk_data...\n",
            "[nltk_data]   Unzipping corpora/stopwords.zip.\n"
          ],
          "name": "stdout"
        }
      ]
    },
    {
      "cell_type": "code",
      "metadata": {
        "id": "y-Sr552qD62n"
      },
      "source": [
        "def clean(word):\n",
        "  word = re.sub(r\"\\d\", \"\", word)\n",
        "  word = re.sub(r'[^\\x00-\\x7f]', r' ', word)\n",
        "  if ('@' in word) or (\"http\" in word):\n",
        "    return ''\n",
        "  if word in stopwords.words('english'):\n",
        "    return '' \n",
        "  if (word.lower() == \"rt\") or (word.lower() == \"qt\"):\n",
        "    return '' \n",
        "  word = re.sub(r'[^\\w\\s]', \"\", word)\n",
        "  return word"
      ],
      "execution_count": 19,
      "outputs": []
    },
    {
      "cell_type": "code",
      "metadata": {
        "id": "9aDK2o7ND8mX"
      },
      "source": [
        "all_words = [clean(w.strip()) for w in all_words if len(clean(w.strip())) > 0]"
      ],
      "execution_count": 20,
      "outputs": []
    },
    {
      "cell_type": "markdown",
      "metadata": {
        "id": "mT5neIZDEDZW"
      },
      "source": [
        "#####Cleaning the tweets"
      ]
    },
    {
      "cell_type": "code",
      "metadata": {
        "id": "-NMFpMYIEB1t"
      },
      "source": [
        "def clean_sentence(text):\n",
        "  t = list(text.split())\n",
        "  t = [i.lower() for i in t if i in all_words]\n",
        "  return \" \".join(t)"
      ],
      "execution_count": 21,
      "outputs": []
    },
    {
      "cell_type": "code",
      "metadata": {
        "id": "PRLD6rECEFIK"
      },
      "source": [
        "tweets = list(new_df['Tweet'])\n",
        "cleaned_tweets = [clean_sentence(i) for i in tweets]\n",
        "new_df['Tweet'] = new_df['Tweet'].replace(tweets, cleaned_tweets)"
      ],
      "execution_count": 22,
      "outputs": []
    },
    {
      "cell_type": "markdown",
      "metadata": {
        "id": "jeOY6_OQEIk-"
      },
      "source": [
        "#####Tokenization, Stemming, Making bag of words and Preparing Training Data"
      ]
    },
    {
      "cell_type": "code",
      "metadata": {
        "colab": {
          "base_uri": "https://localhost:8080/"
        },
        "id": "n21Lbsn1EGj0",
        "outputId": "365b5bff-2379-4bbd-d01e-97ebfae953b8"
      },
      "source": [
        "nltk.download('punkt')\n",
        "from nltk.stem.porter import PorterStemmer\n",
        "stemmer = PorterStemmer()\n",
        "\n",
        "def tokenize(sentence):\n",
        "    return nltk.word_tokenize(sentence)\n",
        "\n",
        "def stem(word):\n",
        "    return stemmer.stem(word.lower())\n",
        "\n",
        "def bag_of_words(sentence):\n",
        "    tokenized_sentence = tokenize(sentence)\n",
        "    sentence_words = [stem(word) for word in tokenized_sentence]\n",
        "    bag = np.zeros(len(all_words), dtype=np.float32)\n",
        "    for idx, w in enumerate(all_words):\n",
        "        if w in sentence_words: \n",
        "            bag[idx] = 1\n",
        "    return bag  "
      ],
      "execution_count": 23,
      "outputs": [
        {
          "output_type": "stream",
          "text": [
            "[nltk_data] Downloading package punkt to /root/nltk_data...\n",
            "[nltk_data]   Unzipping tokenizers/punkt.zip.\n"
          ],
          "name": "stdout"
        }
      ]
    },
    {
      "cell_type": "code",
      "metadata": {
        "id": "6tObtUYqEKkA"
      },
      "source": [
        "tweets = list(new_df['Tweet'])\n",
        "X_train = [bag_of_words(i) for i in tweets]\n",
        "Y_train = list(new_df['Mobile_Tech_Tag'])"
      ],
      "execution_count": 24,
      "outputs": []
    },
    {
      "cell_type": "code",
      "metadata": {
        "id": "yjLXUnOYEMB7"
      },
      "source": [
        "X_train = np.array(X_train)\n",
        "Y_train = np.array(Y_train)"
      ],
      "execution_count": 25,
      "outputs": []
    },
    {
      "cell_type": "markdown",
      "metadata": {
        "id": "hxJMklWtEOk4"
      },
      "source": [
        "#####Training"
      ]
    },
    {
      "cell_type": "code",
      "metadata": {
        "id": "JnKbuSrjENRy"
      },
      "source": [
        "num_epochs = 10\n",
        "batch_size = 8\n",
        "learning_rate = 0.001\n",
        "input_size = len(X_train[0])\n",
        "output_size = 2"
      ],
      "execution_count": 26,
      "outputs": []
    },
    {
      "cell_type": "code",
      "metadata": {
        "id": "MzmAfosqETEJ"
      },
      "source": [
        "import torch\n",
        "import torch.nn as nn\n",
        "from torch.utils.data import Dataset, DataLoader"
      ],
      "execution_count": 27,
      "outputs": []
    },
    {
      "cell_type": "code",
      "metadata": {
        "id": "fXhWD275EUW8"
      },
      "source": [
        "class ChatDataset(Dataset):\n",
        "\n",
        "    def __init__(self):\n",
        "        self.n_samples = len(X_train)\n",
        "        self.x_data = X_train\n",
        "        self.y_data = Y_train\n",
        "\n",
        "    def __getitem__(self, index):\n",
        "        return self.x_data[index], self.y_data[index]\n",
        "\n",
        "    def __len__(self):\n",
        "        return self.n_samples"
      ],
      "execution_count": 28,
      "outputs": []
    },
    {
      "cell_type": "code",
      "metadata": {
        "id": "2bE2ClcDEVik"
      },
      "source": [
        "dataset = ChatDataset()\n",
        "\n",
        "train_loader = DataLoader(dataset=dataset, batch_size=batch_size, shuffle=True, num_workers=0)"
      ],
      "execution_count": 29,
      "outputs": []
    },
    {
      "cell_type": "code",
      "metadata": {
        "id": "0cOiVT5ZEWys"
      },
      "source": [
        "device = torch.device('cuda' if torch.cuda.is_available() else 'cpu')"
      ],
      "execution_count": 30,
      "outputs": []
    },
    {
      "cell_type": "code",
      "metadata": {
        "id": "pwJ35rBjEYDY"
      },
      "source": [
        "class NeuralNet(nn.Module):\n",
        "    def __init__(self, input_size, num_classes):\n",
        "        super(NeuralNet, self).__init__()\n",
        "        self.l1 = nn.Linear(input_size, 1024) \n",
        "        self.l2 = nn.Linear(1024, 256) \n",
        "        self.l3 = nn.Linear(256, 64)\n",
        "        self.l4 = nn.Linear(64, 16)\n",
        "        self.l5 = nn.Linear(16, num_classes)\n",
        "        self.relu = nn.ReLU()\n",
        "    \n",
        "    def forward(self, x):\n",
        "        out = self.l1(x)\n",
        "        out = self.relu(out)\n",
        "        out = self.l2(out)\n",
        "        out = self.relu(out)\n",
        "        out = self.l3(out)\n",
        "        out = self.relu(out)\n",
        "        out = self.l4(out)\n",
        "        out = self.relu(out)\n",
        "        out = self.l5(out)\n",
        "        return out"
      ],
      "execution_count": 31,
      "outputs": []
    },
    {
      "cell_type": "code",
      "metadata": {
        "id": "7HA0P4CxEZXX"
      },
      "source": [
        "model = NeuralNet(input_size, output_size).to(device)\n",
        "\n",
        "criterion = nn.CrossEntropyLoss()\n",
        "optimizer = torch.optim.Adam(model.parameters(), lr=learning_rate)"
      ],
      "execution_count": 32,
      "outputs": []
    },
    {
      "cell_type": "code",
      "metadata": {
        "colab": {
          "base_uri": "https://localhost:8080/"
        },
        "id": "r2cbQygrEaqb",
        "outputId": "76f38675-1bcc-43c8-8880-ac61b6db75a7"
      },
      "source": [
        "for epoch in range(num_epochs):\n",
        "    for (w, labels) in train_loader:\n",
        "        w = w.to(device)\n",
        "        labels = labels.to(dtype=torch.long).to(device)\n",
        "        \n",
        "        outputs = model(w)\n",
        "\n",
        "        loss = criterion(outputs, labels)\n",
        "        \n",
        "        optimizer.zero_grad()\n",
        "        loss.backward()\n",
        "        optimizer.step()\n",
        "        \n",
        "    print (f'Epoch [{epoch+1}/{num_epochs}], Loss: {loss.item():.4f}')"
      ],
      "execution_count": 33,
      "outputs": [
        {
          "output_type": "stream",
          "text": [
            "Epoch [1/10], Loss: 0.0007\n",
            "Epoch [2/10], Loss: 0.0124\n",
            "Epoch [3/10], Loss: 0.0157\n",
            "Epoch [4/10], Loss: 0.0000\n",
            "Epoch [5/10], Loss: 0.0000\n",
            "Epoch [6/10], Loss: 0.0000\n",
            "Epoch [7/10], Loss: 0.0000\n",
            "Epoch [8/10], Loss: 0.0000\n",
            "Epoch [9/10], Loss: 0.0000\n",
            "Epoch [10/10], Loss: 0.0000\n"
          ],
          "name": "stdout"
        }
      ]
    },
    {
      "cell_type": "code",
      "metadata": {
        "id": "s_pWzEVxEdaG"
      },
      "source": [
        "data = {\n",
        "\"model_state\": model.state_dict(),\n",
        "\"input_size\": input_size,\n",
        "\"output_size\": output_size,\n",
        "\"all_words\": all_words,\n",
        "\"tags\": [0, 1]\n",
        "}"
      ],
      "execution_count": 36,
      "outputs": []
    },
    {
      "cell_type": "code",
      "metadata": {
        "id": "uGr4pLxxEmTy"
      },
      "source": [
        "FILE = \"tweets_classification.pth\"\n",
        "torch.save(data, FILE)"
      ],
      "execution_count": 37,
      "outputs": []
    },
    {
      "cell_type": "markdown",
      "metadata": {
        "id": "2dmQ9XuFEpaR"
      },
      "source": [
        "#####Predict the label"
      ]
    },
    {
      "cell_type": "code",
      "metadata": {
        "id": "4RfV6ZnoEnvn"
      },
      "source": [
        "def predict(tweet):\n",
        "    tweet = trans(tweet)\n",
        "    tweet = clean_sentence(tweet)\n",
        "    X = bag_of_words(tweet)\n",
        "    X = np.array(X)\n",
        "    X = torch.from_numpy(X).to(device)\n",
        "    output = model(X)\n",
        "    _, predicted = torch.max(output, dim=0)\n",
        "    if output[0].item() > -2:\n",
        "      return 0\n",
        "    return predicted.item()"
      ],
      "execution_count": 38,
      "outputs": []
    },
    {
      "cell_type": "code",
      "metadata": {
        "colab": {
          "base_uri": "https://localhost:8080/"
        },
        "id": "n00vqWKCEsAB",
        "outputId": "2a30a2ec-9372-44e2-f9df-60f4dff41f96"
      },
      "source": [
        "t_ids = list(data_tweets['Tweet_ID'])\n",
        "t_ids = random.sample(t_ids, 50)\n",
        "temp_df = data_tweets[data_tweets['Tweet_ID'].isin(t_ids)]\n",
        "test_tweets = list(temp_df['Tweet'])\n",
        "test_labels = list(temp_df['Mobile_Tech_Tag'])\n",
        "total_tweets = len(test_tweets)\n",
        "correct = 0\n",
        "for t in range(total_tweets):\n",
        "  p = predict(test_tweets[t])\n",
        "  if p == test_labels[t]:\n",
        "    correct += 1\n",
        "print(correct)"
      ],
      "execution_count": 45,
      "outputs": [
        {
          "output_type": "stream",
          "text": [
            "49\n"
          ],
          "name": "stdout"
        }
      ]
    },
    {
      "cell_type": "code",
      "metadata": {
        "id": "GzyksJJ3FhUP"
      },
      "source": [
        ""
      ],
      "execution_count": null,
      "outputs": []
    }
  ]
}