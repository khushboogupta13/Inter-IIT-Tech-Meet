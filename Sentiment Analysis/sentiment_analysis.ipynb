{
  "nbformat": 4,
  "nbformat_minor": 0,
  "metadata": {
    "colab": {
      "name": "sentiment_analysis.ipynb",
      "provenance": [],
      "collapsed_sections": [],
      "mount_file_id": "1BDrYRWrtvPdxDBo1IuYOEstD8CKFr1kt",
      "authorship_tag": "ABX9TyNRW2OjDtZmTKBKN+zOo25x",
      "include_colab_link": true
    },
    "kernelspec": {
      "name": "python3",
      "display_name": "Python 3"
    },
    "language_info": {
      "name": "python"
    },
    "accelerator": "TPU"
  },
  "cells": [
    {
      "cell_type": "markdown",
      "metadata": {
        "id": "view-in-github",
        "colab_type": "text"
      },
      "source": [
        "<a href=\"https://colab.research.google.com/github/khushboogupta13/Inter-IIT-Tech-Meet/blob/main/sentiment_analysis.ipynb\" target=\"_parent\"><img src=\"https://colab.research.google.com/assets/colab-badge.svg\" alt=\"Open In Colab\"/></a>"
      ]
    },
    {
      "cell_type": "code",
      "metadata": {
        "id": "ckpPpiQMNkJv"
      },
      "source": [
        "import numpy as np\n",
        "import pandas as pd\n",
        "import matplotlib.pyplot as plt\n",
        "%matplotlib inline"
      ],
      "execution_count": 81,
      "outputs": []
    },
    {
      "cell_type": "code",
      "metadata": {
        "colab": {
          "base_uri": "https://localhost:8080/"
        },
        "id": "pnfP9CdaN5FQ",
        "outputId": "97290892-79e6-4e9e-e887-9854f874bbb9"
      },
      "source": [
        "from google.colab import drive\n",
        "drive.mount('/content/drive')"
      ],
      "execution_count": 82,
      "outputs": [
        {
          "output_type": "stream",
          "text": [
            "Drive already mounted at /content/drive; to attempt to forcibly remount, call drive.mount(\"/content/drive\", force_remount=True).\n"
          ],
          "name": "stdout"
        }
      ]
    },
    {
      "cell_type": "markdown",
      "metadata": {
        "id": "D6jkMV30PSGz"
      },
      "source": [
        " **SENTIMENT ANALYSIS ON TWEETS** "
      ]
    },
    {
      "cell_type": "code",
      "metadata": {
        "colab": {
          "base_uri": "https://localhost:8080/",
          "height": 419
        },
        "id": "7aGkGTtTOkYF",
        "outputId": "40833e33-e31a-4306-e539-48946c45c088"
      },
      "source": [
        "data_tweets = pd.read_excel(\"/content/drive/MyDrive/Inter IIT Tech Meet dataset/dev_data_tweet.xlsx\")\n",
        "data_tweets"
      ],
      "execution_count": 83,
      "outputs": [
        {
          "output_type": "execute_result",
          "data": {
            "text/html": [
              "<div>\n",
              "<style scoped>\n",
              "    .dataframe tbody tr th:only-of-type {\n",
              "        vertical-align: middle;\n",
              "    }\n",
              "\n",
              "    .dataframe tbody tr th {\n",
              "        vertical-align: top;\n",
              "    }\n",
              "\n",
              "    .dataframe thead th {\n",
              "        text-align: right;\n",
              "    }\n",
              "</style>\n",
              "<table border=\"1\" class=\"dataframe\">\n",
              "  <thead>\n",
              "    <tr style=\"text-align: right;\">\n",
              "      <th></th>\n",
              "      <th>Tweet_ID</th>\n",
              "      <th>Tweet</th>\n",
              "      <th>Mobile_Tech_Tag</th>\n",
              "    </tr>\n",
              "  </thead>\n",
              "  <tbody>\n",
              "    <tr>\n",
              "      <th>0</th>\n",
              "      <td>tweet_0001</td>\n",
              "      <td>You'll 💜 my #PitchWars book if you like: 🦋 hat...</td>\n",
              "      <td>0</td>\n",
              "    </tr>\n",
              "    <tr>\n",
              "      <th>1</th>\n",
              "      <td>tweet_0002</td>\n",
              "      <td>RT @SkySportsNews: 🚨 Breaking: #WBA have reach...</td>\n",
              "      <td>0</td>\n",
              "    </tr>\n",
              "    <tr>\n",
              "      <th>2</th>\n",
              "      <td>tweet_0003</td>\n",
              "      <td>RT @stealyoman_cuso: really says a lot about s...</td>\n",
              "      <td>0</td>\n",
              "    </tr>\n",
              "    <tr>\n",
              "      <th>3</th>\n",
              "      <td>tweet_0004</td>\n",
              "      <td>RT @PGtzsche1: HPV vaccines increased serious ...</td>\n",
              "      <td>0</td>\n",
              "    </tr>\n",
              "    <tr>\n",
              "      <th>4</th>\n",
              "      <td>tweet_0005</td>\n",
              "      <td>Ramaphosa says if you are positive you must se...</td>\n",
              "      <td>0</td>\n",
              "    </tr>\n",
              "    <tr>\n",
              "      <th>...</th>\n",
              "      <td>...</td>\n",
              "      <td>...</td>\n",
              "      <td>...</td>\n",
              "    </tr>\n",
              "    <tr>\n",
              "      <th>3995</th>\n",
              "      <td>tweet_3996</td>\n",
              "      <td>RT @ZeeNews: चीनी मोबाइल कंपनी रियलमी ने अपना ...</td>\n",
              "      <td>1</td>\n",
              "    </tr>\n",
              "    <tr>\n",
              "      <th>3996</th>\n",
              "      <td>tweet_3997</td>\n",
              "      <td>RT @ZeeNews: चीनी मोबाइल कंपनी रियलमी ने अपना ...</td>\n",
              "      <td>1</td>\n",
              "    </tr>\n",
              "    <tr>\n",
              "      <th>3997</th>\n",
              "      <td>tweet_3998</td>\n",
              "      <td>चीनी मोबाइल कंपनी रियलमी ने अपना Realme V15 5G...</td>\n",
              "      <td>1</td>\n",
              "    </tr>\n",
              "    <tr>\n",
              "      <th>3998</th>\n",
              "      <td>tweet_3999</td>\n",
              "      <td>QT @AnjaliSingh_IN: Aapne phone hi galat choos...</td>\n",
              "      <td>1</td>\n",
              "    </tr>\n",
              "    <tr>\n",
              "      <th>3999</th>\n",
              "      <td>tweet_4000</td>\n",
              "      <td>QT @ManojSaru: पर bhaib5g इंडिया में कब आयेगा।...</td>\n",
              "      <td>1</td>\n",
              "    </tr>\n",
              "  </tbody>\n",
              "</table>\n",
              "<p>4000 rows × 3 columns</p>\n",
              "</div>"
            ],
            "text/plain": [
              "        Tweet_ID  ... Mobile_Tech_Tag\n",
              "0     tweet_0001  ...               0\n",
              "1     tweet_0002  ...               0\n",
              "2     tweet_0003  ...               0\n",
              "3     tweet_0004  ...               0\n",
              "4     tweet_0005  ...               0\n",
              "...          ...  ...             ...\n",
              "3995  tweet_3996  ...               1\n",
              "3996  tweet_3997  ...               1\n",
              "3997  tweet_3998  ...               1\n",
              "3998  tweet_3999  ...               1\n",
              "3999  tweet_4000  ...               1\n",
              "\n",
              "[4000 rows x 3 columns]"
            ]
          },
          "metadata": {
            "tags": []
          },
          "execution_count": 83
        }
      ]
    },
    {
      "cell_type": "code",
      "metadata": {
        "colab": {
          "base_uri": "https://localhost:8080/"
        },
        "id": "VfWnK4-1O0aG",
        "outputId": "d644a4c2-ba2e-47f7-cd93-79c4f94ac36a"
      },
      "source": [
        "data_tweets = data_tweets.drop_duplicates(subset =\"Tweet\")\n",
        "print(len(data_tweets))"
      ],
      "execution_count": 84,
      "outputs": [
        {
          "output_type": "stream",
          "text": [
            "2400\n"
          ],
          "name": "stdout"
        }
      ]
    },
    {
      "cell_type": "code",
      "metadata": {
        "colab": {
          "base_uri": "https://localhost:8080/",
          "height": 419
        },
        "id": "hNfwMFTWSF7q",
        "outputId": "871386dd-c5c3-4fd8-b654-4a8dced4a708"
      },
      "source": [
        "#using only the tweets with tag=1 for the start\n",
        "data_tweets = data_tweets.loc[data_tweets[\"Mobile_Tech_Tag\"] == 1]\n",
        "data_tweets"
      ],
      "execution_count": 85,
      "outputs": [
        {
          "output_type": "execute_result",
          "data": {
            "text/html": [
              "<div>\n",
              "<style scoped>\n",
              "    .dataframe tbody tr th:only-of-type {\n",
              "        vertical-align: middle;\n",
              "    }\n",
              "\n",
              "    .dataframe tbody tr th {\n",
              "        vertical-align: top;\n",
              "    }\n",
              "\n",
              "    .dataframe thead th {\n",
              "        text-align: right;\n",
              "    }\n",
              "</style>\n",
              "<table border=\"1\" class=\"dataframe\">\n",
              "  <thead>\n",
              "    <tr style=\"text-align: right;\">\n",
              "      <th></th>\n",
              "      <th>Tweet_ID</th>\n",
              "      <th>Tweet</th>\n",
              "      <th>Mobile_Tech_Tag</th>\n",
              "    </tr>\n",
              "  </thead>\n",
              "  <tbody>\n",
              "    <tr>\n",
              "      <th>3000</th>\n",
              "      <td>tweet_3001</td>\n",
              "      <td>#Samsung is now making another addition into i...</td>\n",
              "      <td>1</td>\n",
              "    </tr>\n",
              "    <tr>\n",
              "      <th>3001</th>\n",
              "      <td>tweet_3002</td>\n",
              "      <td>QT @AwamiWeb: Want my hands on #GalaxyS21 🥺 ; ...</td>\n",
              "      <td>1</td>\n",
              "    </tr>\n",
              "    <tr>\n",
              "      <th>3002</th>\n",
              "      <td>tweet_3003</td>\n",
              "      <td>QT @AwamiWeb: This is a next level camera 🤩 #G...</td>\n",
              "      <td>1</td>\n",
              "    </tr>\n",
              "    <tr>\n",
              "      <th>3003</th>\n",
              "      <td>tweet_3004</td>\n",
              "      <td>Trick to get Google Home Mini at 499 Only With...</td>\n",
              "      <td>1</td>\n",
              "    </tr>\n",
              "    <tr>\n",
              "      <th>3004</th>\n",
              "      <td>tweet_3005</td>\n",
              "      <td>QT @MadhavSheth1: We are the pioneers of 64MP ...</td>\n",
              "      <td>1</td>\n",
              "    </tr>\n",
              "    <tr>\n",
              "      <th>...</th>\n",
              "      <td>...</td>\n",
              "      <td>...</td>\n",
              "      <td>...</td>\n",
              "    </tr>\n",
              "    <tr>\n",
              "      <th>3991</th>\n",
              "      <td>tweet_3992</td>\n",
              "      <td>#Realme ने 5G सेगमेंट में एक धांसू फोन #Realme...</td>\n",
              "      <td>1</td>\n",
              "    </tr>\n",
              "    <tr>\n",
              "      <th>3992</th>\n",
              "      <td>tweet_3993</td>\n",
              "      <td>भारत में लॉन्च हुआ Xiaomi Mi 10i, यह है 2021 क...</td>\n",
              "      <td>1</td>\n",
              "    </tr>\n",
              "    <tr>\n",
              "      <th>3997</th>\n",
              "      <td>tweet_3998</td>\n",
              "      <td>चीनी मोबाइल कंपनी रियलमी ने अपना Realme V15 5G...</td>\n",
              "      <td>1</td>\n",
              "    </tr>\n",
              "    <tr>\n",
              "      <th>3998</th>\n",
              "      <td>tweet_3999</td>\n",
              "      <td>QT @AnjaliSingh_IN: Aapne phone hi galat choos...</td>\n",
              "      <td>1</td>\n",
              "    </tr>\n",
              "    <tr>\n",
              "      <th>3999</th>\n",
              "      <td>tweet_4000</td>\n",
              "      <td>QT @ManojSaru: पर bhaib5g इंडिया में कब आयेगा।...</td>\n",
              "      <td>1</td>\n",
              "    </tr>\n",
              "  </tbody>\n",
              "</table>\n",
              "<p>569 rows × 3 columns</p>\n",
              "</div>"
            ],
            "text/plain": [
              "        Tweet_ID  ... Mobile_Tech_Tag\n",
              "3000  tweet_3001  ...               1\n",
              "3001  tweet_3002  ...               1\n",
              "3002  tweet_3003  ...               1\n",
              "3003  tweet_3004  ...               1\n",
              "3004  tweet_3005  ...               1\n",
              "...          ...  ...             ...\n",
              "3991  tweet_3992  ...               1\n",
              "3992  tweet_3993  ...               1\n",
              "3997  tweet_3998  ...               1\n",
              "3998  tweet_3999  ...               1\n",
              "3999  tweet_4000  ...               1\n",
              "\n",
              "[569 rows x 3 columns]"
            ]
          },
          "metadata": {
            "tags": []
          },
          "execution_count": 85
        }
      ]
    },
    {
      "cell_type": "code",
      "metadata": {
        "colab": {
          "base_uri": "https://localhost:8080/"
        },
        "id": "gS1Org7DVnrD",
        "outputId": "eb635432-a8fb-4af8-8f46-7e75fb678ad6"
      },
      "source": [
        "tweets = list(data_tweets[\"Tweet\"])\n",
        "print(len(tweets))"
      ],
      "execution_count": 86,
      "outputs": [
        {
          "output_type": "stream",
          "text": [
            "569\n"
          ],
          "name": "stdout"
        }
      ]
    },
    {
      "cell_type": "markdown",
      "metadata": {
        "id": "lDE8kpDSXnMy"
      },
      "source": [
        "**Data PreProcessing**"
      ]
    },
    {
      "cell_type": "code",
      "metadata": {
        "colab": {
          "base_uri": "https://localhost:8080/"
        },
        "id": "PEiCUtRwSexA",
        "outputId": "c6858b5f-5c5d-4645-a609-76739b0abcb4"
      },
      "source": [
        "#for translating the hindi tweets to english\n",
        "!pip install google_trans_new"
      ],
      "execution_count": 87,
      "outputs": [
        {
          "output_type": "stream",
          "text": [
            "Requirement already satisfied: google_trans_new in /usr/local/lib/python3.7/dist-packages (1.1.9)\n"
          ],
          "name": "stdout"
        }
      ]
    },
    {
      "cell_type": "code",
      "metadata": {
        "id": "eJQB2_uVUph7"
      },
      "source": [
        "from google_trans_new import google_translator\n",
        "\n",
        "def translate_text(sentence):\n",
        "  return translator.translate(sentence,lang_tgt='en') \n",
        "\n",
        "translator = google_translator()\n",
        "translated_tweets = [translate_text(i) for i in tweets]\n"
      ],
      "execution_count": 88,
      "outputs": []
    },
    {
      "cell_type": "code",
      "metadata": {
        "colab": {
          "base_uri": "https://localhost:8080/",
          "height": 419
        },
        "id": "XukYkK3DWWiu",
        "outputId": "a74b7414-d6d3-411c-f475-9c18fca87a6a"
      },
      "source": [
        "data_tweets[\"Tweet\"] = translated_tweets\n",
        "data_tweets"
      ],
      "execution_count": 89,
      "outputs": [
        {
          "output_type": "execute_result",
          "data": {
            "text/html": [
              "<div>\n",
              "<style scoped>\n",
              "    .dataframe tbody tr th:only-of-type {\n",
              "        vertical-align: middle;\n",
              "    }\n",
              "\n",
              "    .dataframe tbody tr th {\n",
              "        vertical-align: top;\n",
              "    }\n",
              "\n",
              "    .dataframe thead th {\n",
              "        text-align: right;\n",
              "    }\n",
              "</style>\n",
              "<table border=\"1\" class=\"dataframe\">\n",
              "  <thead>\n",
              "    <tr style=\"text-align: right;\">\n",
              "      <th></th>\n",
              "      <th>Tweet_ID</th>\n",
              "      <th>Tweet</th>\n",
              "      <th>Mobile_Tech_Tag</th>\n",
              "    </tr>\n",
              "  </thead>\n",
              "  <tbody>\n",
              "    <tr>\n",
              "      <th>3000</th>\n",
              "      <td>tweet_3001</td>\n",
              "      <td>#Samsung is now making another addition into i...</td>\n",
              "      <td>1</td>\n",
              "    </tr>\n",
              "    <tr>\n",
              "      <th>3001</th>\n",
              "      <td>tweet_3002</td>\n",
              "      <td>QT @AwamiWeb: Want my hands on #GalaxyS21 🥺 ; ...</td>\n",
              "      <td>1</td>\n",
              "    </tr>\n",
              "    <tr>\n",
              "      <th>3002</th>\n",
              "      <td>tweet_3003</td>\n",
              "      <td>QT @AwamiWeb: This is a next level camera 🤩 #G...</td>\n",
              "      <td>1</td>\n",
              "    </tr>\n",
              "    <tr>\n",
              "      <th>3003</th>\n",
              "      <td>tweet_3004</td>\n",
              "      <td>Trick to get Google Home Mini at 499 Only With...</td>\n",
              "      <td>1</td>\n",
              "    </tr>\n",
              "    <tr>\n",
              "      <th>3004</th>\n",
              "      <td>tweet_3005</td>\n",
              "      <td>QT @MadhavSheth1: We are the pioneers of 64MP ...</td>\n",
              "      <td>1</td>\n",
              "    </tr>\n",
              "    <tr>\n",
              "      <th>...</th>\n",
              "      <td>...</td>\n",
              "      <td>...</td>\n",
              "      <td>...</td>\n",
              "    </tr>\n",
              "    <tr>\n",
              "      <th>3991</th>\n",
              "      <td>tweet_3992</td>\n",
              "      <td>#Realme has launched a Dhansu Phone # Realmev1...</td>\n",
              "      <td>1</td>\n",
              "    </tr>\n",
              "    <tr>\n",
              "      <th>3992</th>\n",
              "      <td>tweet_3993</td>\n",
              "      <td>Xiaomi Mi 10i launched in India, it is the che...</td>\n",
              "      <td>1</td>\n",
              "    </tr>\n",
              "    <tr>\n",
              "      <th>3997</th>\n",
              "      <td>tweet_3998</td>\n",
              "      <td>Chinese mobile company Realmi has launched its...</td>\n",
              "      <td>1</td>\n",
              "    </tr>\n",
              "    <tr>\n",
              "      <th>3998</th>\n",
              "      <td>tweet_3999</td>\n",
              "      <td>Qt @anjalisingh_in: aapne phone hi galat choos...</td>\n",
              "      <td>1</td>\n",
              "    </tr>\n",
              "    <tr>\n",
              "      <th>3999</th>\n",
              "      <td>tweet_4000</td>\n",
              "      <td>Qt @Manojsaru: When will Bhaib5g come to India...</td>\n",
              "      <td>1</td>\n",
              "    </tr>\n",
              "  </tbody>\n",
              "</table>\n",
              "<p>569 rows × 3 columns</p>\n",
              "</div>"
            ],
            "text/plain": [
              "        Tweet_ID  ... Mobile_Tech_Tag\n",
              "3000  tweet_3001  ...               1\n",
              "3001  tweet_3002  ...               1\n",
              "3002  tweet_3003  ...               1\n",
              "3003  tweet_3004  ...               1\n",
              "3004  tweet_3005  ...               1\n",
              "...          ...  ...             ...\n",
              "3991  tweet_3992  ...               1\n",
              "3992  tweet_3993  ...               1\n",
              "3997  tweet_3998  ...               1\n",
              "3998  tweet_3999  ...               1\n",
              "3999  tweet_4000  ...               1\n",
              "\n",
              "[569 rows x 3 columns]"
            ]
          },
          "metadata": {
            "tags": []
          },
          "execution_count": 89
        }
      ]
    },
    {
      "cell_type": "code",
      "metadata": {
        "colab": {
          "base_uri": "https://localhost:8080/",
          "height": 487
        },
        "id": "1MnXwiT3XBlb",
        "outputId": "5f2a7c6e-e834-44c4-f786-05f183373532"
      },
      "source": [
        "import re\n",
        "import nltk\n",
        "nltk.download('stopwords')\n",
        "nltk.download('punkt')\n",
        "from nltk.stem.porter import PorterStemmer\n",
        "\n",
        "stemmer = PorterStemmer()\n",
        "\n",
        "def data_preprocessing(df):\n",
        "  #lowercasing\n",
        "  df['Tweet'] = df['Tweet'].apply(lambda x: \" \".join(x.lower() for x in x.split()))\n",
        "\n",
        "  #removing the twitter handles and \"qt\" and retweets\n",
        "  tweets = list(df[\"Tweet\"])\n",
        "  for i in range(len(tweets)):\n",
        "    r = re.findall(\"@[\\w]*\",tweets[i])\n",
        "    for j in r:\n",
        "      tweets[i] = re.sub(j, '', tweets[i])\n",
        "    tweets[i] = tweets[i].replace(\"qt\",\"\")\n",
        "    tweets[i] = tweets[i].replace(\"rt\",\"\")\n",
        "    tweets[i] = re.sub(r'[^\\w\\s]', '', tweets[i]) \n",
        "  \n",
        "  df[\"Tweet\"] = tweets\n",
        "\n",
        "  #removing the urls\n",
        "  df[\"Tweet\"] = df[\"Tweet\"].apply(lambda x: re.sub(r'https?:\\/\\/\\S+', '', x))\n",
        "  df[\"Tweet\"] = df[\"Tweet\"].apply(lambda x: re.sub(r'http?:\\/\\/\\S+', '', x))\n",
        "  df[\"Tweet\"] = df[\"Tweet\"].apply(lambda x: re.sub(r\"www\\.[a-z]?\\.?(com)+|[a-z]+\\.(com)\", '', x))\n",
        "\n",
        "  #removing the non letter characters\n",
        "  df[\"Tweet\"] = df[\"Tweet\"].apply(lambda x: re.sub(r\"[^a-z\\s\\(\\-:\\)\\\\\\/\\];='#]\", '', x))\n",
        "\n",
        "  df['Tweet'] = df['Tweet'].apply(lambda x: ' '.join([w for w in x.split() if len(w)>3]))\n",
        "\n",
        "  #tokenization\n",
        "  tokenized_tweet = df[\"Tweet\"].apply(lambda x: nltk.word_tokenize(x))\n",
        "\n",
        "  #stemming\n",
        "  tokenized_tweet = tokenized_tweet.apply(lambda x: [stemmer.stem(i) for i in x])\n",
        "\n",
        "  df[\"Tweet\"] = tokenized_tweet\n",
        "\n",
        "  \n",
        "data_preprocessing(data_tweets) \n",
        "data_tweets"
      ],
      "execution_count": 90,
      "outputs": [
        {
          "output_type": "stream",
          "text": [
            "[nltk_data] Downloading package stopwords to /root/nltk_data...\n",
            "[nltk_data]   Package stopwords is already up-to-date!\n",
            "[nltk_data] Downloading package punkt to /root/nltk_data...\n",
            "[nltk_data]   Package punkt is already up-to-date!\n"
          ],
          "name": "stdout"
        },
        {
          "output_type": "execute_result",
          "data": {
            "text/html": [
              "<div>\n",
              "<style scoped>\n",
              "    .dataframe tbody tr th:only-of-type {\n",
              "        vertical-align: middle;\n",
              "    }\n",
              "\n",
              "    .dataframe tbody tr th {\n",
              "        vertical-align: top;\n",
              "    }\n",
              "\n",
              "    .dataframe thead th {\n",
              "        text-align: right;\n",
              "    }\n",
              "</style>\n",
              "<table border=\"1\" class=\"dataframe\">\n",
              "  <thead>\n",
              "    <tr style=\"text-align: right;\">\n",
              "      <th></th>\n",
              "      <th>Tweet_ID</th>\n",
              "      <th>Tweet</th>\n",
              "      <th>Mobile_Tech_Tag</th>\n",
              "    </tr>\n",
              "  </thead>\n",
              "  <tbody>\n",
              "    <tr>\n",
              "      <th>3000</th>\n",
              "      <td>tweet_3001</td>\n",
              "      <td>[samsung, make, anoth, addit, into, seri, word...</td>\n",
              "      <td>1</td>\n",
              "    </tr>\n",
              "    <tr>\n",
              "      <th>3001</th>\n",
              "      <td>tweet_3002</td>\n",
              "      <td>[want, hand, galaxi, samsung, galaxi, ultra, m...</td>\n",
              "      <td>1</td>\n",
              "    </tr>\n",
              "    <tr>\n",
              "      <th>3002</th>\n",
              "      <td>tweet_3003</td>\n",
              "      <td>[thi, next, level, camera, galaxi, samsung, ga...</td>\n",
              "      <td>1</td>\n",
              "    </tr>\n",
              "    <tr>\n",
              "      <th>3003</th>\n",
              "      <td>tweet_3004</td>\n",
              "      <td>[trick, googl, home, mini, onli, without, time...</td>\n",
              "      <td>1</td>\n",
              "    </tr>\n",
              "    <tr>\n",
              "      <th>3004</th>\n",
              "      <td>tweet_3005</td>\n",
              "      <td>[pioneer, smaphon, camera, technolog, india, r...</td>\n",
              "      <td>1</td>\n",
              "    </tr>\n",
              "    <tr>\n",
              "      <th>...</th>\n",
              "      <td>...</td>\n",
              "      <td>...</td>\n",
              "      <td>...</td>\n",
              "    </tr>\n",
              "    <tr>\n",
              "      <th>3991</th>\n",
              "      <td>tweet_3992</td>\n",
              "      <td>[realm, launch, dhansu, phone, realmev, segmen...</td>\n",
              "      <td>1</td>\n",
              "    </tr>\n",
              "    <tr>\n",
              "      <th>3992</th>\n",
              "      <td>tweet_3993</td>\n",
              "      <td>[xiaomi, launch, india, cheapest, phone, https...</td>\n",
              "      <td>1</td>\n",
              "    </tr>\n",
              "    <tr>\n",
              "      <th>3997</th>\n",
              "      <td>tweet_3998</td>\n",
              "      <td>[chines, mobil, compani, realmi, launch, realm...</td>\n",
              "      <td>1</td>\n",
              "    </tr>\n",
              "    <tr>\n",
              "      <th>3998</th>\n",
              "      <td>tweet_3999</td>\n",
              "      <td>[aapn, phone, galat, choos, liya, haisorri, ph...</td>\n",
              "      <td>1</td>\n",
              "    </tr>\n",
              "    <tr>\n",
              "      <th>3999</th>\n",
              "      <td>tweet_4000</td>\n",
              "      <td>[when, will, bhaibg, come, india, dosto, mein,...</td>\n",
              "      <td>1</td>\n",
              "    </tr>\n",
              "  </tbody>\n",
              "</table>\n",
              "<p>569 rows × 3 columns</p>\n",
              "</div>"
            ],
            "text/plain": [
              "        Tweet_ID  ... Mobile_Tech_Tag\n",
              "3000  tweet_3001  ...               1\n",
              "3001  tweet_3002  ...               1\n",
              "3002  tweet_3003  ...               1\n",
              "3003  tweet_3004  ...               1\n",
              "3004  tweet_3005  ...               1\n",
              "...          ...  ...             ...\n",
              "3991  tweet_3992  ...               1\n",
              "3992  tweet_3993  ...               1\n",
              "3997  tweet_3998  ...               1\n",
              "3998  tweet_3999  ...               1\n",
              "3999  tweet_4000  ...               1\n",
              "\n",
              "[569 rows x 3 columns]"
            ]
          },
          "metadata": {
            "tags": []
          },
          "execution_count": 90
        }
      ]
    },
    {
      "cell_type": "markdown",
      "metadata": {
        "id": "iLOURdISCiwI"
      },
      "source": [
        "**Sentiment Analysis**"
      ]
    },
    {
      "cell_type": "code",
      "metadata": {
        "colab": {
          "base_uri": "https://localhost:8080/"
        },
        "id": "zxBbaHDY-aPZ",
        "outputId": "148efda0-d718-4b94-ff93-e8444d9daf73"
      },
      "source": [
        "from textblob import TextBlob\n",
        "\n",
        "maxx = 0\n",
        "tweets = list(data_tweets[\"Tweet\"])\n",
        "for i in range(len(tweets)):\n",
        "  maxx=max(maxx,len(tweets[i]))\n",
        "  tweets[i] = \" \".join(tweets[i])\n",
        "\n",
        "data_tweets[\"Tweet\"] = tweets\n",
        "\n",
        "print(maxx)\n",
        "print(tweets)\n"
      ],
      "execution_count": 91,
      "outputs": [
        {
          "output_type": "stream",
          "text": [
            "52\n",
            "['samsung make anoth addit into seri word that upcom variant galaxi awesom batteri charger with brilliant spec more tech updat follow smaphon mobil mobilephon mobilephoto httpstcobuozmc', 'want hand galaxi samsung galaxi ultra most premium smaphon with strong focu camera httpstcotxpysckmz', 'thi next level camera galaxi samsung galaxi ultra most premium smaphon with strong focu camera httpstcotxpysckmz', 'trick googl home mini onli without timesprim coupon first just open googl assist your android smaphon googl assist will open speak googl play googl home mini game googl will show game page like below with httpstcoiqebabk', 'pioneer smaphon camera technolog india realmexpro realmexpro pioneer smaphon camera technolog india giveaway repli use realmexpro answer correctli xperiencethefutur httpstcodvehgqv', 'pioneer smaphon camera technolog india realmexpro pioneer smaphon camera technolog india giveaway repli use realmexpro answer correctli xperiencethefutur httpstcodvehgqv', 'bestest smaphon industri heavi scene galaxi samsung galaxi ultra most premium smaphon with strong focu camera httpstcotxpysckmz', 'samsung galaxi ultra most premium smaphon with strong focu camera httpstcotxpysckmz', 'itel budget smaphon with dual camera launch india httpstcoytwvoyjoy', 'realm smaphon dual onli httpstcondrxrpsmp httpstcolfyjmfhaj', 'itel budget smaphon with dual camera launch india httpstcowpglvsmm itel been launch india budgetfriendli smaphon specif itel includ inch fullscreen display', 'cell phone unlock android smaphon dual quad core cheap ebay cellphonesandaccessori httpstcohiwndpno', 'global soon launch afford smaphon india know detail aaaq news hindi httpstcoggxlfop', 'provideo galaxynoteultra becaus when work from note highest resolut smaphon video record couldnt more', 'soon launch afford nokia smaphon india know inform news hindi httpstcobryugiuh', 'pioneer smaphon camera technolog india realmexpro xperiencethefutur', 'pioneer smaphon camera technolog india giveaway repli use realmexpro answer correctli xperiencethefutur httpstcodvehgqv', 'global smaphon market increas driven suppli push aggress promot smaphon vendor share httpstcouppxdwgf', 'samsung trademark under panel camera smaphon httpstcofcebwa httpstcoxipourda', 'cant afford anyth okay valid reason want spend money that valid reason dismiss altogeth video call free have smaphon wifi plan digit movi date creativ write romant letter', 'samsung cut price galaxi flip httpstcolpilfavanq galaxyzflipg galaxyzflip smaphon samsung mobil', 'itel budget smaphon with dual rear camera launch india price specif httpstcokfnrurw', 'pioneer smaphon camera technolog india realmexpro', 'thi would game changer grant need vaccin arm thi could soon have first overthecount athom covid test result your smaphon minut accuraci httpstcorblxwrlr', 'smaphon more heavi have made realmexpro slimmer lighter trendset design famili httpstcoludznhqmw', 'pioneer smaphon camera technolog realmexpro xperiencethefutur', 'life work remot learn with ipevo uplift have turn your smaphon into document camera webcam make most everi httpstcosuiedncnuu edtech edutwitt remotejob onlinelearn shareyourwork onlineteach', 'employe make grade with save just workperk save enjoy unlimit talk text smaphon data tax fee includ httpstcokiuqkueod thankyou httpstcoybxrgyarc', 'display smaphon benefit greatli increas onlin learn growth thi segment will come from higher sale digit learn product tablet enabl smaphon upgrad smatech adopt car growth', 'thi cool love iphon smaphon mobil femtech daysofcod tech httpstcopxzxhimb', 'samsung galaxi smaphon will upgrad cheaper android iphon user switch today samsung galaxi devic have lower price than last year lineup come with improv camera httpstcotqywptb saudiarabia saudi arabicemir httpstcoyllppxvg', 'futur augmentedr mixedr viualreal tech smaphon innov httpstcoixknzmf', 'samsung galaxi smaphon will upgrad cheaper android iphon user switch today samsung galaxi devic have lower price than last year lineup come with improv camera httpstcotqywptb saudiarabia saudi arabicemir httpstcoyllppxvg', 'pioneer smaphon camera technolog india realmexpro xperiencethefutur realm', 'koomu univers slot magnet cradleless smaphon mount holder iphon android devic singl order httpstcoosswhuscu android iphon phonemafia appl samsung game mobil automot car iphon httpstcodjcltdgx', 'enter lepow poabl monitor great pair with nintendo switch smaphon other game consol from httpstcozrqeboyjf', 'vivo snapdragon come india march april check full spec price pro con httpstcofrmzgqglt vivo vivoxproplu vivoy vivoy vivox vivoxpro xpro xproplu vivov vivovs vivoindia smaphon thewidgetguy', 'origin runge robust tablett tanch smaphon android httpstcofvvyxlrun', 'check what found huawei android smaphon unlock coral grade httpstcowhvzayuox', 'check what found huawei android smaphon unlock coral grade httpstcowhvzayuox', 'samsung patent smaphon design with rotat popup camera modul gizmochina httpstcomeywgdnb', 'nord tip next midrang smaphon from oneplu httpstcorduinuznwr nordng android news smaphon likelik likeforlik followfollow techblog technew futuretechnolog socialmedia innov appl iphon world gadget', 'wonder what best camera smaphon check these tech option httpstcouzwoaqbxoo httpstcomatoolxa', 'xiaomi lite give camera mobil arena mobil phone spec smaphon review httpstcoovojchyej', 'pioneer smaphon camera technolog india realmexpro xperiencethefutur pioneer smaphon camera technolog india giveaway repli use realmexpro answer correctli xperiencethefutur httpstcodvehgqv', 'pioneer smaphon camera technolog india realmexpro xperiencethefutur', 'will hous bionic chip under hood will phone will midrang smaphon from appl some featur will same iphon iphon', 'oppo inno yearli confer where compani reveal latest innov take place shenzhen china thi time have watch from home last year underdisplay camera tomorrow were expect smaphon with fast charg', 'realmexpro pioneer smaphon camera technolog india giveaway repli use realmexpro answer correctli xperiencethefutur httpstcodvehgqv', 'pioneer soni smaphon camera technolog india realmexpro', 'pioneer smaphon camera technolog india realmexpro xperiencethefutur pioneer smaphon camera technolog india giveaway repli use realmexpro answer correctli xperiencethefutur httpstcodvehgqv', 'pioneer smaphon camera technolog india realmexpro xperiencethefutur', 'divergentdigit postsmaphon write thi from mobil world congress barcelona guest huawei doesnt adveis businessagil businesstransform httpstcouhrarfk httpstcobpwhnbbqvr', 'intel sold smaphon modem busi appl do anoth chiprel divis mediatek announc purchas enpirionintel power manag chip busi price million deal readi through onc approv regul httpstcojnfzkmcu', 'nord will offici name oneplu replac budget friendli phone nord sponsor oneplu nordng smaphon httpstcoztavbaxeqz', 'will have typec stereo speaker global variant thi smaphon also rumor debut redmi note recent find suggest that devic model number which similar chines variant', 'global oneplu smaphon snapdragon octa core amol dual camera cell phone httpstcolnpdajejb', 'itel budget smaphon with dual rear camera launch india price specif httpstcoqiknhupo httpstcohxqadqffq', 'xiaomi patent show smaphon design with slide display hide reveal frontfac camera true bezelless screen httpstcoforkwfmj', 'some featur exyno bring smaphon suppo refresh rate full resolut suppo still ultra video', 'huawei mate foldabl smaphon full specif httpstcobkgjvdnem', 'huawei mate foldabl smaphon full specif httpstcoyqavfumz', 'itel budget smaphon with dual camera launch india httpstcocydjpspql', 'connect option phone includ wifi bluetooth more will also come with radio suppo tecno pova back batteri that suppo fast charg smaphon measur xxmm', 'oneplu nord will join oneplu smaphon lineup oneplu oneplusn httpstcozgztrk', 'xgodi android cell phone smaphon tmobil dual quad core ebay cellphonesandaccessori httpstcorbfudsrjjw', 'itel budget smaphon with dual camera launch india httpstcolwehnirjap', 'smaphon more heavi have made realmexpro slimmer lighter trendset design famili httpstcoxyyighffuh more httpstcowvsvofn', 'motorola will launch phone next year power qualcomm snapdragon will seri other will spec seri smaphon still mysteri full thread spec httpstcothmxoxialu', 'pioneer smaphon camera technolog india realmexpro xperiencethefutur', 'itel budget smaphon with dual camera launch india hindi httpstcopxrwlbmx', 'itel budget smaphon with dual camera launch india httpstcohwuhqhwhr', 'latest polaroid waterproof dslr smaphon strobe compact hous action camera daili httpstcoaimmgqsqc thank technolog boya', 'dare game changer covid advis announc approv america first overthecount athom covid test result your smaphon minut accuraci httpstcorblxwrlr', 'nokia run android make mark wifi allianc both devic made last month nokia wifialli httpstcobsxnsl nokia clear smaphon carri batteri featur audio jack nokia android httpstcopjcjpokgv', 'inch glass phone switch xbox pcmac more mixedr smaglass wearabl gamer busi industri smaphon femtech womenintech daysofcod httpstcodnwbrwrh httpstcoptgrvxryvn inch glass phone switch xbox pcmac more httpstcoezllqydg mixedr smaglass wearabl httpstcoesamlqj', 'futur augmentedr mixedr viualreal tech smaphon innov devop busi industri femtech daysofcod futur augmentedr mixedr viualreal tech smaphon innov httpstcoixknzmf', 'itel budget smaphon with dual camera launch india httpstcorhjzkf', 'nice activ geoloc game bike dont lock your eye smaphon', 'itel budget smaphon with dual rear camera launch india price specif httpstcoievvuib', 'afford phone from nokia come soon india httpstcohpwvoewoc android news smaphon likelik likeforlik followfollow techblog technew futuretechnolog socialmedia innov appl iphon world gadget engin electron', 'itel budget smaphon with dual camera launch india httpstcorgjfmwmut', 'tsurezur children kakegurui youkoso jitsuryoku shijou shugi kyoushitsu gamer isekai smaphon tomo game nana maru batsu konbini kareshi divin gate sakura quest rokudenashi majutsu koushi akash record kono subarashii sekai shukufuku', 'smaphon count tool power mobileapp aificialintellig deeplearn datasci javascript serverless womenintech daysofcod python linux digitaltransform baa cloudcomput neuralnetwork devcommun data httpstcooxdvaelh count anyth with your smaphon thi aipow mobileapp aificialintellig machinelearn httpstcoxjmhsvgxsc', 'itel budget smaphon with dual camera launch india httpstcoizxysnlw', 'post strong quaer market america grew cala which overal plung lgwing other concept devic distract icon brand must focu afford httpstcoqofwajpzf exit smaphon market after quaer losseshttpstcopwcjnjlsi wireless wifi wifi cellular oper spectrum rethinktechnolog cloud httpstcoztkzhmrzzh', 'smatecnholog smaphon smaphon smawatch smagadget smahom smahom android tablet with dual httpstconeriwffdh', 'samsung galaxi aseri smaphon with rotat camera httpstcozepbhfzih samsung galaxi with rotat popup camera product render samsung samsunggalaxya samsunga galaxya httpstcohwofwnmlp', 'itel budget smaphon with dual camera launch india imag content httpstcoijhaayjyk', 'oneplu ultramarin blue unlock android smaphon version ramgb storag fluid displayquad camera wireless charg httpstcoxmgusawli httpstcozkbbpvm', 'pioneer smaphon camera technolog india realmexpro xperiencethefutur realm', 'futur augmentedr mixedr viualreal tech smaphon innov devop busi industri femtech daysofcod httpstcoakrzhtoay futur augmentedr mixedr viualreal tech smaphon innov httpstcoixknzmf', 'xperia poabl high speed transmiss devic smaphon with hdmi input ole screen mmwave httpstcottgfmmunc httpstcokmmqmalzt', 'smaphon count tool power mobileapp aificialintellig deeplearn datasci javascript serverless womenintech daysofcod python linux digitaltransform baa cloudcomput neuralnetwork devcommun data count anyth with your smaphon thi aipow mobileapp aificialintellig machinelearn httpstcoxjmhsvgxsc', 'futur augmentedr mixedr viualreal tech smaphon innov devop busi industri femtech daysofcod futur augmentedr mixedr viualreal tech smaphon innov httpstcoixknzmf', 'wish could recommend thi phone more be water dust resist make sens that deal breaker most have thi phone just reignit excit smaphon tech pretti addict even work phone galaxi flip price drop perman samsung detail hidden featur httpstcovtkfilf httpstcolwzxffhmad', 'pioneer smaphon camera technolog india realmexpro xperiencethefutur realm', 'itel launch budget smaphon india with dual rear camera setup httpstcosgrcxnsli', 'exit smaphon market after quaer losseshttpstcopwcjnjlsi wireless wifi wifi cellular oper spectrum rethinktechnolog cloud httpstcoztkzhmrzzh', 'inch glass phone switch xbox pcmac more mixedr smaglass wearabl gamer busi industri smaphon femtech womenintech daysofcod httpstcodnwbrwrh inch glass phone switch xbox pcmac more httpstcoezllqydg mixedr smaglass wearabl httpstcoesamlqj', 'itsecur android disabl mobil network simcard caus unroot devic dont allow custom dnsserver chang prevent hidden redirect where hacker inject trojan locat reset smaphon weekli public wifi pegasu httpstcoonwvxzaxu', 'samsung galaxi smaphon will upgrad cheaper android iphon user switch today samsung galaxi devic have lower price than last year lineup come with improv camera httpstcoowmggsof saudiarabia saudi arabicemir httpstcozrilbwoeo', 'samsung galaxi smaphon will upgrad cheaper android iphon user switch today samsung galaxi devic have lower price than last year lineup come with improv camera httpstcoowmggsof saudiarabia saudi arabicemir httpstcozrilbwoeo', 'huawei dualsim onli cdma factori unlock glte smaphon black intern version httpstcovidvsfvi', 'exit smaphon market after quaer losseshttpstcopwcjnjlsi wireless wifi wifi cellular oper spectrum rethinktechnolog cloud httpstcoztkzhmrzzh', 'budget android smaphon oppo oppo vivo iqoo motorola edg plu launch with camera news hindi httpstcolqimysj', 'budget android smaphon oppo oppo vivo iqoo motorola edg plu launch with camera news hindi httpstcoxlwasgpn', 'game changer covid could soon have first overthecount athom covid test result your smaphon minut accuraci httpstcorblxwrlr', 'just check mani band been use mobil through compani offici websit phone specif directli smaphon compani through email twitter', 'pioneer smaphon camera technolog india realmexpro xperiencethefutur', 'follow thi advic iphon camera fullest techtip smaphon httpstcoauxmbr httpstcorcufzoi', 'just check mani band been use compani offici websit phone specif directli smaphon compani through email twitter', 'httpstcomkqjmvsmi xiaomi lite with surpris snapdragon xiaomi milit redmi tech technew technolog smaphon smaphon phone mobil gadget', 'koomu univers slot magnet cradleless smaphon mount holder iphon android devic singl order httpstcoosswhuscu android iphon phonemafia appl samsung game mobil automot car iphon httpstcodjcltdgx', 'thi could game changer long isnt cost prohibit could soon have first overthecount athom covid test result your smaphon minut accuraci httpstcorblxwrlr', 'enter lepow poabl monitor great pair with nintendo switch smaphon other game consol from httpstcoftkshkinoo', 'gon na thi reason stop do access camera smaphon style hyperr just felt pointless after awhil when camera could betterfast httpstcoskilucrcd feel aist would painstakingli recreat light moon fall across child brow when suddenli camera drop peopl becam disinterest realism dude would paint three triangl like thi woman', 'pioneer smaphon camera technolog india realmexpro xperiencethefutur realm', 'pioneer smaphon camera technolog india realmexpro xperiencethefutur', 'pioneer smaphon camera technolog india realmexpro xperiencethefutur', 'pioneer smaphon camera technolog india realmexpro xperiencethefutur realm', 'itel budget smaphon with dual camera launch india httpstcoavijrav', 'possibl samsung galaxi samsung file patent smaphon with rotat tripl camera that user also camera selfi samsung samsunggalaxya galaxya samsunga httpstcokglzyjmi', 'itel budget smaphon with dual camera launch india httpstcowthdgjr', 'small suggest those want readi phone befor buy phone just check mani band been use smaphon more than five band then good use suppo high speed connect', 'samsung galaxi factori unlock android cell phone version smaphon prograd camera space zoom night mode cloud white httpstcoduxkzktr httpstconrykugw', 'itel budget smaphon with dual camera launch india httpstcokmfbgfa', 'contest time much await contest live fizz with some contest game question first person guess answer right stand chanc oneplu smaphon fossil watch amazon cash voucher httpstcoklimruepto', 'would love thi iphon mini world smallest thinnest lightest phone complet with bionic fastest chip smaphon dualcamera system beauti super retina display httpstcogugvlbfu', 'asu phone appear multipl ceific site tripl camera snapdragon tip httpstcogdhmbaji leak imag asu phone imag credit weibo mysmapriceth asu smaphon with model asusida believ asu', 'hype around promis highspe smaphon data begun with enabl latest phone learn about technolog what mean latest blog gregori gundelfing connect httpstcozywhrfjve', 'itel launch entrylevel smaphon call itel india smaphon come with inch display quadcor processor dual rear camera itela httpstcomkatqixp', 'pioneer smaphon camera technolog india realmexpro xperiencethefutur realm pioneer smaphon camera technolog india giveaway repli use realmexpro answer correctli xperiencethefutur httpstcodvehgqv', 'samsung confirm that trio afford smaphon come soon with samsung galaxi be clear star galaxi samsung galaxi also land those want someth even cheaper httpstcoqohofgczm', 'realmexpro xperiencethefutur realm join friend pioneer smaphon camera technolog india giveaway repli use realmexpro answer correctli xperiencethefutur httpstcodvehgqv', 'tipster say oneplu nord smaphon will succeed nord httpstcojkzgdq', 'review wing smaphon httpstcoinmbwu through', 'pioneer smaphon camera technolog india realmexpro xperiencethefutur realm join', 'pioneer smaphon camera technolog india realmexpro xperiencethefutur realm join', 'itel budget smaphon with dual camera launch india httpstcongxyqddgi', 'samsung patent smaphon design with rotat popup camera modul httpstcovqfrmwwu', 'black shark game smaph surfset ceific citizip touch', 'news latestnew easi cell servicelock stylo smaphon black card includ httpstcovasbjtcgx', 'neither vike shaman punk januari congress overrun vike shaman itali govern collaps russian were throw snowbal polic stock market game kid with smaphon myanmar taken over militari coup still hour left', 'itel budget smaphon with dual camera launch india httpstcokesbb', 'itel budget smaphon with dual camera launch india httpstcowpjwiycnj', 'vulner protocol smaphon user risk ofattack accord inform secur research from posit technolog some network risk attack longstand vulner httpstcofxonjxb httpstcolyuddar httpstcobqkbqumlq', 'iphon mini world smallest thinnest lightest phone complet with bionic fastest chip smaphon dualcamera system beauti super retina display httpstcogugvlbfu', 'gelato tecno screen camera android oreo when come budget smaphon tecno nice design good look devic with aspect ratio onli httpstcodlpfojrwu httpstcoxarotiluu', 'pioneer smaphon camera technolog india realmexpro xperiencethefutur realm', 'samsung predict launch midrang smaphon thi februari known that phone galaxi httpstcoiprgyjo mikel clubhous mustafi obasanjo chloe hall break news myanmar xrpcommun', 'save money with smagat poal bundl gate control with smaphon dialtoopen vehicl detect option link httpstcohlqjsykey httpstcoxapoaup', 'pioneer smaphon camera technolog india realmexpro xperiencethefutur join', 'your camera smaphon readi collabor with will light prestigi malaysian landmark suppo those battl cancer worldwid captur thi moment event iamandiwil worldcancerday httpstcoyhdqipxx', 'game they head take eagl avila kansa citi httpstcoghyijzsiqd ksok smaphon httpstcolandzwqwk httpstcoxcgftgyz', 'experi unbeaten experi videographi with latest reno mobileindia smaphon mobil renoprog indianmemoir httpstcotmoqcqnjx', 'have younger brother that use smaphonesta take note social media content egwhen sta upload pac pictur pablo escobar call them mentor when sta quot lyric song like sinner imma game', 'samsung galaxi fold factori unlock android cell phone storag version smaphon tablet refin design flex mode mystic bronz httpstcotrydejddo httpstcoldmoyshi', 'pioneer smaphon camera technolog india xisthefutur realmexpro realmexseri pioneer smaphon camera technolog india giveaway repli use realmexpro answer correctli xperiencethefutur httpstcodvehgqv', 'samsung confirm that trio afford smaphon come soon with samsung galaxi be clear star galaxi samsung galaxi also land those want someth even cheaper httpstcofdvnryc', 'easi cell servicelock stylo smaphon black card includ', 'upgradeupd acer liquid marshmallow httpstcoevjmfojxfi liquid zhtml acer liquid android smaphon announc june featur capacit touchscreen camera bluetoothliquid', 'garei zero wallpap iphon iphon nokia httpstcowyqvcvxm anim smaphonewallpap httpstcorpxgwyoru', 'tecno screen camera android oreo when come budget smaphon tecno nice design good look devic with aspect ratio onli httpstcodlpfojrwu valentinesday httpstcoenkpvotnvu', 'sourc that devic could featur snapdragon processor poco pocoxpro qualcomm qualcommsnapdragon snapdragon processor smaphon mobil android technolog httpstcoeiinkxfggp', 'samsung galaxi seri smaphon with rotat camera httpstcovlahlea httpstconyuyhpmba', 'have younger brother that use smaphonesta take note social media content egwhen sta upload pac pictur pablo escobar call them mentor when sta quot lyric song like sinner imma game', 'galaxi note ultra best look smaphon music lover speaker', 'futur augmentedr mixedr viualreal tech smaphon innov httpstcotinbwzhgt futur augmentedr mixedr viualreal tech smaphon innov isserg httpstcoixknzmf', 'pioneer megapixel smaphon camera technolog india realmexpro xperiencethefutur realm', 'pioneer smaphon camera technolog india realmexpro xperiencethefutur', 'huawei lite smaphon dbloqu achet aiclehttpstcoqnsztejami httpstcojhlutvc amazon franc lyon pari folllow page ebay facbookhttpstcodmwbfywpv twitterhttpstcofmnqrbocn instagramhttpstcolnczrrz httpstcocoqssgblpl', 'gproduct deliveri black samsung galaxi smaphon android display inch punchhol rear camera tripl sensor selfi camera httpstcobuqkesiph httpstcopywwgrpbi', 'pioneer smaphon camera technolog india realmexpro xperiencethefutur realm join', 'pioneer smaphon camera technolog india realmexpro', 'pioneer smaphon camera technolog india realmexpro xperiencethefutur realm join', 'samsung galaxi unbox first look epic gamechang smaphon httpstcotiphxisao', 'more than billion peopl regularli smaphon with processor thi revolut began nearli year with first armpow handheld comput here stori what like there when first appl newton went sale thread httpstconlteni', 'oneplu look great hope that camera perform will super awesom thi time veri soon will abl lot budget friendli smaphon wait congratul winner gtufamili twitter telegram', 'upgradeupd acer liquid marshmallow httpstcoevjmfojxfi liquid html acer liquid android smaphon announc june featur capacit touchscreen camera bluetoothliquid', 'much here thank share thi techtip way more with your smaphon camera still use your phone camera onli selfi quick video your bare touch potenti httpstcosmsxnmi mitch', 'game they head take eagl avila kansa citi httpstcoghyijzsiqd ksok smaphon httpstcolandzwqwk httpstcoxcgftgyz', 'equip with dualcel technolog iqoo smaphon will launch second half year tech tipster repo httpstcopysovcwon latest tech news phone review game news iqoo innov digit tech technew iqoo', 'itel budget smaphon with dual camera launch india httpstcojjsfjelzti', 'pioneer smaphon camera technolog india realmexpro xperiencethefutur realm join', 'pioneer smaphon camera technolog india realmexpro xperiencethefutur realm join', 'upcom xiaomi midrang smaphon specif ole display singl punch hole snapdragon rear camera with zoom redmi note seri redmi seri redminotepro redmik redmi httpstcodosapzikm', 'pioneer smaphon camera technolog india realmexpro xperiencethefutur realm join pioneer smaphon camera technolog india giveaway repli use realmexpro answer correctli xperiencethefutur httpstcodvehgqv', 'samsung galaxi ultra dream smaphon', 'pioneer smaphon camera technolog india realmexpro xperiencethefutur realm join', 'what their major differ alway brosphonepa arriv clear thi phonerepair phonepa phonescreen brokenscreen iphon android appl samsung pixel flex charger camera smaphon fact electron ship httpstcolkgzinhd', 'pioneer smaphon camera technolog india realmexpro xperiencethefutur realm', 'lantronix sell snapdragon mobil hardwar with sta price truli aim develop just folk look singl board comput featur qualcomm smaphon processor', 'black shark smaphon game sou snapdragon immin httpstcosalzunnbc wordpress feedli', 'what their major differ alway brosphonepa arriv clear thi phonerepair phonepa phonescreen brokenscreen iphon android appl samsung pixel flex charger camera smaphon fact electron ship httpstcolkgzinhd', 'cover sever brand model from newest oldest model order your httpstcoopknzi phonerepair phonepa phonescreen brokenscreen iphon android appl samsung pixel flex charger camera smaphon fact electron ship httpstcobcoxanpf', 'pioneer quad smaphon camera technolog realmexpro experiencethefutur pioneer smaphon camera technolog india giveaway repli use realmexpro answer correctli xperiencethefutur httpstcodvehgqv', 'samsung predict launch midrang smaphon thi februari known that phone galaxi httpstcoiprgyjo mikel clubhous mustafi obasanjo chloe hall break news myanmar xrpcommun elon musk', 'samsung predict launch midrang smaphon thi februari known that phone galaxi httpstcoiprgyjo mikel clubhous mustafi obasanjo chloe hall break news myanmar xrpcommun elon musk', 'samsung confirm that trio afford smaphon come soon with samsung galaxi be clear star galaxi samsung galaxi also land those want someth even cheaper httpstcojakhyjuyt', 'global might launch afford smaphon india httpstcoefwnibmzi', 'itel budget smaphon with dual rear camera launch india price specif itel with inch fullscreen display batteri been launch india budgetfriendli smaphon price will avail amazon httpstcoooszdnmz', 'itel budget smaphon with dual camera launch india httpstcorunlrf', 'pioneer smaphon camera technolog india realmexpro xperiencethefutur pioneer smaphon camera technolog india giveaway repli use realmexpro answer correctli xperiencethefutur httpstcodvehgqv', 'smaphon samsung galaxi white camer quadrupl camera selfi httpstcoqnqnqvbdl', 'smaphon samsung galaxi white camera quadrupl camera selfi httpstcopvtkjybu', 'upgradeupd acer liquid marshmallow httpstcoevjmfojxfi liquid ehtml acer liquid android smaphon announc june featur capacit touchscreen camera bluetoothliquid', 'pioneer smaphon camera technolog india realmexpro pioneer smaphon camera technolog india giveaway repli use realmexpro answer correctli xperiencethefutur httpstcodvehgqv', 'samsung confirm that trio afford smaphon come soon with samsung galaxi be clear star galaxi samsung galaxi also land those want someth even cheaper httpstcoymzafuohl', 'poco launch tomorrow flipka know flipka price featur tech httpstcoygwjjryh latest tech news phone review game news pocom poco smaphon tech technew', 'variou announc have alreadi made their from smaphon from motorola gequip notebook from dell lenovo integr into car dronebas deliveri servic from verizon shape httpstcoogqpzjkm', 'suppos from last dungeon booni move staer town smaphon game httpstcoyhtdclbzw', 'samsung file patent smaphon with surpris camera setup httpstcoucgjwip samsung android news smaphon likelik likeforlik techblog technew futuretechnolog iphon world httpstcoucgjwip', 'itel budget smaphon with dual camera launch india httpstcokngel', 'oneplu nord tip next budget smaphon from brand httpstcobvsbxdnz mysmapric', 'samsung galaxi flip smfb dualsim factori unlock android smaphon mystic grey intern version httpstcoouendhnou galaxyzflip compact stylish devic pack with featur experi that will make your everyday routin easier simpler read some hidden featur galaxi flip httpstcokkrlenppu', 'pioneer smaphon camera technolog india xperiencethefutur realmexpro', 'pioneer smaphon camera technolog india xperiencethefutur realmexpro pioneer smaphon camera technolog india giveaway repli use realmexpro answer correctli xperiencethefutur httpstcodvehgqv', 'pioneer soni quad smaphon camera technolog india realmexpro xperiencethefutur httpstcolycrltd', 'samsung galaxi aseri smaphon with rotat camera render imag leak samsung samsunggalaxya galaxi rotatingcamera httpstcoxxugywxxh', 'samsung confirm that trio afford smaphon come soon with samsung galaxi be clear star galaxi samsung galaxi also land those want someth even cheaper httpstconzjxqrfu', 'thi still clear becaus microsoft releas game smaphon stream soon xbox will well realli clear well know probabl thi year what they go', 'huawei mate foldabl smaphon full specif huawei mate foldabl smaphon huawei foldabl smaphon expect introduc late februari leak china social media site weibo said that httpstcohuebjmigl', 'huawei mate foldabl smaphon full specif huawei mate foldabl smaphon full specificationshuawei mate foldabl smaphon full specif huawei foldabl smaphon expect introduc httpstcoocaggir', 'huawei mate foldabl smaphon full specif httpstcouqxspoqbz', 'samsung file patent smaphon with surpris camera setup httpstcoxpesma samsung android news smaphon likelik likeforlik techblog technew futuretechnolog iphon world gadget engin electron internet techhack media', 'pioneer smaphon camera technolog india realmexpro xperiencethefutur', 'pioneer smaphon camera technolog india realmexpro xperiencethefutur', 'mediatek oveak qualcomm chines smaphon market first timehttpstcoipccsckeo wireless wifi wifi cellular oper spectrum rethinktechnolog cloud httpstcobmpddpjkt', 'pioneer smaphon camera technolog india realmexpro xperiencethefutur realm', 'more xiaomi phone with primari camera launch thi year redmi hint multipl smaphon with camera launch thi year httpstcoxijssbzfq', 'pioneer smaphon camera technolog india realmexpro xperiencethefutur', 'global might launch afford smaphon india httpstcodswvdbrka', 'pioneer smaphon camera technolog india realmexpro xperiencethefutur', 'pioneer smaphon camera technolog india realmexpro xperiencethefutur', 'pioneer smaphon camera technolog india realmexpro xperiencethefutur', 'pioneer smaphon camera technolog india realmexpro xperiencethefutur', 'pioneer smaphon camera technolog india realmexpro xperiencethefutur', 'pioneer smaphon camera technolog india realmexpro xperiencethefutur', 'global might launch afford smaphon india httpstcoztftdjzkx', 'love thi filter quiz hope thi amaz smaphon undoubtedli best afford phone launch india realmexpro xperiencethefutur realm httpstcoslyysoyuz', 'pioneer smaphon camera technolog india realmexpro xperiencethefutur', 'pioneer smaphon camera technolog india realmexpro xperiencethefutur', 'pioneer smaphon camera technolog india realmexpro xperiencethefutur', 'pioneer smaphon camera technolog india realmexpro xperiencethefutur', 'pioneer smaphon camera technolog india realmexpro xperiencethefutur', 'pioneer smaphon camera technolog india realmexpro xperiencethefutur', 'umidigi smaphon umidigi global version helio octa core quad camera smaphon selfi cellphon origin priceu discount store coupon after discountsu httpstconptuoisln httpstcooqrwotaj', 'pioneer smaphon camera technolog india realmexpro xperiencethefutur', 'itel budget smaphon with dual rear camera launch india price specif httpstcowoxscf', 'pioneer smaphon camera technolog india realmexpro xperiencethefutur', 'mediatek oveak qualcomm chines smaphon market first timehttpstcoipccsckeo wireless wifi wifi cellular oper spectrum rethinktechnolog cloud httpstcobmpddpjkt', 'with chip mediatek aim lowercost smaphon technolog news firstpost reutersnov istbi stephen nelli reuter mediatek httpstcomhtvdel', 'access suppo smaphon from mediatek seem like will fill year what your thought excit phone httpstcofbmaweeec with chip mediatek aim lowercost smaphon technolog news firstpost reutersnov istbi stephen nelli reuter mediatek httpstcomhtvdel', 'tide wash center said blood makeup cosmet sheet alreadi know from blue women wore cosmet camera until instal cinema camera lens smaphon', 'dorland unicorn explosionproof smaphon rug smaphoneintrins safe industri hazard area android dual navig httpstcoxzpblmdr', 'appl bring icloud keychain extens googl chrome httpstcovoixpdpo appl android news smaphon likelik likeforlik techblog technew futuretechnolog iphon world gadget engin electron', 'redmi note from xiaomi give plenti smaphon your money with connect larg screen impress batteri life wrap packag that wont cost much appeal proposit bargain smaphon hunter', 'visibl capabl network provid emb decrypt solut into kleriti servic assur framework httpstcomhwwjxkdkn mobil wireless smaphon game busi iiot tech news encrypt httpstcovlfjtzfu', 'upgradeupd acer liquid jade marshmallow httpstcoevjmfojxfi liquid jadehtml acer liquid jade android smaphon announc june featur capacit touchscreen camera bluetoothliquid jade', 'origin unlock appl iphon fingerprint dualcor smaphon seal touch mobil phone httpstcohhctyfsk httpstcoonzlwjqnz', 'comment spec vivo mine mediatek helio processor android batteri smaphon brand vivo expand yseri with releas vivo india devic been price storag variant httpstconwsnogo', 'itel launch budget smaphon india with dual rear camera setup httpstcosgrcxnsli', 'coho retail investor buy sell equiti right from their smaphon view trade video game similar chase high score puzzl write httpstcoqramvf', 'black shark ass through tenaa httpstcodiurkemz backshark anwodphon likelik likeforlik techblog technew futuretechnolog futuretechnolog legin', 'xiaomi upcom smaphon spec ole display singl punch hole snapdragon rear camera with zoom redmi note seri redmi seri redminotepro redmik httpstcoctoahajypv', 'your smaphon becom your camera calcul wallet your bank herrin debit card appl samsung googl digitalwallet member fdic httpstcoxgcldkod', 'itel budget smaphon with dual camera launch india httpstcozkfujxo', 'black shark pass through tenaa httpstcodiurknbh backshark news news smaphon likelik likeeforlik techblog technew futuretechnolog phoner', 'black shark pass througt tenaa httpstcodiurknbh backshark news news smaphon likelik likeforlik techblog technew futuretechnolog futuretechnolog legin', 'itel budget smaphon with dual camera launch india httpstcosniuzbmjr', 'samsung take mraay smaphon httpstcooguvotud', 'tecno screen camera android oreo when come budget smaphon tecno nice design good look devic with aspect ratio onli httpstcoedixdnw valentinesday httpstcolypvbjow', 'bring pair smaphon with window httpstcoiqghlqzwa android news smaphon likelik likeforlik techblog technew futuretechnolog iphon world gadget engin electron internet techhack media', 'itel budget smaphon with dual camera launch india httpstcolucmjzeoij', 'champion great footi game smaphon help httpstcohzfqueft bfbchampion', 'samsung uniqu smaphon come will abl rotat popup camera back httpstconhthcfnqr', 'itel budget smaphon with dual rear camera launch india price specif httpstconypimq', 'will studi until samsung galaxi ultra phantom black variant samsungsultra becaus need smaphon attend onlin class exam need trust samsung world number smaphon brand', 'itel budget smaphon with dual rear camera launch india price specif httpstcopledwvwx', 'xiaomi lite could have periscop camera qualcomm chipset httpstcoimnycwlq xiaomi xiaomimi xiaomimilit qualcomm adroid mobil smaphon camera news technew technolog tech', 'android cell phone inch unlock smaphon dual quad core cheap ebay cellphonesandaccessori httpstcoekqmmnbfql', 'samsung confirm that trio afford smaphon come soon with samsung galaxi be clear star galaxi samsung galaxi also land those want someth even cheaper httpstcotsiqigfsxf', 'list upcom smaphon month februari httpstcoescsfxijl realmexpro realmex realmeracepro realmerac redminot redminotepro oppofindxpro oppoencox samsunga samsunggalaxi smaphon technew techblog blog blogger blogger', 'thi year redmi phone will have camera httpstcowcdaylb xiaomi redmik mobil smaphon android news technew tech tehnolog hardwar', 'comput window linux asu acer allbrand tech technolog greatpric greatdeal sale shop good cubot note quad camera smaphon gbgb inch android dual telephon celular httpstcohoggzxeedn', 'vivo global launch near surfac googl play consol httpstcobkvilthz android smaphon pakistan india vivo httpstcofqornciy', 'didnt have smaphon crisprsoci media know amazon bluetooth aifici intellig driverless carsstem cell research think last year have shown tremend leap technolog', 'comput window linux asu acer allbrand tech technolog greatpric greatdeal sale shop good cubot note quad camera smaphon gbgb inch android dual telephon celular httpstcohoggzxeedn', 'samsung galaxi smaphon will upgrad cheaper android iphon user switch today samsung galaxi devic have lower price than last year lineup come with improv camera httpstcopmtblpqnm saudiarabia saudi arabicemir', 'samsung galaxi smaphon will upgrad cheaper android iphon user switch today samsung galaxi devic have lower price than last year lineup come with improv camera httpstcopmtblpqnm saudiarabia saudi arabicemir', 'itel budget smaphon with dual camera launch india httpstcopfytmnbkr', 'huawei smaphon singl esim mobil phone ultra vision leica quad camera telephoto batteri huawei supercharg display silver httpstcotfzpgxxgj', 'itel budget smaphon with dual rear camera launch india price specif httpstcotlcrshannj', 'samsung patent smaphon design with rotat popup camera modul samsung httpstcotccqeigkg', 'use applic engin thi use aifici intellig count item captur your smaphon camera there mani templat choos from depend what your tri count anyth from steel bar concret blockhttpstcoxhtjfggl', 'poco smaphon launch india httpstcofgztxaqya pocom android camera budget smaphon poco gadget', 'atlant blue smaphon atlant blue smaphonekey featur rear camera qualcomm snapdragon processor readi intellig adaptivesync display batteri with httpstcogwdmmpr', 'itel budget smaphon with dual camera launch india httpstcoiuvgfooqj httpstcojshxxcuo', 'poco tip launch india februari smaphon indian variant receiv rheinland ceific last month poco spec includ snapdragon batteri sourc httpstcoofoyoeskc', 'wait final over samsung launch await samsung galaxi seri last month have review phone just read detail latest aicl httpstcoxpzxazzp telecom simcard smaphon mobil telecom samsung galaxi', 'velvet get stabl android updat repo httpstcozzdhavjnk velvet receiv stabl android updat repo android beta built smaphon releas last month', 'wait final over samsung launch await samsung galaxi seri last month have review phone just read detail latest aicl httpstcoxpzxazzp telecom simcard smaphon mobil telecom samsung galaxi', 'pioneer smaphon camera technolog india realmexpro xperiencethefutur realm', 'itel budget smaphon with dual camera launch india httpstcohtzww', 'pronounc wifi ralph pink hedgehog nod stop small park then show echidna phone thi smaphon with thi call peopl play game access internet httpstcosqayba', 'smaphon game phone httpstcozkfbzej', 'giveaway answer pioneer smaphon camera technolog india xperiencethefutur realmexpro pioneer smaphon camera technolog india giveaway repli use realmexpro answer correctli xperiencethefutur httpstcodvehgqv', 'giveaway answer pioneer smaphon camera technolog india xperiencethefutur realmexpro', 'bring pair smaphon with window httpstcoiprecebq android news smaphon likelik likeforlik techblog technew futuretechnolog iphon world gadget engin electron internet techhack media', 'today madeinnormandi mobil game monster free mobilegam mobilegam smaphon iphon', 'total wireless rebel prepaid smaphon lock black card includ cdma httpstcobieoglr mobilephon news industrynew latestnew latestindustrynew prnew', 'black shark smaphon game sou snapdragon immin httpstcomkubdsdk', 'pink hedgehog nod stop small park then show echidna phone thi smaphon with thi call peopl play game access internet httpstcosqayba station squar thi would first time walk through physic form blue eye wide with sight sound citi would never ceas amaz differ thing were matter year busi there mani peopl httpstcozoqniiy', 'samsung galaxi press render confirm premium design socal bezelless design becom standard today smaphon regardless whether they belong hightier galaxi just those httpstcoulzsarcdr httpstcoubppvggd', 'huge batteri good mediatek processor make thi budget smaphon sound realli promis what guy think smaphon brand vivo expand yseri with releas vivo india devic been price storag variant httpstconwsnogo', 'itel budget smaphon with dual camera launch india httpstcolmdhvzh', 'ratat pocketnova black shark game smapho surfset ceific ceific', 'oppo reno global launch close appear global ceific forum databas detail spec httpstcohrllefd android smaphon pakistan india oppo httpstcontmmwgctd', 'itel budget smaphon with dual camera launch india httpstcoowokalild', 'itel budget smaphon with dual camera launch india httpstcoeaktcneu', 'black shark pass through tenaa httpstcostkthugd backshark neww news techblog technew futuretechnolog futuretechnolog leghon techhact techhact techhack media httpstcokkbvtfa', 'boya lavali microphon smaphon canon nikon dslr camera camcord audio record httpstcoueoynibix', 'black shark pass through tenaa httpstcostkthugd backshark neww news techblog technew futuretechnolog futuretechnolog leghon techhact techhact techhack media', 'black shark game smaph surfset ceific citips matcuft', 'becausewebsitematt itel budget smaphon with dual rear camera launch india price specif httpstcogdcmkcak httpstcomspnvotnc', 'post nubia redmag best game smaphon thi httpstcodnfduuk', 'samsung galaxi aseri smaphon with rotat camera letsgodigit samsung galaxi with rotat popup camera samsunggalaxya samsunga galaxya samsungexyno exyno exynosg samsungexynosg exyno exynosg techsinghboy httpstconlzswgv', 'itel budget smaphon with dual rear camera launch india price specif httpstcombcpuuq iamthsiddhah httpstcokvvhodkxp', 'indestruct smaphon httpstcorpowfl teckexp appl crypto endsar binanc tech technew elon musk technolog fintech staup bitcoin designtwitt blockchain', 'samsung confirm that trio afford smaphon come soon with samsung galaxi be clear star galaxi samsung galaxi also land those want someth even cheaper httpstcorevzyupx', 'global soon launch afford smaphon india know detail aaaq news hindi httpstcoizmhncvuh', 'pioneer ultra mode smaphon camera technolog india realmexpro xperiencethefutur hope thi time realmexpro xperiencethefutur realm pioneer smaphon camera technolog india giveaway repli use realmexpro answer correctli xperiencethefutur httpstcodvehgqv', 'pioneer ultra mode smaphon camera technolog india realmexpro xperiencethefutur hope thi time realmexpro xperiencethefutur realm', 'googl pixel pixel pixel httpstcoebizqpvckb what differ googl pixel smaphon featur design sleek eleg camera audio perform batterylif tech clicon theclicon therobotmagazin httpstconqopbqiqsq', 'xiaomi isnt onli compani that tri suggest file patent korean giant also tri figur perfect smaphon camera design order phone display complet free notch punchhol camera while httpstcozsttbaq', 'answer pioneer soni smaphon camera technolog india futurex xperiencethefutur realmexpro realm biggest wish pioneer smaphon camera technolog india giveaway repli use realmexpro answer correctli xperiencethefutur httpstcodvehgqv', 'upgradeupd acer liquid marshmallow httpstcoevjmfojxfi liquid xhtml acer liquid android smaphon announc june featur capacit touchscreen camera bluetoothliquid', 'answer pioneer soni smaphon camera technolog india futurex xperiencethefutur realmexpro realm biggest wish', 'answer pioneer soni quad smaphon camera technolog india futurex xperiencethefutur realmexpro realm biggest wish', 'use applic engin thi use aifici intellig count item captur your smaphon camera there mani templat choos from depend what your tri count anyth from steel bar concret blockhttpstcoxhtjfggl', 'tecno screen camera android oreo when come budget smaphon tecno nice design good look devic with aspect ratio onli httpstcodlpfojrwu httpstcovzabkleeg', 'tecno screen camera android oreo when come budget smaphon tecno nice design good look devic with aspect ratio onli httpstcodlpfojrwu httpstcoxyyjhgbhno', 'pioneer futur smaphon camera technolog india realmexpro xperiencethefutur realm', 'pioneer smaphon camera technolog india realmexpro realli veri exit launch event', 'pioneer smaphon camera technolog india realmexpro xisthefutur xperiencethefutur futurex', 'which smaphon best camera iphon samsung galaxi ultra httpstcownlmssyu', 'black shark smaphon game sou snapdragon immin httpstcoyxlyogymq blackshark httpstcohlizdhcoo', 'black shark game smapho surfset ceific citizip patcotwrift', 'from network deploy what impact will have integr with smaphon analyst discuss progress made develop implement technolog implic will have cost much more ubsresearch shareub', 'axon could first smaphon with camera httpstcogilcolrfb camera android androiddev trend trendingnow technolog technew tech smanew smaphon news newsupd newsmax newspick latestnew updat latest', 'samsung confirm that trio afford smaphon come soon with samsung galaxi be clear star galaxi samsung galaxi also land those want someth even cheaper httpstcoawdtynr', 'samsung launch variant galaxi with snapdragon processor follow tech updat pleas credit content hastag iphonepromax iphonepro appl smaphon technew techsmax techsmaxupd techsmaxteam httpstcokfdlltqh', 'samsung launch variant galaxi with snapdragon processor follow tech updat pleas credit content hastag iphonepromax iphonepro appl smaphon technew techsmax techsmaxupd techsmaxteam httpstcokfdlltqh', 'smaphon samsung galaxi white camer quadrupl camera selfi httpstcozunfvmeol', 'smaphon samsung galaxi white camera quadrupl camera selfi httpstcoiphjuih', 'nikon dslr camera with zoom lens card accessori bundl nikon great camera beginn equip with apsc cmo imag sensor that time larger than smaphon nikon signatu httpstcobqhmvwktbp', 'from network deploy what impact will have integr with smaphon analyst discuss progress made develop implement technolog implic will have cost much more ubsresearch shareub', 'pioneer smaphon camera technolog india realmexpro xperiencethefutur', 'oneplu next afford smaphon name httpstcovionomwmm oneplu oneplusnord nordng oneplusnordn nordng oneplu budgetphon snapdragon snapdragonsoc android smaphon tech tripontech httpstcotybpgnwn', 'zhiyun offici crane gimbal smaphon mirrorless action compact camera stabil code rduc ofbc gearbest coupon httpstcoaorjrfyp httpstcoeusnhqij', 'pioneer smaphon camera technolog india realmexpro realm xisthefutur xperiencethefutur', 'vulner protocol smaphon user risk ofattack accord inform secur research from posit technolog some network risk attack longstand vulner httpstcofxonjxb httpstcolyuddar httpstcobqkbqumlq', 'some seriou effo gone into make thi excit jermain creativ prowess chang otherwis quit standard unbox game samsunggalaxi smaphon lifestyl technolog tech here samsung galaxi ultra unbox find look confus thi differ httpstcocqeihdtotq appreci cours samsunggalaxysultra httpstcootcayujb', 'pioneer smaphon camera technolog india xperiencethefutur realmexpro', 'pioneer smaphon camera technolog india xperiencethefutur realmexpro', 'clipon smaphon dslr camcord audio record read more httpstcofscccgvm game microphon httpstcofoabbcyek', 'samsung galaxi smaphon will upgrad cheaper android iphon user switch today samsung galaxi devic have lower price than last year lineup come with improv camera httpstcoohtqrqxi saudiarabia saudi arabicemir httpstcouamkovbzr', 'clipon smaphon dslr camcord audio record read more httpstcofscccgvm game microphon httpstcofoabbcyek', 'samsung galaxi smaphon will upgrad cheaper android iphon user switch today samsung galaxi devic have lower price than last year lineup come with improv camera httpstcoohtqrqxi saudiarabia saudi arabicemir httpstcouamkovbzr', 'samsung samsung samsung launch three smaphon india soon samsung love suppo page galaxi galaxi galaxi websit', 'selfi camera smaphon camera camera selfi lover sta from realm samsung galaxi redmi note these mpie camera smaphon httpstcorwyxulnao', 'samsung galaxi smaphon with camera less than thousand price httpstcocxdaejitm', 'samsung galaxi smaphon with camera less than thousand price httpstcoalymvlvmj', 'samsung galaxi smaphon with camera less than thousand price httpstcogwfiuusxu', 'cheap smaphon price moto learn price httpstcohslrmszkvc', 'cheap smaphon price moto learn price httpstcoerilk', 'cost cheap smaphon moto much that price smaphon compani motorola motorola launch india most cheap smaphon last month motorola decreas price moto month later compani price moto httpstcocvgybtrh', 'cost cheap smaphon moto much that price smaphon compani motorola motorola launch india most cheap smaphon last month motorola decreas price moto month later compani price moto', 'cheapest smaphon reduc price moto price httpstcoxtgxjedpb join whatsapp group join httpstcostkhcurc join telegram group join http tcokjwjubdst join signal group httpstcooepxkyx', 'cheapest smaphon httpstcobfeuzbo', 'cheap smaphon rate moto much price httpstcojajzxbii', 'cheapest smaphon rate moto much price httpstcojajzxbii', 'cheapest smaphon httpstcogyamvcmq httpstconnjihtk', 'xiaomi budget smaphon redmi note will launch today these featur will found phone here live launch httpstconyskiyegn', 'xiaomi budget smaphon redmi note will launch today these featur will found phone live launch httpstcooxvhpug', 'shaomi launch smaphon januari thi fifth devic seri rest month where there flagship processor like snapdragon thi member equip with snapdragon processor tech httpstcoulthadri', 'shaomi launch smaphon januari thi fifth devic seri rest month where there flagship processor like snapdragon thi member equip with snapdragon processor tech httpstcoulthadri', 'vivo cheap smaphon vivo leak price attach featur httpstcophmkngh', 'xiaomi redmi note acquir best budget camera smaphon award httpstcojalchcttm', 'onli smaphon were among them includ vivo motorola moto nokia engin novemb indian smaphon compani micromax also sta second inning bring smaphon from brand httpstcourhmjxrdc', 'learn first cell moto smaphon sta from flipka learn price discount offer httpstcoawxjvquk', 'onli smaphon were among them includ vivo motorola moto nokia engin novemb indian smaphon compani micromax also sta second inning bring smaphon from brand httpstcourhmjxrdc', 'moto launch india cheapest smaphon learn pricefix motogg httpstcojknulah', 'moto launch india cheapest smaphon learn pricefix httpstcofvmtznlci', 'smaphon launch moto just price phone httpstcoqzcxhlk', 'india come vivo thinnest smaphon will surpris know about httpstcoasposoun', 'realm launch screen rang smaphon httpstcodlvxosbk', 'realm launch rang with display smaphon httpstcosppenqgmx', 'realm launch rang with display smaphon httpstcosppenqgmx', 'tech care guid these four smaphon avail budget thousand camera inch display will httpstcorsjzeqaiw', 'mediatek dimens unveil budget smaphon need know httpstcoxqhuiabcoa', 'mediatek dimens unveil budget smaphon need know httpstcoxmyjklvl', 'today give list those best camera smaphon here which easili smaphon technolog techblog httpstcotauajlk httpstcojwspppwrj', 'went ramudoctor ramudoctor sahab veri sluggish alway keep sleep doctorthi smaphon with facebook whatsapp twitter instal with connect will', 'ramudoctor went doctor ramudoctor sahab veri sluggish alway keep sleep doctorthes smaphon facebook whatsapp twitter instal with connect will fine', 'redmi smaphon launch soon indian market repo xiaomi redmi smaphon httpstcohwzrmd redmikg', 'samsung cheapest smaphon galaxi launch three color variant pricefeatur galaxi launch memori variant four thi phone click full content httpstcohebhxih', 'oneplu smaphon will launch octob know what special httpstcowxcqf dunia whole world', 'samsung galaxi fold entir smaphon experi tell httpstcoujusjwfz', 'googl budget smaphon join googl camera googl camera httpstcoayoltfbz', 'sidci polit develop unemploy play movi smaphon today have seen mani young peopl have seen again mppolicenotificationdedo mppolicebhainotificationd officefssc drnarottammisra jmscindia aajtak', 'cottag polit develop unemploy play will taken away from real issu today have seen much young seen again mppolicenotificationdedo mppolicebhainotificationd', 'yikiidwonwj mprevenuedeptt gsrajput tie polit smaphon play unemploy patwaribipuritro chouhanshivraj bjpmp jmscindia incmp narendramodi incmp drnarottammisra bhargavgop newsmp ibcnew zeempcg abpnew ndtvindia jitupatwari incmp httpstcovndakloo', 'leader onlin thi period studi social equal been huge push which most poor children unabl digit class thi main reason smaphon doe have network place mani have money data', 'presid onlin thi period studi social equal huge push which most poor children unabl digit class thi main reason smaphon there network place mani have money data', 'neoojlhqscihc gsrjput tie polit play unemploy smaphon patwaribipurikro chouhanshivraj bjpmp jmscindia incmp narendramodi incmp drnarottammisra bhargavgop newsmp abpnew newsbans ibcnew architguptajii sandeepbhmarkar httpstcohymuchvafi', 'yikiidwonwj drnarottammisra tie polit play unemploy smaphon ptwaribipurikro chouhanshivraj bjpmp jmscindia gsrajput incmp narendramodi bjpindia bhargavgop newsmp ibcnew dainikbhaskar zeempcg abpnew jitupatwari vishvassarang httpstcoeqjnzkcuw', 'mash smaphon play develop unemploy tie bureaucraci modi rozgardo httpstcopuivjbzhgl', 'what phone processor httpstconxrhoxjdym what phone processor most impoant processor phone hardwar smaphon fast perform depend core frequenc', 'sanjayi sushil jmscindia sandeepbhmarkar sandeepbhmarkar tie polit smaphon play unemploy patwaribipetikro chouhanshivraj bjpmp incmp narendramodi drnarottammisra bhargavgop bhargavgop jitupatwari officeofknath rajneeshn shobhaoza zeempcg newsmp httpstcouliypa', 'gsrajput tie polit smaphon play unemploy patwaribipurikro chouhanshivraj bjpmp jmscindia incmp narendramodi incmp drnarottammisra bhargavgop newsmp abpnew newsbans ibcnew architguptajii sandeepbhmarkar httpstcohymuchvafi', 'sanjayi drnarottammisra tie polit play unemploy smaphon ptwaribipurikro chouhanshivraj bjpmp jmscindia gsrajput incmp narendramodi bjpindia bhargavgop jitupatwari vishvassarang newsmp ibcnew dainikbhaskar zeempcg abpnew httpstcohlazztqjn', 'educ polit develop unemploy play smaphon patwaribipetikro bjpmp incmp narendramodi drnarottammisra bhargavgop bhargavgop jitupatwari officeofknath rajneeshn shobhaoza zeempcg newsmp httpstcouliypa', 'gsrajput develop polit play unemploy smaphon patwaribipuritro chouhanshivraj bjpmp jmscindia incmp narendramodi incmp drnarottammisra bhargavgop newsmp ibcnew zeempcg abpnew ndtvindia jitupatwari incmp httpstcovndakloo', 'jyotijadon develop polit tie unemploy play smaphon patwaribipuritro chouhanshivraj bjpmp jmscindia gsrajput incmp narendramodi bjpindia drnarottammisra bhargavgop', 'tie polit play unemploy smaphon ptwaribipurikro bjpmp jmscindia gsrajput incmp narendramodi bjpindia bhargavgop jitupatwari vishvassarang newsmp ibcnew dainikbhaskar zeempcg abpnew httpstcohlazztqjn', 'tie polit play unemploy smaphon ptwaribipurikro bjpmp jmscindia gsrajput incmp narendramodi bjpindia bhargavgop newsmp ibcnew dainikbhaskar zeempcg abpnew jitupatwari vishvassarang httpstcoeqjnzkcuw', 'countri request those youth play pubg other game their smaphon name game onli poorli spoil their health futur use chines also harm countri play bodi game healthi stay mast', 'develop polit tie cottag smaphon play unemploy patwaribipuritro bjpmp jmscindia gsrajput incmp narendramodi bjpindia drnarottammisra bhargavgop', 'develop polit develop unemploy play smaphon patwaribipurikro bjpmp jmscindia gsrajput incmp narendramodi bjpindia drnarottammisra bhargavgop httpstcoxikqldixsg', 'develop polit smaphon play unemploy patwaribipurikro bjpmp jmscindia gsrajput incmp narendramodi bjpindia drnarottammisra bhargavgop httpstcoxikqldixsg', 'problem clear wait there problem do rest patwaribipuriko gsrajput bhargavgop zeempcg sandeepbhmarkar abpnew incmp bjpmp httpstcohueslnuv develop polit smaphon play unemploy patwaribipuritro bjpmp gsrajput incmp narendramodi bjpindia drnarottammisra bhargavgop', 'problem clear wait there problem do rest patwaribipuritro gsrajput bhargavgop zeempcg sandeepbhmarkar abpnew incmp bjpmp httpstcohueslnuv httpstcozjfw develop polit smaphon play unemploy patwaribipuritro bjpmp gsrajput incmp narendramodi bjpindia drnarottammisra bhargavgop', 'jyotijadon troubl clear wait problem do rest patwaribipuriko jmscindia chouhanshivraj gsrajput bhargavgop zeempcg sandeepbhmarkar abpnew incmp bjpmp httpstcohueslnuv develop polit smaphon play unemploy patwaribipuritro chouhanshivraj bjpmp jmscindia gsrajput incmp narendramodi bjpindia drnarottammisra bhargavgop', 'develop polit smaphon play unemploy patwaribipuritro bjpmp jmscindia gsrajput incmp narendramodi bjpindia drnarottammisra bhargavgop', 'mediatek dimens launch midrang smaphon httpstcoymcuxngyh', 'mediatek dimens launch midrang smaphon httpstcovulcpltc', 'taiwan compani asu launch with phone game smaphon qualcomm snapdragon processor term game consid most power smaphon game httpstcogxdrztmi', 'smaphon these smaphon arriv befor technolog know their price featur httpstcosebeiwpt', 'develop androidbas googl econom smaphon with googl mukesh ambani want that india will soon mukt present afford smaphon run androidbas oper system technolog', 'confirm snapdragon processor oneplu nord will httpstcoujomkeu oneplu hope your midrang smaphon some time name handset detect oneplu nord still avail preorder even limit custom', 'mediatek design helio helio chipset budgetgam smaphon httpstcojsjnulhq', 'qualcomm snapdragon midrang mobil processor httpstcokoijxki qualcomm announc first mobil platform seri wednesday qualcomm snapdragon whose target suppo even more midrang bring smaphon qualcomm said that', 'india will launch soon motorola fusion plu smaphon super batteri camera with httpstcomtpxmyvi motorola', 'here appl smaphon price httpstcowwnkwxfjw', 'polit develop unemploy tie smaphon card mppolicebhai norentforstudentsinmp', 'game these budget smaphon learn processor full inform httpstcowmiqywhnuo', 'close polit develop unemploy play smaphon anitachoudhari brchoudhari incomprehens', 'peopl have seen bharat ratna sachin tendulkar play smaphon from game happybihdaysachin', 'samsung work smaphon equip with megapixel camera sensor which more power than human eye samsung sevensetech httpstcokkuop httpstcofgfnummuot', 'these smaphon make magiga pixel camera human eye samsung megapixel httpstcocfspnacewr httpstcogxvdpjqb', 'anitachoudhari know do some truth thi polit close cottag develop unemploy play smaphon anitachoudhari medicineviewbiscr', 'xiaomi lite smaphon launch launch price specif light four camera launch price httpstcoixcrivyw', 'poronix introduc biolog home with fingerprint sensor poronix launch smaphon open camera month remedi batteri minut charg httpstcoyjxjtvymri', 'nokia smaphon launch launch price specif hindi nokia launch with four camera learn price httpstcoufacdew', 'thi smaphon oppo get rupe camera httpstcokjgzawnk', 'thi smaphon oppo get rupe camera httpstcokjgzawnk', 'most motorola smaphon be launch with processor plu there qualiti that smaphon then doe appear display adveis with hype', 'forgot perhap addit these name count chandrayaan manufactur smaphon their countri safe border defens deal rafael biggest thing make beggar along with tear pakistan thi pappu', 'first smaphon india launch realm super watt with snapdragon processor dual front have been launch with back wide angl quad camera price been kept', 'vivo smaphon will launch china februari specif design vivo vivoz read more httpstcozxsoudxov', 'smifon', 'smaphon smaphon smaphon camera photographi phone mobil photpraphi phone mobil httpstcooptclni', 'smaphon smaphon smaphon camera photographi phone mobil photographi phone mobil httpstcofhtzfzmg', 'jldi laao abhi abhi smaphon kaam rahe hain will soon', 'will knock soon xiaomi miultra smaphon will suppo dual screen read httpstcotqfdzhxtoc gadgetnew mimobil', 'abhi abhi smaphon kaam rahe hain will soon', 'million devic activ countri commerci launch still left technew smaphon httpstcouaozdexu', 'countri activ million devic commerci launch still left technew smaphon httpstcouaozdexu', 'manukumarjay thi year go veri', 'oppo reno smaphon launch soon global market oppo reno smaphon will launch global market soon learn price httpstcoouyzlcd', 'micromax also go launch these product well phone learn here micromaxisback inmobil micromaxg gphone smaphon india micromaxinnot android madeinindia swadai china httpstcotwhfvexj', 'came xiaomi camera powerhous movi also shoot xiaomi technologynew technew smaphon httpstcoyoveofjq', 'prabhjo oppomobileindia sahil bhaiya dimens wale smaphon pubg nahi chalega karn load jyada padta mean safe smaphon', 'world cheapest smaphon realm launch realm launch world cheapest smaphon learn price httpstcofqjtrrdv', 'samsung cheapest smaphon know price specif httpstcolhgqnlonna', 'flagship smaphon xiaomi redmi naya smaphon lene liy paisa nahi mein network problem raha wifi chala raha hoon lekin mobil abhi mast xiaomiredmix httpstcowbkdhkba', 'cheapestgphon world cheapest smaphon learn price featur smaphon realmev httpstcoqmqmaonwd', 'illus about pleas ignor myth smaphon technolog techtrick httpstcoaaclqxwcaj', 'sahib bent sell them give everi dual smaphon must have bsnl life cheaper plan betr voic qualiti vrk emerg hayr network coverag sneachk sdopjtrr famldagp adavijay dnnjaybsnl aegetochk aeteaindia snattachq idesibanda durgeshg httpstcougvibosc', 'realm most cheap smaphon present countri look less than thousand price cheapest smaphon realm oneplu nord moto xiaomi httpstcosohluyaa', 'selfi camera smaphon strong smaphon with front camera selfi lover sta from realm samsung galaxi redmi note these selfi camera smaphon httpstcogsoahawamf', 'gurujii love from kolkata bihar kayaunki main fauji mere liy smaphon rakhna allow kayaunki usm camera hota aisa smaphon hone sath camera pleas suggest', 'nahh like karlo hazam bhai centuri bach smaphon gener baap centuri waal rahe ayegi problem hogi ism compromis nahi sakt', 'should first mmwave suppo that should smaphon anyway will veri much impoant that good that phone invest much mmwave suppo smaphon recharg', 'launch smaphon vivo vivo sseri vivostg smaphon httpstcokiieekzldk', 'gyanthiri budget around should abl wait other smaphon there carrier aggreg also realm', 'realm launch india cheapest phone will seen see featur httpstcohgwkzzu realmexpro realmex realmexseri smaphon', 'realm launch cheap phone learn featur price bestsmaphon realm realmenewphon realmenewphonelaunch realmevg smaphon httpstcobbuijugji', 'would like replac review realm smafon', 'oppo smaphon launch know specif oppo smaphon launch tripl rear camera setup power batteri httpstcomshwtxjgx', 'launch with finest featur with uniqu design opporenopro smaphon httpstcomvsnhdxay', 'world first snapdragon chipset phone motorola launch smaphon motorolaedg httpstcoytczqvo', 'mere smaphon life sahi saathi banati iski long last batteri connect agar dono apn saathi safar hoga smooth khaa itelsmaphon', 'oppo reno smaphon launch soon global market oppo reno smaphon will launch global market soon learn price httpstcolqovnvn', 'smaphon have come within thousand will also bring smaphon cheaper than nokia read these repo smaphon nokia httpstcoofkihlk', 'make cheap phone govern will make expens put varieti text modigovt smaphon have come within thousand will also bring smaphon cheaper than nokia read these repo smaphon nokia httpstcoofkihlk', 'smaphon have come within thousand will also bring smaphon cheaper than nokia read these repo smaphon nokia httpstcoofkihlk', 'smaphon under quad rear camera batteri less than thousand these strong smaphon list quad camera smaphon under custom realm poco redmi prime like mobil http tcokkvgqdttqa', 'camera xiaomi smaphon becam cheap learn here price featur mipric mpcameraphon smaphon httpstcogmrwthezn', 'camera xiaomi smaphon becam cheap learn here price featur mipric mpcameraphon smaphon httpstcogmrwthezn', 'couldnt that even while sit delhi kuchh logo paa smaphon hain unh raha unka chhin raha jink paa nahi kare', 'network countri whether will phone httpstcopwvfgrlx aielg aiel bhaiaiel network mobil smaphon trend', 'realm smaphon with model number spot tenaa specif design tip good news will launch soon realm cheap mobil special design power batteri httpstcoikygadlmt', 'card sath phone dena kuch mahin pahl smaphon liya', 'rupe cheaper', 'motorola edg smaphon launch with strong processor equip with camera suppo suppo solut dge motolaca motodg mobil smaphon cellphon gadget camera specif httpstco dnwsulyaxl', 'nokia will soon launch smaphon quicksilv nokia will launch smaphon quickli these fantast featur httpstcomdrjsdibc', 'these smaphon user launch user game januari india httpstcoiwdhafewd', 'oppo smaphon launch latest smaphon mobileindia indonesia oppozen mobil mobil carein mobiletr opporenopro smaphon medhajnew httpstcomgwolol', 'ptvsp faida pichley saaloun gala phaar phar drnaaumanniaz rhey hain faida main smaphon captur ptvsp main', 'honor price upcom smaphon price specif smaphon honor will launch with high chip mediatek full inform httpstcomigmtav honorv honor httpstcoyxmzirco', 'soni smaphon aayga futur mein andar smaphon aayega pleas question pick karna bohut dino raha hoon askruhez', 'relianc jiocar phone phone phone smaphon jiasmaphon smaphon jiasmaphon smaphon jiotsmaphon smaphon jiomaphon smaphon jiomaphon smaphon jiosmaphon smaphon jismaphon smaphon jiomaphon smaphon jiomaphon smaphon josmaphon smaphon joxmaphon smaphon httpstcowlxriwbajw', 'lunar tronictech askarun smafon should use', 'catch', 'poco smaphon snapdragon processor httpstconozjx poco smaphon', 'plzzz question smaphon primari camera rahta photo click karn liy hume alag option diya jata normali photo lete kitn lete sawal main baht pucha aps', 'plzzz question smaphon primari camera rahta photo click option diya jata hume kitn lete sawal main baht pucha aps', 'mere kamrey mein main khud rehta mere smaphon mere laptop chaiy baath wifi router with rath sabhi seri dikth muje', 'namastey mukul sharma aapka subscrib gpphotostudio baat raha mujh oppo reno smaphon acha special camera mere paa itna cost nahi kharid agar second dete mere liy acha hota', 'oppo smaphon launch know specif oppo smaphon launch tripl rear camera setup snapdragon processor httpstcoqvfljuqr', 'abhi naam smaphon compani rahe hain extra price madangaikwad freshfound odiatechno justlalit asksnehasish techmob httpstcoczudszrc', 'abhi naam smaphon compani rahe hain extra price madangaikwad freshfound odiatechno justlalit asksnehasish techmob httpstcoczudszrc', 'poco smaphon snapdragon processor poco smaphon found snapdragon processor compani gave these inform httpstcobqjsdkgm', 'oppo reno smaphon launch india know specif oppo reno smaphon launch india learn price specif httpstcoaetxsnxjq', 'just post blog smaphon india next smaphon want thi best option price sta from htpstcoexwqmxx', 'hmaar indian smaphon brand kuch seekho waalo apn custom suno kitn time rahe hain front camera mein pocox mein lekin nahi inh everyth need waali dialogu baazi krni micromaxindia httpstcovckycsqf', 'bug krne mein jaan nikal jaati sbki taaki hume smaphon krne liy encourag pocox pocompro band baja rkhi pocox mein ultrawid mode mein night mode diya nahi naahi frnt camera mein', 'hmaar indian smaphon brand kuch seekho waalo apn custom suno kitn time rahe hain front camera mein pocox mein lekin nahi inh everyth need waali dialogu baazi krni micromaxindia httpstcovckycsqf', 'bug krne mein jaan nikal jaati sbki taaki hume smaphon krne liy encourag pocox pocompro band baja rkhi pocox mein ultrawid mode mein night mode diya nahi naahi frnt camera mein', 'smaphon india smaphon india want these best option sta from smaphon india here list from moto samsung galaxi http jdgfogi', 'smaphon india next smaphon want these best option price from htpstcodehabaql', 'tecno launch camera with smaphon dual selfi httpstcohffrwakf price', 'smaphon india next smaphon want then these best option sta from httpstcocbubjfykv', 'tumhar custom tums pareshan realm tatti phone httpstcodhwannacla beingarsalan nahi realm hoon bahot pareshan hoon realm phone mistak diya lelo best xiaomi smaphon saal kiya hoon redmi note best xiaomi bhir poco', 'beingarsalan nahi realm hoon bahot pareshan hoon realm phone mistak diya lelo best xiaomi smaphon saal kiya hoon redmi note best xiaomi bhir poco realmemobil realmecarein', 'whatsap feesninamelung mother kali power devot specialist specialistpremewheet power pack opporynopro smaphon with industryfirst highlight video mediatek dimens chipset borderless sens screen more infinit experi avail onli sale sta preorder httpstcohtewpaopd httpstcomvhijaea', 'flagship mean smaphon baap jais ultra iphon', 'guruji mera question nahi uthat mera sawal samsung baad smaphon layega suppo karega bologuruji tgfamili', 'student mujh onlin class karen smaphon jarurat mere pass phone hone kare meri onlin class chhut rahi kripya meri madad kare main aapka abhari rhunga let take respons countri children httpstcosccbnkvu', 'samsung launch cheapest smaphon price featur samsung samsunggalaxyag smaphon gsmaphon httpstcopabahftl', 'askruhez bataiy abhi phone lena sahi hoga pleas explain updat smaphon conv sakta compani smaphon launch rahi', 'samsung compani soon launch your mobil phone galaxya smaphon httpstcoebgsuorc', 'year these smaphon shock know price featur httpstcoltjuzcvdj', 'launch india vivo tripl rear camera snapdragon price specif smaphon vivo newsupd httpstcodahnxtfru', 'oneplu smaphon have qualiti camera plu phone camera break httpstcocxkjsvisp', 'camera laga kahanj khatam dheer dheer increas kiy alag dslr free smaphon saath wese smaphon choda camera launch', 'oppo reno will launch januari oppo smaphon opporenoprog launchingthjan httpstcoprjpuqzrxl', 'guruji guruji budget smaphon will come when meet', 'pleas dont camera realm smaphon that same technolog', 'qualcomm snapdragon bring suppo afford smaphon snapdragon will launch countri cheap smaphon camera equip with these featur httpstcodacqguwabp', 'tvbharatvarsh these best smaphon found budget here complet list smaphon technew budget httpstcojqpwltr', 'micromaxindia lava smaphon compani also creat smaphon should also work teachenolog', 'best smaphon under realm thousand rupe cheap today httpstcotfukyjwpmj', 'these best smaphon found budget here complet list smaphon technew budget httpstcojqpwltr', 'said right four peopl sit room talk anyon your phone destroy thi smaphon smaphon alreadi replac camera calendar notebook alarm clock life dont them replac famili mahherambha', 'assalamualaikum warahmatullahi wabarakatuhu ruhez bhai mera sawaal micromax lava smaphon launch karegen with acchi featur saath price mera dursa sawaal bsnl launch kare jaldi india bade kasi askruhez lagao sunday liy chahe sawaal kariy', 'realm smaphon launch after long wait will surpris know price realmev smaphon httpstcohylgkst', 'smaphon will gadget also cheap gsmaphon medhajnew httpstcofmgluvmdaj', 'upcom smaphon will come with latest qualcomm snapdragon processor which go smaphon launch indian market these smaphon will launch market with good batteri backup life which httpstcoaicmelc httpstcoaensld', 'iwkw chines mobil compani realmi launch realm smaphon smaphon httpstcoyhxcfsco', 'chines mobil compani realmi launch realm smaphon smaphon httpstcoyhxcfsco', 'realm launch dhansu phone realmev segment thi phone launch with mediatek dimens processor fast charg primari rear camera sensor whose price thousand rupe technew techal tech smaphon httpstcoiwcrlbmxfh', 'xiaomi launch india cheapest phone httpstcoblqprihd busi indialaunchxiaomimii xiaomi smaphon buis httpstcobejycmft', 'chines mobil compani realmi launch realm smaphon smaphon httpstcoyhxcfsco', 'aapn phone galat choos liya haisorri phone layak sirf sirf processor karan hang haifilh set jake auto updat dijiy usk aan wale tareek smaphon lijiyebewar samsung will tell phone happen samsung galaxi memori twitter come frequent', 'when will bhaibg come india dosto mein aapko bahot sare smaphon dekhn mileng with uniqu video technolog kyoki futur video karog mein phone gvideo videoisfuth httpstcojpfpbka httpstcovieuvrbuob']\n"
          ],
          "name": "stdout"
        }
      ]
    },
    {
      "cell_type": "markdown",
      "metadata": {
        "id": "z8OIatB5WBV1"
      },
      "source": [
        "**Text analysis using Textblob**"
      ]
    },
    {
      "cell_type": "code",
      "metadata": {
        "id": "p-QKR0UxbhsN"
      },
      "source": [
        "from textblob import TextBlob\n",
        "\n",
        "def sentiment_analysis(df):\n",
        "\n",
        "  def getSubjectivity(text):\n",
        "    return TextBlob(text).sentiment.subjectivity\n",
        "\n",
        "  def getPolarity(text):\n",
        "    return TextBlob(text).sentiment.polarity\n",
        "    \n",
        "  df['TextBlob_Subjectivity'] = df['Tweet'].apply(getSubjectivity)\n",
        "  df['TextBlob_Polarity'] = df['Tweet'].apply(getPolarity)\n",
        "\n",
        "  def getAnalysis(score):\n",
        "    if score < 0:\n",
        "      return 'Negative'\n",
        "    else:\n",
        "      return 'Positive'\n",
        "\n",
        "  df['TextBlob_Analysis'] = df['TextBlob_Polarity'].apply(getAnalysis )\n",
        "\n",
        "  return df"
      ],
      "execution_count": 92,
      "outputs": []
    },
    {
      "cell_type": "code",
      "metadata": {
        "colab": {
          "base_uri": "https://localhost:8080/",
          "height": 289
        },
        "id": "48NsTIGjpxch",
        "outputId": "3a42e8d0-7d25-4c3b-8398-1ba647fed7fa"
      },
      "source": [
        "data_tweets = sentiment_analysis(data_tweets)\n",
        "data_tweets.head()"
      ],
      "execution_count": 93,
      "outputs": [
        {
          "output_type": "execute_result",
          "data": {
            "text/html": [
              "<div>\n",
              "<style scoped>\n",
              "    .dataframe tbody tr th:only-of-type {\n",
              "        vertical-align: middle;\n",
              "    }\n",
              "\n",
              "    .dataframe tbody tr th {\n",
              "        vertical-align: top;\n",
              "    }\n",
              "\n",
              "    .dataframe thead th {\n",
              "        text-align: right;\n",
              "    }\n",
              "</style>\n",
              "<table border=\"1\" class=\"dataframe\">\n",
              "  <thead>\n",
              "    <tr style=\"text-align: right;\">\n",
              "      <th></th>\n",
              "      <th>Tweet_ID</th>\n",
              "      <th>Tweet</th>\n",
              "      <th>Mobile_Tech_Tag</th>\n",
              "      <th>TextBlob_Subjectivity</th>\n",
              "      <th>TextBlob_Polarity</th>\n",
              "      <th>TextBlob_Analysis</th>\n",
              "    </tr>\n",
              "  </thead>\n",
              "  <tbody>\n",
              "    <tr>\n",
              "      <th>3000</th>\n",
              "      <td>tweet_3001</td>\n",
              "      <td>samsung make anoth addit into seri word that u...</td>\n",
              "      <td>1</td>\n",
              "      <td>0.750000</td>\n",
              "      <td>0.700000</td>\n",
              "      <td>Positive</td>\n",
              "    </tr>\n",
              "    <tr>\n",
              "      <th>3001</th>\n",
              "      <td>tweet_3002</td>\n",
              "      <td>want hand galaxi samsung galaxi ultra most pre...</td>\n",
              "      <td>1</td>\n",
              "      <td>0.616667</td>\n",
              "      <td>0.466667</td>\n",
              "      <td>Positive</td>\n",
              "    </tr>\n",
              "    <tr>\n",
              "      <th>3002</th>\n",
              "      <td>tweet_3003</td>\n",
              "      <td>thi next level camera galaxi samsung galaxi ul...</td>\n",
              "      <td>1</td>\n",
              "      <td>0.411111</td>\n",
              "      <td>0.311111</td>\n",
              "      <td>Positive</td>\n",
              "    </tr>\n",
              "    <tr>\n",
              "      <th>3003</th>\n",
              "      <td>tweet_3004</td>\n",
              "      <td>trick googl home mini onli without timesprim c...</td>\n",
              "      <td>1</td>\n",
              "      <td>0.426667</td>\n",
              "      <td>-0.110000</td>\n",
              "      <td>Negative</td>\n",
              "    </tr>\n",
              "    <tr>\n",
              "      <th>3004</th>\n",
              "      <td>tweet_3005</td>\n",
              "      <td>pioneer smaphon camera technolog india realmex...</td>\n",
              "      <td>1</td>\n",
              "      <td>0.000000</td>\n",
              "      <td>0.000000</td>\n",
              "      <td>Positive</td>\n",
              "    </tr>\n",
              "  </tbody>\n",
              "</table>\n",
              "</div>"
            ],
            "text/plain": [
              "        Tweet_ID  ... TextBlob_Analysis\n",
              "3000  tweet_3001  ...          Positive\n",
              "3001  tweet_3002  ...          Positive\n",
              "3002  tweet_3003  ...          Positive\n",
              "3003  tweet_3004  ...          Negative\n",
              "3004  tweet_3005  ...          Positive\n",
              "\n",
              "[5 rows x 6 columns]"
            ]
          },
          "metadata": {
            "tags": []
          },
          "execution_count": 93
        }
      ]
    },
    {
      "cell_type": "code",
      "metadata": {
        "colab": {
          "base_uri": "https://localhost:8080/"
        },
        "id": "vQ72YU0Q8nUH",
        "outputId": "89f9a2a0-6f92-4b55-ad1d-b32c606ca88f"
      },
      "source": [
        "!pip install afinn"
      ],
      "execution_count": 97,
      "outputs": [
        {
          "output_type": "stream",
          "text": [
            "Collecting afinn\n",
            "\u001b[?25l  Downloading https://files.pythonhosted.org/packages/86/e5/ffbb7ee3cca21ac6d310ac01944fb163c20030b45bda25421d725d8a859a/afinn-0.1.tar.gz (52kB)\n",
            "\r\u001b[K     |██████▎                         | 10kB 13.6MB/s eta 0:00:01\r\u001b[K     |████████████▌                   | 20kB 16.9MB/s eta 0:00:01\r\u001b[K     |██████████████████▊             | 30kB 10.2MB/s eta 0:00:01\r\u001b[K     |█████████████████████████       | 40kB 8.9MB/s eta 0:00:01\r\u001b[K     |███████████████████████████████▏| 51kB 5.6MB/s eta 0:00:01\r\u001b[K     |████████████████████████████████| 61kB 3.4MB/s \n",
            "\u001b[?25hBuilding wheels for collected packages: afinn\n",
            "  Building wheel for afinn (setup.py) ... \u001b[?25l\u001b[?25hdone\n",
            "  Created wheel for afinn: filename=afinn-0.1-cp37-none-any.whl size=53451 sha256=e8c99a6aa65c81599f34389c9d3a137f74797a8969abd5e0b481452f029e1e06\n",
            "  Stored in directory: /root/.cache/pip/wheels/b5/1c/de/428301f3333ca509dcf20ff358690eb23a1388fbcbbde008b2\n",
            "Successfully built afinn\n",
            "Installing collected packages: afinn\n",
            "Successfully installed afinn-0.1\n"
          ],
          "name": "stdout"
        }
      ]
    },
    {
      "cell_type": "markdown",
      "metadata": {
        "id": "ml8cblyc7Um0"
      },
      "source": [
        "**Sentiment Analysis using Afinn**"
      ]
    },
    {
      "cell_type": "code",
      "metadata": {
        "colab": {
          "base_uri": "https://localhost:8080/",
          "height": 612
        },
        "id": "EhutI7Dtp-Rt",
        "outputId": "908f8ac5-7ed0-45b7-e854-49c8caefdcf3"
      },
      "source": [
        "from afinn import Afinn\n",
        "\n",
        "afinn = Afinn()\n",
        "afinn_scores = [afinn.score(tweet) for tweet in data_tweets['Tweet']]\n",
        "data_tweets['afinn'] = afinn_scores\n",
        "\n",
        "sentiment=[]\n",
        "for score in afinn_scores:\n",
        "  if score>0:\n",
        "    sentiment.append(1)\n",
        "  elif score==0:\n",
        "    sentiment.append(0)\n",
        "  else:\n",
        "    sentiment.append(-1)\n",
        "\n",
        "data_tweets[\"sentiments\"] = sentiment\n",
        "\n",
        "data_tweets.head()"
      ],
      "execution_count": 123,
      "outputs": [
        {
          "output_type": "execute_result",
          "data": {
            "text/html": [
              "<div>\n",
              "<style scoped>\n",
              "    .dataframe tbody tr th:only-of-type {\n",
              "        vertical-align: middle;\n",
              "    }\n",
              "\n",
              "    .dataframe tbody tr th {\n",
              "        vertical-align: top;\n",
              "    }\n",
              "\n",
              "    .dataframe thead th {\n",
              "        text-align: right;\n",
              "    }\n",
              "</style>\n",
              "<table border=\"1\" class=\"dataframe\">\n",
              "  <thead>\n",
              "    <tr style=\"text-align: right;\">\n",
              "      <th></th>\n",
              "      <th>Tweet_ID</th>\n",
              "      <th>Tweet</th>\n",
              "      <th>Mobile_Tech_Tag</th>\n",
              "      <th>TextBlob_Subjectivity</th>\n",
              "      <th>TextBlob_Polarity</th>\n",
              "      <th>TextBlob_Analysis</th>\n",
              "      <th>afinn</th>\n",
              "      <th>sentiments</th>\n",
              "    </tr>\n",
              "  </thead>\n",
              "  <tbody>\n",
              "    <tr>\n",
              "      <th>3000</th>\n",
              "      <td>tweet_3001</td>\n",
              "      <td>samsung make anoth addit into seri word that u...</td>\n",
              "      <td>1</td>\n",
              "      <td>0.750000</td>\n",
              "      <td>0.700000</td>\n",
              "      <td>Positive</td>\n",
              "      <td>4.0</td>\n",
              "      <td>1</td>\n",
              "    </tr>\n",
              "    <tr>\n",
              "      <th>3001</th>\n",
              "      <td>tweet_3002</td>\n",
              "      <td>want hand galaxi samsung galaxi ultra most pre...</td>\n",
              "      <td>1</td>\n",
              "      <td>0.616667</td>\n",
              "      <td>0.466667</td>\n",
              "      <td>Positive</td>\n",
              "      <td>3.0</td>\n",
              "      <td>1</td>\n",
              "    </tr>\n",
              "    <tr>\n",
              "      <th>3002</th>\n",
              "      <td>tweet_3003</td>\n",
              "      <td>thi next level camera galaxi samsung galaxi ul...</td>\n",
              "      <td>1</td>\n",
              "      <td>0.411111</td>\n",
              "      <td>0.311111</td>\n",
              "      <td>Positive</td>\n",
              "      <td>2.0</td>\n",
              "      <td>1</td>\n",
              "    </tr>\n",
              "    <tr>\n",
              "      <th>3003</th>\n",
              "      <td>tweet_3004</td>\n",
              "      <td>trick googl home mini onli without timesprim c...</td>\n",
              "      <td>1</td>\n",
              "      <td>0.426667</td>\n",
              "      <td>-0.110000</td>\n",
              "      <td>Negative</td>\n",
              "      <td>2.0</td>\n",
              "      <td>1</td>\n",
              "    </tr>\n",
              "    <tr>\n",
              "      <th>3004</th>\n",
              "      <td>tweet_3005</td>\n",
              "      <td>pioneer smaphon camera technolog india realmex...</td>\n",
              "      <td>1</td>\n",
              "      <td>0.000000</td>\n",
              "      <td>0.000000</td>\n",
              "      <td>Positive</td>\n",
              "      <td>0.0</td>\n",
              "      <td>0</td>\n",
              "    </tr>\n",
              "  </tbody>\n",
              "</table>\n",
              "</div>"
            ],
            "text/plain": [
              "        Tweet_ID  ... sentiments\n",
              "3000  tweet_3001  ...          1\n",
              "3001  tweet_3002  ...          1\n",
              "3002  tweet_3003  ...          1\n",
              "3003  tweet_3004  ...          1\n",
              "3004  tweet_3005  ...          0\n",
              "\n",
              "[5 rows x 8 columns]"
            ]
          },
          "metadata": {
            "tags": []
          },
          "execution_count": 123
        }
      ]
    },
    {
      "cell_type": "code",
      "metadata": {
        "colab": {
          "base_uri": "https://localhost:8080/",
          "height": 173
        },
        "id": "j3dPgCOmBBEI",
        "outputId": "7c9af3ba-5b43-496e-f61b-c6b88b410953"
      },
      "source": [
        "pd.crosstab(data_tweets[\"sentiments\"], data_tweets[\"afinn\"])"
      ],
      "execution_count": 124,
      "outputs": [
        {
          "output_type": "execute_result",
          "data": {
            "text/html": [
              "<div>\n",
              "<style scoped>\n",
              "    .dataframe tbody tr th:only-of-type {\n",
              "        vertical-align: middle;\n",
              "    }\n",
              "\n",
              "    .dataframe tbody tr th {\n",
              "        vertical-align: top;\n",
              "    }\n",
              "\n",
              "    .dataframe thead th {\n",
              "        text-align: right;\n",
              "    }\n",
              "</style>\n",
              "<table border=\"1\" class=\"dataframe\">\n",
              "  <thead>\n",
              "    <tr style=\"text-align: right;\">\n",
              "      <th>afinn</th>\n",
              "      <th>-5.0</th>\n",
              "      <th>-4.0</th>\n",
              "      <th>-3.0</th>\n",
              "      <th>-2.0</th>\n",
              "      <th>-1.0</th>\n",
              "      <th>0.0</th>\n",
              "      <th>1.0</th>\n",
              "      <th>2.0</th>\n",
              "      <th>3.0</th>\n",
              "      <th>4.0</th>\n",
              "      <th>5.0</th>\n",
              "      <th>6.0</th>\n",
              "      <th>7.0</th>\n",
              "      <th>8.0</th>\n",
              "      <th>12.0</th>\n",
              "    </tr>\n",
              "    <tr>\n",
              "      <th>sentiments</th>\n",
              "      <th></th>\n",
              "      <th></th>\n",
              "      <th></th>\n",
              "      <th></th>\n",
              "      <th></th>\n",
              "      <th></th>\n",
              "      <th></th>\n",
              "      <th></th>\n",
              "      <th></th>\n",
              "      <th></th>\n",
              "      <th></th>\n",
              "      <th></th>\n",
              "      <th></th>\n",
              "      <th></th>\n",
              "      <th></th>\n",
              "    </tr>\n",
              "  </thead>\n",
              "  <tbody>\n",
              "    <tr>\n",
              "      <th>-1</th>\n",
              "      <td>3</td>\n",
              "      <td>1</td>\n",
              "      <td>2</td>\n",
              "      <td>5</td>\n",
              "      <td>16</td>\n",
              "      <td>0</td>\n",
              "      <td>0</td>\n",
              "      <td>0</td>\n",
              "      <td>0</td>\n",
              "      <td>0</td>\n",
              "      <td>0</td>\n",
              "      <td>0</td>\n",
              "      <td>0</td>\n",
              "      <td>0</td>\n",
              "      <td>0</td>\n",
              "    </tr>\n",
              "    <tr>\n",
              "      <th>0</th>\n",
              "      <td>0</td>\n",
              "      <td>0</td>\n",
              "      <td>0</td>\n",
              "      <td>0</td>\n",
              "      <td>0</td>\n",
              "      <td>423</td>\n",
              "      <td>0</td>\n",
              "      <td>0</td>\n",
              "      <td>0</td>\n",
              "      <td>0</td>\n",
              "      <td>0</td>\n",
              "      <td>0</td>\n",
              "      <td>0</td>\n",
              "      <td>0</td>\n",
              "      <td>0</td>\n",
              "    </tr>\n",
              "    <tr>\n",
              "      <th>1</th>\n",
              "      <td>0</td>\n",
              "      <td>0</td>\n",
              "      <td>0</td>\n",
              "      <td>0</td>\n",
              "      <td>0</td>\n",
              "      <td>0</td>\n",
              "      <td>30</td>\n",
              "      <td>34</td>\n",
              "      <td>25</td>\n",
              "      <td>12</td>\n",
              "      <td>3</td>\n",
              "      <td>11</td>\n",
              "      <td>2</td>\n",
              "      <td>1</td>\n",
              "      <td>1</td>\n",
              "    </tr>\n",
              "  </tbody>\n",
              "</table>\n",
              "</div>"
            ],
            "text/plain": [
              "afinn       -5.0   -4.0   -3.0   -2.0   ...   6.0    7.0    8.0    12.0\n",
              "sentiments                              ...                            \n",
              "-1              3      1      2      5  ...      0      0      0      0\n",
              " 0              0      0      0      0  ...      0      0      0      0\n",
              " 1              0      0      0      0  ...     11      2      1      1\n",
              "\n",
              "[3 rows x 15 columns]"
            ]
          },
          "metadata": {
            "tags": []
          },
          "execution_count": 124
        }
      ]
    },
    {
      "cell_type": "code",
      "metadata": {
        "colab": {
          "base_uri": "https://localhost:8080/",
          "height": 173
        },
        "id": "Fz1-m6S37q6I",
        "outputId": "e802dff6-2c50-4b4f-bb2e-c994fc5ed068"
      },
      "source": [
        "#ignoring the tweets which are not relevant\n",
        "tweets_relevant = data_tweets[data_tweets[\"sentiments\"] != 'not_relevant']\n",
        "\n",
        "#computing the confusion matrix\n",
        "confusion = pd.crosstab(np.sign(tweets_relevant[\"sentiments\"]), np.sign(tweets_relevant[\"afinn\"]))\n",
        "confusion"
      ],
      "execution_count": 128,
      "outputs": [
        {
          "output_type": "execute_result",
          "data": {
            "text/html": [
              "<div>\n",
              "<style scoped>\n",
              "    .dataframe tbody tr th:only-of-type {\n",
              "        vertical-align: middle;\n",
              "    }\n",
              "\n",
              "    .dataframe tbody tr th {\n",
              "        vertical-align: top;\n",
              "    }\n",
              "\n",
              "    .dataframe thead th {\n",
              "        text-align: right;\n",
              "    }\n",
              "</style>\n",
              "<table border=\"1\" class=\"dataframe\">\n",
              "  <thead>\n",
              "    <tr style=\"text-align: right;\">\n",
              "      <th>afinn</th>\n",
              "      <th>-1.0</th>\n",
              "      <th>0.0</th>\n",
              "      <th>1.0</th>\n",
              "    </tr>\n",
              "    <tr>\n",
              "      <th>sentiments</th>\n",
              "      <th></th>\n",
              "      <th></th>\n",
              "      <th></th>\n",
              "    </tr>\n",
              "  </thead>\n",
              "  <tbody>\n",
              "    <tr>\n",
              "      <th>-1</th>\n",
              "      <td>27</td>\n",
              "      <td>0</td>\n",
              "      <td>0</td>\n",
              "    </tr>\n",
              "    <tr>\n",
              "      <th>0</th>\n",
              "      <td>0</td>\n",
              "      <td>423</td>\n",
              "      <td>0</td>\n",
              "    </tr>\n",
              "    <tr>\n",
              "      <th>1</th>\n",
              "      <td>0</td>\n",
              "      <td>0</td>\n",
              "      <td>119</td>\n",
              "    </tr>\n",
              "  </tbody>\n",
              "</table>\n",
              "</div>"
            ],
            "text/plain": [
              "afinn       -1.0   0.0   1.0\n",
              "sentiments                  \n",
              "-1            27     0     0\n",
              " 0             0   423     0\n",
              " 1             0     0   119"
            ]
          },
          "metadata": {
            "tags": []
          },
          "execution_count": 128
        }
      ]
    },
    {
      "cell_type": "code",
      "metadata": {
        "colab": {
          "base_uri": "https://localhost:8080/"
        },
        "id": "qDphRuow-liI",
        "outputId": "274483d0-63e2-4106-fb5a-b339da1821a5"
      },
      "source": [
        "accuracy_3_class = np.sum(np.diag(confusion)) / np.sum(confusion.values)\n",
        "accuracy_3_class"
      ],
      "execution_count": 129,
      "outputs": [
        {
          "output_type": "execute_result",
          "data": {
            "text/plain": [
              "1.0"
            ]
          },
          "metadata": {
            "tags": []
          },
          "execution_count": 129
        }
      ]
    },
    {
      "cell_type": "code",
      "metadata": {
        "colab": {
          "base_uri": "https://localhost:8080/",
          "height": 142
        },
        "id": "avn0cD3KCC3m",
        "outputId": "8ae82e64-8127-4b25-803a-03825b70a286"
      },
      "source": [
        "confusion_2_class = confusion.iloc[[0, 2], [0, 2]]\n",
        "confusion_2_class"
      ],
      "execution_count": 130,
      "outputs": [
        {
          "output_type": "execute_result",
          "data": {
            "text/html": [
              "<div>\n",
              "<style scoped>\n",
              "    .dataframe tbody tr th:only-of-type {\n",
              "        vertical-align: middle;\n",
              "    }\n",
              "\n",
              "    .dataframe tbody tr th {\n",
              "        vertical-align: top;\n",
              "    }\n",
              "\n",
              "    .dataframe thead th {\n",
              "        text-align: right;\n",
              "    }\n",
              "</style>\n",
              "<table border=\"1\" class=\"dataframe\">\n",
              "  <thead>\n",
              "    <tr style=\"text-align: right;\">\n",
              "      <th>afinn</th>\n",
              "      <th>-1.0</th>\n",
              "      <th>1.0</th>\n",
              "    </tr>\n",
              "    <tr>\n",
              "      <th>sentiments</th>\n",
              "      <th></th>\n",
              "      <th></th>\n",
              "    </tr>\n",
              "  </thead>\n",
              "  <tbody>\n",
              "    <tr>\n",
              "      <th>-1</th>\n",
              "      <td>27</td>\n",
              "      <td>0</td>\n",
              "    </tr>\n",
              "    <tr>\n",
              "      <th>1</th>\n",
              "      <td>0</td>\n",
              "      <td>119</td>\n",
              "    </tr>\n",
              "  </tbody>\n",
              "</table>\n",
              "</div>"
            ],
            "text/plain": [
              "afinn       -1.0   1.0\n",
              "sentiments            \n",
              "-1            27     0\n",
              " 1             0   119"
            ]
          },
          "metadata": {
            "tags": []
          },
          "execution_count": 130
        }
      ]
    },
    {
      "cell_type": "code",
      "metadata": {
        "colab": {
          "base_uri": "https://localhost:8080/"
        },
        "id": "TrMu78aHCXex",
        "outputId": "434ab5de-dad0-4bbc-cb20-8c0ff2f376cb"
      },
      "source": [
        "accuracy_2_class = np.sum(np.diag(confusion_2_class)) / np.sum(confusion_2_class.values)\n",
        "accuracy_2_class"
      ],
      "execution_count": 131,
      "outputs": [
        {
          "output_type": "execute_result",
          "data": {
            "text/plain": [
              "1.0"
            ]
          },
          "metadata": {
            "tags": []
          },
          "execution_count": 131
        }
      ]
    },
    {
      "cell_type": "code",
      "metadata": {
        "id": "4eA6l4nVCboS"
      },
      "source": [
        ""
      ],
      "execution_count": null,
      "outputs": []
    }
  ]
}